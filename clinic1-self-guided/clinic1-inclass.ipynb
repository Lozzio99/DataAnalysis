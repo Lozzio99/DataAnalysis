{
 "cells": [
  {
   "cell_type": "markdown",
   "metadata": {
    "nbpresent": {
     "id": "50a40f10-f4b6-4dd3-b7aa-c63ed3ca3244"
    },
    "slideshow": {
     "slide_type": "slide"
    },
    "pycharm": {
     "name": "#%% md\n"
    }
   },
   "source": [
    "# Data Analysis\n",
    "\n",
    "# Clinic1: Exploratory Data Analysis\n",
    "\n",
    "In this clinic, first we will:\n",
    "\n",
    "* Cover a short intro to pandas series and dataframes\n",
    "* Learn how to read in and write files\n",
    "\n",
    "Then we will start learning the following that you will optimally practice during the clinic deliverable tasks :\n",
    "\n",
    "* Load files and systematically check their integrity\n",
    "* Parse columns in the dataframe to create new dataframe columns\n",
    "* Create and interpret visualizations to explore the data set"
   ]
  },
  {
   "cell_type": "markdown",
   "metadata": {
    "pycharm": {
     "name": "#%% md\n"
    }
   },
   "source": [
    "# 1. The Pandas Library: Series"
   ]
  },
  {
   "cell_type": "markdown",
   "metadata": {
    "pycharm": {
     "name": "#%% md\n"
    }
   },
   "source": [
    "Pandas is a popular library for manipulating vectors, tables, and time series. We will frequently use Pandas data structures instead of the built-in python data structures, as they provide much richer functionality. Also, Pandas is **fast**, which makes working with large datasets easier.  Check out the official pandas website at [http://pandas.pydata.org/](http://pandas.pydata.org/).\n",
    "\n",
    "This tutorial is partially based on the [excellent book by Matt Harrison](https://www.amazon.com/Learning-Pandas-Library-Analysis-Visualization-ebook/dp/B01GIE03GW/).\n",
    "\n",
    "When you work with Pandas, it's handy to have a [cheat sheet](https://pandas.pydata.org/Pandas_Cheat_Sheet.pdf) lying around. \n",
    "\n",
    "Pandas provides three data structures: \n",
    "\n",
    " * the **series**, which represents a single column of data similar to a python list\n",
    " * the **data frame**, which represents multiple series of data\n",
    " * the **panel**, which represents multiple data frames\n",
    " \n",
    "We'll mostly work with series and data frames and largely ignore panels. We will start with the series. \n",
    "\n",
    "Pandas should already be part of your anaconda installation. If not, simply run:\n",
    "\n",
    "```\n",
    "$ conda install pandas\n",
    "```\n",
    "\n",
    "To make pandas available, we'll import the module into this notebook. It is customary to import pandas as `pd`:"
   ]
  },
  {
   "cell_type": "code",
   "execution_count": 1,
   "metadata": {
    "pycharm": {
     "name": "#%%\n"
    }
   },
   "outputs": [],
   "source": [
    "import pandas as pd"
   ]
  },
  {
   "cell_type": "markdown",
   "metadata": {
    "pycharm": {
     "name": "#%% md\n"
    }
   },
   "source": [
    "Series are the most fundamental data structure in pandas. Let's create two simple series based on an arrays:"
   ]
  },
  {
   "cell_type": "code",
   "execution_count": 2,
   "metadata": {
    "pycharm": {
     "name": "#%%\n"
    }
   },
   "outputs": [
    {
     "data": {
      "text/plain": "0        Stones\n1       Beatles\n2      Zeppelin\n3    Pink Floyd\ndtype: object"
     },
     "execution_count": 2,
     "metadata": {},
     "output_type": "execute_result"
    }
   ],
   "source": [
    "bands = pd.Series([\"Stones\", \"Beatles\", \"Zeppelin\", \"Pink Floyd\"])\n",
    "bands"
   ]
  },
  {
   "cell_type": "code",
   "execution_count": 3,
   "metadata": {
    "pycharm": {
     "name": "#%%\n"
    }
   },
   "outputs": [
    {
     "data": {
      "text/plain": "0    1962\n1    1960\n2    1968\n3    1965\ndtype: int64"
     },
     "execution_count": 3,
     "metadata": {},
     "output_type": "execute_result"
    }
   ],
   "source": [
    "founded = pd.Series([1962, 1960, 1968, 1965])\n",
    "founded"
   ]
  },
  {
   "cell_type": "markdown",
   "metadata": {
    "pycharm": {
     "name": "#%% md\n"
    }
   },
   "source": [
    "When we output these objects we can see an index, also called an axis, which by default is an integer sequence starting at 0, and the associated values. \n",
    "\n",
    "| Index | Value | \n",
    "| - | - |\n",
    "| 0  |        Stones\n",
    "|1   |    Beatles\n",
    "|2  |    Zeppelin\n",
    "|3 |    Pink Floyd\n",
    "\n",
    "Pandas also tells us the data type of the values, `object` for the first series – in this case, this is a string, `int64` (a 64-bit integer) for the second.\n",
    "\n",
    "Notice that `int64` is not a Python datatype, but a C integer of 64 bit length – which, unlike Python integers – can overflow!\n",
    "\n",
    "We can also use other data types as indices, in which case the series behaves a lot like a dictionary:"
   ]
  },
  {
   "cell_type": "code",
   "execution_count": 4,
   "metadata": {
    "pycharm": {
     "name": "#%%\n"
    }
   },
   "outputs": [
    {
     "data": {
      "text/plain": "Stones        1962\nBeatles       1960\nZeppelin      1968\nPink Floyd    1965\nPink Floyd    2012\nName: Bands founded, dtype: int64"
     },
     "execution_count": 4,
     "metadata": {},
     "output_type": "execute_result"
    }
   ],
   "source": [
    "# the data is the first parameter, the index is given by the index keyword\n",
    "bands_founded = pd.Series([1962, 1960, 1968, 1965, 2012],\n",
    "                          index=[\"Stones\", \"Beatles\", \"Zeppelin\", \"Pink Floyd\", \"Pink Floyd\"], \n",
    "                          name=\"Bands founded\")\n",
    "bands_founded"
   ]
  },
  {
   "cell_type": "markdown",
   "metadata": {
    "pycharm": {
     "name": "#%% md\n"
    }
   },
   "source": [
    "| Index | Value | \n",
    "| - | - |\n",
    "| Stones     |    1962\n",
    "| Beatles    |    1960\n",
    "| Zeppelin     |  1968\n",
    "| Pink Floyd |    1965\n",
    "| Pink Floyd |    2012\n",
    "\n",
    "Here we see something interesting: We've used the same index (Pink Floyd) twice, once for the original founding of the band, and once for the re-union starting in 2012. Also, the order of the entries is preserved. \n",
    "\n",
    "A series is both, a list and a dictionary! "
   ]
  },
  {
   "cell_type": "markdown",
   "metadata": {
    "pycharm": {
     "name": "#%% md\n"
    }
   },
   "source": [
    "We can access the values of an array by printing the member `values`."
   ]
  },
  {
   "cell_type": "code",
   "execution_count": 5,
   "metadata": {
    "pycharm": {
     "name": "#%%\n"
    }
   },
   "outputs": [
    {
     "data": {
      "text/plain": "array(['Stones', 'Beatles', 'Zeppelin', 'Pink Floyd'], dtype=object)"
     },
     "execution_count": 5,
     "metadata": {},
     "output_type": "execute_result"
    }
   ],
   "source": [
    "bands.values"
   ]
  },
  {
   "cell_type": "markdown",
   "metadata": {
    "pycharm": {
     "name": "#%% md\n"
    }
   },
   "source": [
    "And we can look at how the index is composed:"
   ]
  },
  {
   "cell_type": "code",
   "execution_count": 6,
   "metadata": {
    "pycharm": {
     "name": "#%%\n"
    }
   },
   "outputs": [
    {
     "data": {
      "text/plain": "RangeIndex(start=0, stop=4, step=1)"
     },
     "execution_count": 6,
     "metadata": {},
     "output_type": "execute_result"
    }
   ],
   "source": [
    "bands.index"
   ]
  },
  {
   "cell_type": "markdown",
   "metadata": {
    "pycharm": {
     "name": "#%% md\n"
    }
   },
   "source": [
    "What we see here is that this isn't an explicit list, but rather a set of rules, similar to the ranges we've already worked with. \n",
    "\n",
    "Let's compare this to the index where we used explicit labels:"
   ]
  },
  {
   "cell_type": "code",
   "execution_count": 7,
   "metadata": {
    "pycharm": {
     "name": "#%%\n"
    }
   },
   "outputs": [
    {
     "data": {
      "text/plain": "Index(['Stones', 'Beatles', 'Zeppelin', 'Pink Floyd', 'Pink Floyd'], dtype='object')"
     },
     "execution_count": 7,
     "metadata": {},
     "output_type": "execute_result"
    }
   ],
   "source": [
    "bands_founded.index"
   ]
  },
  {
   "cell_type": "markdown",
   "metadata": {
    "pycharm": {
     "name": "#%% md\n"
    }
   },
   "source": [
    "We can access individual entries as we'd access an array or a dictionary:"
   ]
  },
  {
   "cell_type": "code",
   "execution_count": 8,
   "metadata": {
    "pycharm": {
     "name": "#%%\n"
    }
   },
   "outputs": [
    {
     "data": {
      "text/plain": "'Stones'"
     },
     "execution_count": 8,
     "metadata": {},
     "output_type": "execute_result"
    }
   ],
   "source": [
    "bands[0]"
   ]
  },
  {
   "cell_type": "code",
   "execution_count": 9,
   "metadata": {
    "pycharm": {
     "name": "#%%\n"
    }
   },
   "outputs": [
    {
     "data": {
      "text/plain": "1960"
     },
     "execution_count": 9,
     "metadata": {},
     "output_type": "execute_result"
    }
   ],
   "source": [
    "bands_founded[\"Beatles\"]"
   ]
  },
  {
   "cell_type": "markdown",
   "metadata": {
    "pycharm": {
     "name": "#%% md\n"
    }
   },
   "source": [
    "There is also a method for looking up a value:"
   ]
  },
  {
   "cell_type": "code",
   "execution_count": 10,
   "metadata": {
    "pycharm": {
     "name": "#%%\n"
    }
   },
   "outputs": [
    {
     "data": {
      "text/plain": "1962"
     },
     "execution_count": 10,
     "metadata": {},
     "output_type": "execute_result"
    }
   ],
   "source": [
    "bands_founded.get(\"Stones\")"
   ]
  },
  {
   "cell_type": "markdown",
   "metadata": {
    "pycharm": {
     "name": "#%% md\n"
    }
   },
   "source": [
    "Note that these access methods are as fast as a dictionary lookup, and much faster than a lookup in a list."
   ]
  },
  {
   "cell_type": "markdown",
   "metadata": {
    "pycharm": {
     "name": "#%% md\n"
    }
   },
   "source": [
    "That works also with arrays of labels, in which case the return type is a series, not a single value."
   ]
  },
  {
   "cell_type": "code",
   "execution_count": 11,
   "metadata": {
    "pycharm": {
     "name": "#%%\n"
    }
   },
   "outputs": [
    {
     "data": {
      "text/plain": "Stones     1962\nBeatles    1960\nName: Bands founded, dtype: int64"
     },
     "execution_count": 11,
     "metadata": {},
     "output_type": "execute_result"
    }
   ],
   "source": [
    "bands_founded.get([\"Stones\", \"Beatles\"])"
   ]
  },
  {
   "cell_type": "markdown",
   "metadata": {
    "pycharm": {
     "name": "#%% md\n"
    }
   },
   "source": [
    "Notice that when we access data with multiple indices, we don't get a simple datatype, as in the above cases, but instead get another series back:"
   ]
  },
  {
   "cell_type": "code",
   "execution_count": 12,
   "metadata": {
    "pycharm": {
     "name": "#%%\n"
    }
   },
   "outputs": [
    {
     "data": {
      "text/plain": "Pink Floyd    1965\nPink Floyd    2012\nName: Bands founded, dtype: int64"
     },
     "execution_count": 12,
     "metadata": {},
     "output_type": "execute_result"
    }
   ],
   "source": [
    "bands_founded[\"Pink Floyd\"]"
   ]
  },
  {
   "cell_type": "markdown",
   "metadata": {
    "pycharm": {
     "name": "#%% md\n"
    }
   },
   "source": [
    "Series also have indexers for label-based access: [`loc`](http://pandas.pydata.org/pandas-docs/stable/generated/pandas.DataFrame.loc.html)"
   ]
  },
  {
   "cell_type": "code",
   "execution_count": 13,
   "metadata": {
    "pycharm": {
     "name": "#%%\n"
    }
   },
   "outputs": [
    {
     "data": {
      "text/plain": "1962"
     },
     "execution_count": 13,
     "metadata": {},
     "output_type": "execute_result"
    }
   ],
   "source": [
    "# And one more way for looking up a value:\n",
    "bands_founded.loc[\"Stones\"]\n",
    "# this is equivalent to \n",
    "# bands_founded[\"Stones\"]"
   ]
  },
  {
   "cell_type": "markdown",
   "metadata": {
    "pycharm": {
     "name": "#%% md\n"
    }
   },
   "source": [
    "Related to the `loc` indexer is the [`iloc`](http://pandas.pydata.org/pandas-docs/version/0.17.0/generated/pandas.DataFrame.iloc.html) indexer. However, instead of operating on our label index, `iloc` operates purely on position: "
   ]
  },
  {
   "cell_type": "code",
   "execution_count": 14,
   "metadata": {
    "pycharm": {
     "name": "#%%\n"
    }
   },
   "outputs": [
    {
     "data": {
      "text/plain": "1960"
     },
     "execution_count": 14,
     "metadata": {},
     "output_type": "execute_result"
    }
   ],
   "source": [
    "bands_founded.iloc[1]"
   ]
  },
  {
   "cell_type": "markdown",
   "metadata": {
    "pycharm": {
     "name": "#%% md\n"
    }
   },
   "source": [
    "There is also an `ix` indexer, which is deprecated and should not be used.\n",
    "\n",
    "These ways of accessing slices of a dataset (`loc`, `iloc`), will make more sense when we use dataframes instead of series – in dataframes, `loc` and `iloc` operate on the rows, whereas square brackets operate on the columns."
   ]
  },
  {
   "cell_type": "markdown",
   "metadata": {
    "pycharm": {
     "name": "#%% md\n"
    }
   },
   "source": [
    "### 1.1 Iterating\n",
    "\n",
    "Iteration works as you would expect: "
   ]
  },
  {
   "cell_type": "code",
   "execution_count": 15,
   "metadata": {
    "pycharm": {
     "name": "#%%\n"
    }
   },
   "outputs": [
    {
     "name": "stdout",
     "output_type": "stream",
     "text": [
      "Stones\n",
      "Beatles\n",
      "Zeppelin\n",
      "Pink Floyd\n"
     ]
    }
   ],
   "source": [
    "for band in bands:\n",
    "    print(band)"
   ]
  },
  {
   "cell_type": "code",
   "execution_count": 16,
   "metadata": {
    "pycharm": {
     "name": "#%%\n"
    }
   },
   "outputs": [
    {
     "name": "stdout",
     "output_type": "stream",
     "text": [
      "Stones, 1962\n",
      "Beatles, 1960\n",
      "Zeppelin, 1968\n",
      "Pink Floyd, 1965\n",
      "Pink Floyd, 2012\n"
     ]
    }
   ],
   "source": [
    "for band, founded in bands_founded.items():\n",
    "    print(band + \", \" + str(founded))"
   ]
  },
  {
   "cell_type": "markdown",
   "metadata": {
    "pycharm": {
     "name": "#%% md\n"
    }
   },
   "source": [
    "### 1.2 Updating\n",
    "Updating works largely as expected, however, you have to be careful when updating series with duplicate indices:"
   ]
  },
  {
   "cell_type": "code",
   "execution_count": 17,
   "metadata": {
    "pycharm": {
     "name": "#%%\n"
    }
   },
   "outputs": [
    {
     "data": {
      "text/plain": "0        Stones\n1       Beatles\n2     The Doors\n3    Pink Floyd\ndtype: object"
     },
     "execution_count": 17,
     "metadata": {},
     "output_type": "execute_result"
    }
   ],
   "source": [
    "bands[2] = \"The Doors\"\n",
    "bands"
   ]
  },
  {
   "cell_type": "markdown",
   "metadata": {
    "pycharm": {
     "name": "#%% md\n"
    }
   },
   "source": [
    "We can add a new item by direclty assigning it to a new index."
   ]
  },
  {
   "cell_type": "code",
   "execution_count": 18,
   "metadata": {
    "pycharm": {
     "name": "#%%\n"
    }
   },
   "outputs": [
    {
     "data": {
      "text/plain": "0        Stones\n1       Beatles\n2     The Doors\n3    Pink Floyd\n4      Zeppelin\ndtype: object"
     },
     "execution_count": 18,
     "metadata": {},
     "output_type": "execute_result"
    }
   ],
   "source": [
    "bands[4] = \"Zeppelin\"\n",
    "bands"
   ]
  },
  {
   "cell_type": "markdown",
   "metadata": {
    "pycharm": {
     "name": "#%% md\n"
    }
   },
   "source": [
    "Note that the indices don't have to be sequential."
   ]
  },
  {
   "cell_type": "code",
   "execution_count": 19,
   "metadata": {
    "pycharm": {
     "name": "#%%\n"
    }
   },
   "outputs": [
    {
     "data": {
      "text/plain": "0         Stones\n1        Beatles\n2      The Doors\n3     Pink Floyd\n4       Zeppelin\n17       The Who\ndtype: object"
     },
     "execution_count": 19,
     "metadata": {},
     "output_type": "execute_result"
    }
   ],
   "source": [
    "bands[17] = \"The Who\"\n",
    "bands"
   ]
  },
  {
   "cell_type": "markdown",
   "metadata": {
    "pycharm": {
     "name": "#%% md\n"
    }
   },
   "source": [
    "When we update based on an index that occurs more than once, all instances are updated:"
   ]
  },
  {
   "cell_type": "code",
   "execution_count": 20,
   "metadata": {
    "pycharm": {
     "name": "#%%\n"
    }
   },
   "outputs": [
    {
     "data": {
      "text/plain": "Stones        1962\nBeatles       1960\nZeppelin      1968\nPink Floyd    2015\nPink Floyd    2015\nName: Bands founded, dtype: int64"
     },
     "execution_count": 20,
     "metadata": {},
     "output_type": "execute_result"
    }
   ],
   "source": [
    "bands_founded[\"Pink Floyd\"] = 2015\n",
    "bands_founded"
   ]
  },
  {
   "cell_type": "markdown",
   "metadata": {
    "pycharm": {
     "name": "#%% md\n"
    }
   },
   "source": [
    "A way to update a specific entry when an index is used multiple time is to use the `iloc` indexer. We can use the `iloc` array to set values based purely on position. However, all of this is rather ugly."
   ]
  },
  {
   "cell_type": "code",
   "execution_count": 21,
   "metadata": {
    "pycharm": {
     "name": "#%%\n"
    }
   },
   "outputs": [
    {
     "data": {
      "text/plain": "Stones        1962\nBeatles       1960\nZeppelin      1968\nPink Floyd    1965\nPink Floyd    2015\nName: Bands founded, dtype: int64"
     },
     "execution_count": 21,
     "metadata": {},
     "output_type": "execute_result"
    }
   ],
   "source": [
    "bands_founded.iloc[3] = 1965\n",
    "bands_founded"
   ]
  },
  {
   "cell_type": "markdown",
   "metadata": {
    "pycharm": {
     "name": "#%% md\n"
    }
   },
   "source": [
    "### 1.3 Deleting \n",
    "\n",
    "Deleting is rarely done with pandas data structures, instead filters and masks are used. It's possible based on indices:"
   ]
  },
  {
   "cell_type": "code",
   "execution_count": 22,
   "metadata": {
    "scrolled": true,
    "pycharm": {
     "name": "#%%\n"
    }
   },
   "outputs": [
    {
     "data": {
      "text/plain": "Beatles       1960\nZeppelin      1968\nPink Floyd    1965\nPink Floyd    2015\nName: Bands founded, dtype: int64"
     },
     "execution_count": 22,
     "metadata": {},
     "output_type": "execute_result"
    }
   ],
   "source": [
    "del bands_founded[\"Stones\"]\n",
    "bands_founded"
   ]
  },
  {
   "cell_type": "markdown",
   "metadata": {
    "pycharm": {
     "name": "#%% md\n"
    }
   },
   "source": [
    "### 1.4 Indexing and slicing\n",
    "\n",
    "Indexing and slicing works largely like in normal python, but instead of just directly using the bracket notations, it is recommended to use `iloc` for indexing by position and `loc` for indexing by labelled indices. "
   ]
  },
  {
   "cell_type": "code",
   "execution_count": 23,
   "metadata": {
    "pycharm": {
     "name": "#%%\n"
    }
   },
   "outputs": [
    {
     "data": {
      "text/plain": "Zeppelin      1968\nPink Floyd    1965\nName: Bands founded, dtype: int64"
     },
     "execution_count": 23,
     "metadata": {},
     "output_type": "execute_result"
    }
   ],
   "source": [
    "# slicing by position\n",
    "bands_founded.iloc[1:3]"
   ]
  },
  {
   "cell_type": "markdown",
   "metadata": {
    "pycharm": {
     "name": "#%% md\n"
    }
   },
   "source": [
    "When slicing by labelled index, the last value specified is *included*, which differs from regular Python slicing behavior."
   ]
  },
  {
   "cell_type": "code",
   "execution_count": 24,
   "metadata": {
    "pycharm": {
     "name": "#%%\n"
    }
   },
   "outputs": [
    {
     "data": {
      "text/plain": "Zeppelin      1968\nPink Floyd    1965\nPink Floyd    2015\nName: Bands founded, dtype: int64"
     },
     "execution_count": 24,
     "metadata": {},
     "output_type": "execute_result"
    }
   ],
   "source": [
    "# slicing by index\n",
    "bands_founded.loc[\"Zeppelin\" : \"Pink Floyd\"]"
   ]
  },
  {
   "cell_type": "code",
   "execution_count": 25,
   "metadata": {
    "pycharm": {
     "name": "#%%\n"
    }
   },
   "outputs": [
    {
     "data": {
      "text/plain": "1        Beatles\n2      The Doors\n3     Pink Floyd\n4       Zeppelin\n17       The Who\ndtype: object"
     },
     "execution_count": 25,
     "metadata": {},
     "output_type": "execute_result"
    }
   ],
   "source": [
    "# Note that index 17 is included\n",
    "bands.loc[1:17]"
   ]
  },
  {
   "cell_type": "markdown",
   "metadata": {
    "pycharm": {
     "name": "#%% md\n"
    }
   },
   "source": [
    "Again, for series (not for data frames), `loc` and just using bracket notation is identical: "
   ]
  },
  {
   "cell_type": "code",
   "execution_count": 26,
   "metadata": {
    "pycharm": {
     "name": "#%%\n"
    }
   },
   "outputs": [
    {
     "data": {
      "text/plain": "2      The Doors\n3     Pink Floyd\n4       Zeppelin\n17       The Who\ndtype: object"
     },
     "execution_count": 26,
     "metadata": {},
     "output_type": "execute_result"
    }
   ],
   "source": [
    "bands[2:17]"
   ]
  },
  {
   "cell_type": "markdown",
   "metadata": {
    "pycharm": {
     "name": "#%% md\n"
    }
   },
   "source": [
    "Both, `iloc` and `loc` can be used with arrays, which isn't possible in vanilla Python:"
   ]
  },
  {
   "cell_type": "code",
   "execution_count": 27,
   "metadata": {
    "pycharm": {
     "name": "#%%\n"
    }
   },
   "outputs": [
    {
     "data": {
      "text/plain": "Beatles       1960\nPink Floyd    2015\nName: Bands founded, dtype: int64"
     },
     "execution_count": 27,
     "metadata": {},
     "output_type": "execute_result"
    }
   ],
   "source": [
    "bands_founded.iloc[[0,3]]"
   ]
  },
  {
   "cell_type": "code",
   "execution_count": 28,
   "metadata": {
    "pycharm": {
     "name": "#%%\n"
    }
   },
   "outputs": [
    {
     "data": {
      "text/plain": "Beatles       1960\nPink Floyd    1965\nPink Floyd    2015\nName: Bands founded, dtype: int64"
     },
     "execution_count": 28,
     "metadata": {},
     "output_type": "execute_result"
    }
   ],
   "source": [
    "bands_founded.loc[[\"Beatles\", \"Pink Floyd\"]]"
   ]
  },
  {
   "cell_type": "markdown",
   "metadata": {
    "pycharm": {
     "name": "#%% md\n"
    }
   },
   "source": [
    "And, all these variants can also be used with boolean arrays, which we will soon find out to be very helpful:"
   ]
  },
  {
   "cell_type": "code",
   "execution_count": 29,
   "metadata": {
    "pycharm": {
     "name": "#%%\n"
    }
   },
   "outputs": [
    {
     "data": {
      "text/plain": "Beatles       1960\nZeppelin      1968\nPink Floyd    1965\nPink Floyd    2015\nName: Bands founded, dtype: int64"
     },
     "execution_count": 29,
     "metadata": {},
     "output_type": "execute_result"
    }
   ],
   "source": [
    "bands_founded"
   ]
  },
  {
   "cell_type": "code",
   "execution_count": 30,
   "metadata": {
    "pycharm": {
     "name": "#%%\n"
    }
   },
   "outputs": [
    {
     "data": {
      "text/plain": "Beatles       1960\nPink Floyd    2015\nName: Bands founded, dtype: int64"
     },
     "execution_count": 30,
     "metadata": {},
     "output_type": "execute_result"
    }
   ],
   "source": [
    "bands_founded.loc[[True, False, False, True]]"
   ]
  },
  {
   "cell_type": "markdown",
   "metadata": {
    "pycharm": {
     "name": "#%% md\n"
    }
   },
   "source": [
    "### 1.5 Masking and Filtering\n",
    "\n",
    "With pandas we can create boolean arrays that we can use to mask and filter a dataset. In the following expression, we'll create a new array that has \"True\" for every band formed after 1964:"
   ]
  },
  {
   "cell_type": "code",
   "execution_count": 31,
   "metadata": {
    "pycharm": {
     "name": "#%%\n"
    }
   },
   "outputs": [
    {
     "data": {
      "text/plain": "Beatles       False\nZeppelin       True\nPink Floyd     True\nPink Floyd     True\nName: Bands founded, dtype: bool"
     },
     "execution_count": 31,
     "metadata": {},
     "output_type": "execute_result"
    }
   ],
   "source": [
    "mask = bands_founded > 1964\n",
    "mask"
   ]
  },
  {
   "cell_type": "markdown",
   "metadata": {
    "pycharm": {
     "name": "#%% md\n"
    }
   },
   "source": [
    "This uses a technique called **broadcasting**. We can use broadcasting with various operations:"
   ]
  },
  {
   "cell_type": "code",
   "execution_count": 32,
   "metadata": {
    "pycharm": {
     "name": "#%%\n"
    }
   },
   "outputs": [
    {
     "data": {
      "text/plain": "Beatles       23520\nZeppelin      23616\nPink Floyd    23580\nPink Floyd    24180\nName: Bands founded, dtype: int64"
     },
     "execution_count": 32,
     "metadata": {},
     "output_type": "execute_result"
    }
   ],
   "source": [
    "# Not particularly useful for this dataset..\n",
    "founding_months = bands_founded * 12\n",
    "founding_months"
   ]
  },
  {
   "cell_type": "markdown",
   "metadata": {
    "pycharm": {
     "name": "#%% md\n"
    }
   },
   "source": [
    "We can use a boolean mask to filter a series, as we've seen before:"
   ]
  },
  {
   "cell_type": "code",
   "execution_count": 33,
   "metadata": {
    "pycharm": {
     "name": "#%%\n"
    }
   },
   "outputs": [
    {
     "data": {
      "text/plain": "Zeppelin      1968\nPink Floyd    1965\nPink Floyd    2015\nName: Bands founded, dtype: int64"
     },
     "execution_count": 33,
     "metadata": {},
     "output_type": "execute_result"
    }
   ],
   "source": [
    "# applying the mask to the original array\n",
    "# note that almost all of those operations return a new copy and don't modify in place\n",
    "bands_founded[mask]"
   ]
  },
  {
   "cell_type": "markdown",
   "metadata": {
    "pycharm": {
     "name": "#%% md\n"
    }
   },
   "source": [
    "The short form here would be:"
   ]
  },
  {
   "cell_type": "code",
   "execution_count": 34,
   "metadata": {
    "pycharm": {
     "name": "#%%\n"
    }
   },
   "outputs": [
    {
     "data": {
      "text/plain": "Zeppelin      1968\nPink Floyd    2015\nName: Bands founded, dtype: int64"
     },
     "execution_count": 34,
     "metadata": {},
     "output_type": "execute_result"
    }
   ],
   "source": [
    "bands_founded[bands_founded > 1967]"
   ]
  },
  {
   "cell_type": "markdown",
   "metadata": {
    "pycharm": {
     "name": "#%% md\n"
    }
   },
   "source": [
    "### 1.6 Exploring a Series\n",
    "\n",
    "There are various way we can explore a series. We can count the number of non-null values: "
   ]
  },
  {
   "cell_type": "code",
   "execution_count": 35,
   "metadata": {
    "pycharm": {
     "name": "#%%\n"
    }
   },
   "outputs": [
    {
     "data": {
      "text/plain": "6"
     },
     "execution_count": 35,
     "metadata": {},
     "output_type": "execute_result"
    }
   ],
   "source": [
    "numbers = pd.Series([1962, 1960, 1968, 1965, 2012, None, 2016])\n",
    "numbers.count()"
   ]
  },
  {
   "cell_type": "code",
   "execution_count": 36,
   "metadata": {
    "pycharm": {
     "name": "#%%\n"
    }
   },
   "outputs": [
    {
     "data": {
      "text/plain": "0    1962.0\n1    1960.0\n2    1968.0\n3    1965.0\n4    2012.0\n5       NaN\n6    2016.0\ndtype: float64"
     },
     "execution_count": 36,
     "metadata": {},
     "output_type": "execute_result"
    }
   ],
   "source": [
    "numbers"
   ]
  },
  {
   "cell_type": "markdown",
   "metadata": {
    "pycharm": {
     "name": "#%% md\n"
    }
   },
   "source": [
    "We can get the sum, mean, median of a series:"
   ]
  },
  {
   "cell_type": "code",
   "execution_count": 37,
   "metadata": {
    "pycharm": {
     "name": "#%%\n"
    }
   },
   "outputs": [
    {
     "data": {
      "text/plain": "11883.0"
     },
     "execution_count": 37,
     "metadata": {},
     "output_type": "execute_result"
    }
   ],
   "source": [
    "numbers.sum()"
   ]
  },
  {
   "cell_type": "code",
   "execution_count": 38,
   "metadata": {
    "pycharm": {
     "name": "#%%\n"
    }
   },
   "outputs": [
    {
     "data": {
      "text/plain": "1980.5"
     },
     "execution_count": 38,
     "metadata": {},
     "output_type": "execute_result"
    }
   ],
   "source": [
    "numbers.mean()"
   ]
  },
  {
   "cell_type": "code",
   "execution_count": 39,
   "metadata": {
    "pycharm": {
     "name": "#%%\n"
    }
   },
   "outputs": [
    {
     "data": {
      "text/plain": "1966.5"
     },
     "execution_count": 39,
     "metadata": {},
     "output_type": "execute_result"
    }
   ],
   "source": [
    "numbers.median()"
   ]
  },
  {
   "cell_type": "markdown",
   "metadata": {
    "pycharm": {
     "name": "#%% md\n"
    }
   },
   "source": [
    "We can also get an overview of the statistical properties of a series: "
   ]
  },
  {
   "cell_type": "code",
   "execution_count": 40,
   "metadata": {
    "pycharm": {
     "name": "#%%\n"
    }
   },
   "outputs": [
    {
     "data": {
      "text/plain": "count       6.000000\nmean     1980.500000\nstd        26.120873\nmin      1960.000000\n25%      1962.750000\n50%      1966.500000\n75%      2001.000000\nmax      2016.000000\ndtype: float64"
     },
     "execution_count": 40,
     "metadata": {},
     "output_type": "execute_result"
    }
   ],
   "source": [
    "numbers.describe()"
   ]
  },
  {
   "cell_type": "markdown",
   "metadata": {
    "pycharm": {
     "name": "#%% md\n"
    }
   },
   "source": [
    "Note that None/NaN values are ignored here. We can drop all NaN values if we desire:"
   ]
  },
  {
   "cell_type": "code",
   "execution_count": 41,
   "metadata": {
    "pycharm": {
     "name": "#%%\n"
    }
   },
   "outputs": [
    {
     "data": {
      "text/plain": "0    1962.0\n1    1960.0\n2    1968.0\n3    1965.0\n4    2012.0\n6    2016.0\ndtype: float64"
     },
     "execution_count": 41,
     "metadata": {},
     "output_type": "execute_result"
    }
   ],
   "source": [
    "numbers = numbers.dropna()\n",
    "numbers"
   ]
  },
  {
   "cell_type": "markdown",
   "metadata": {
    "pycharm": {
     "name": "#%% md\n"
    }
   },
   "source": [
    "This works also for non-numerical data. Of course, we get different measures:"
   ]
  },
  {
   "cell_type": "code",
   "execution_count": 42,
   "metadata": {
    "pycharm": {
     "name": "#%%\n"
    }
   },
   "outputs": [
    {
     "data": {
      "text/plain": "count          6\nunique         6\ntop       Stones\nfreq           1\ndtype: object"
     },
     "execution_count": 42,
     "metadata": {},
     "output_type": "execute_result"
    }
   ],
   "source": [
    "bands.describe()"
   ]
  },
  {
   "cell_type": "markdown",
   "metadata": {
    "pycharm": {
     "name": "#%% md\n"
    }
   },
   "source": [
    "Other useful methods are asking for a specific quantile, the minimum, the maximum, etc. "
   ]
  },
  {
   "cell_type": "code",
   "execution_count": 43,
   "metadata": {
    "pycharm": {
     "name": "#%%\n"
    }
   },
   "outputs": [
    {
     "data": {
      "text/plain": "1962.75"
     },
     "execution_count": 43,
     "metadata": {},
     "output_type": "execute_result"
    }
   ],
   "source": [
    "numbers.quantile(0.25)"
   ]
  },
  {
   "cell_type": "code",
   "execution_count": 44,
   "metadata": {
    "pycharm": {
     "name": "#%%\n"
    }
   },
   "outputs": [
    {
     "data": {
      "text/plain": "2016.0"
     },
     "execution_count": 44,
     "metadata": {},
     "output_type": "execute_result"
    }
   ],
   "source": [
    "numbers.max()"
   ]
  },
  {
   "cell_type": "code",
   "execution_count": 45,
   "metadata": {
    "pycharm": {
     "name": "#%%\n"
    }
   },
   "outputs": [
    {
     "data": {
      "text/plain": "1960.0"
     },
     "execution_count": 45,
     "metadata": {},
     "output_type": "execute_result"
    }
   ],
   "source": [
    "numbers.min()"
   ]
  },
  {
   "cell_type": "markdown",
   "metadata": {
    "collapsed": true,
    "pycharm": {
     "name": "#%% md\n"
    }
   },
   "source": [
    "### 1.7 Sorting \n",
    "\n",
    "We can sort a series:"
   ]
  },
  {
   "cell_type": "code",
   "execution_count": 46,
   "metadata": {
    "pycharm": {
     "name": "#%%\n"
    }
   },
   "outputs": [
    {
     "data": {
      "text/plain": "1    1960.0\n0    1962.0\n3    1965.0\n2    1968.0\n4    2012.0\n6    2016.0\ndtype: float64"
     },
     "execution_count": 46,
     "metadata": {},
     "output_type": "execute_result"
    }
   ],
   "source": [
    "numbers.sort_values()"
   ]
  },
  {
   "cell_type": "markdown",
   "metadata": {
    "pycharm": {
     "name": "#%% md\n"
    }
   },
   "source": [
    "And make the sorting descending: "
   ]
  },
  {
   "cell_type": "code",
   "execution_count": 47,
   "metadata": {
    "scrolled": true,
    "pycharm": {
     "name": "#%%\n"
    }
   },
   "outputs": [
    {
     "data": {
      "text/plain": "6    2016.0\n4    2012.0\n2    1968.0\n3    1965.0\n0    1962.0\n1    1960.0\ndtype: float64"
     },
     "execution_count": 47,
     "metadata": {},
     "output_type": "execute_result"
    }
   ],
   "source": [
    "sorted_numbers = numbers.sort_values(ascending=False)\n",
    "sorted_numbers"
   ]
  },
  {
   "cell_type": "markdown",
   "metadata": {
    "pycharm": {
     "name": "#%% md\n"
    }
   },
   "source": [
    "Note that the indices remain the same! We can **reset the indices**:"
   ]
  },
  {
   "cell_type": "code",
   "execution_count": 48,
   "metadata": {
    "pycharm": {
     "name": "#%%\n"
    }
   },
   "outputs": [
    {
     "data": {
      "text/plain": "0    2016.0\n1    2012.0\n2    1968.0\n3    1965.0\n4    1962.0\n5    1960.0\ndtype: float64"
     },
     "execution_count": 48,
     "metadata": {},
     "output_type": "execute_result"
    }
   ],
   "source": [
    "# If we don't specify drop to be true, the previous indices are preserved in a separte column\n",
    "sorted_numbers = sorted_numbers.reset_index(drop=True)\n",
    "sorted_numbers"
   ]
  },
  {
   "cell_type": "markdown",
   "metadata": {
    "pycharm": {
     "name": "#%% md\n"
    }
   },
   "source": [
    "We can also sort by the index:"
   ]
  },
  {
   "cell_type": "code",
   "execution_count": 49,
   "metadata": {
    "pycharm": {
     "name": "#%%\n"
    }
   },
   "outputs": [
    {
     "name": "stdout",
     "output_type": "stream",
     "text": [
      "1    1960.0\n",
      "0    1962.0\n",
      "3    1965.0\n",
      "2    1968.0\n",
      "4    2012.0\n",
      "6    2016.0\n",
      "dtype: float64\n",
      "0    1962.0\n",
      "1    1960.0\n",
      "2    1968.0\n",
      "3    1965.0\n",
      "4    2012.0\n",
      "6    2016.0\n",
      "dtype: float64\n"
     ]
    }
   ],
   "source": [
    "# mix up the indices first\n",
    "new_sorted_numbers = numbers.sort_values()\n",
    "print(new_sorted_numbers)\n",
    "print(new_sorted_numbers.sort_index())"
   ]
  },
  {
   "cell_type": "markdown",
   "metadata": {
    "pycharm": {
     "name": "#%% md\n"
    }
   },
   "source": [
    "### 1.8 Applying a Function\n",
    "\n",
    "Often, we will want to apply a function to all values of a Series. We can do that with the [`map()`](https://pandas.pydata.org/pandas-docs/stable/reference/api/pandas.Series.map.html) function:"
   ]
  },
  {
   "cell_type": "code",
   "execution_count": 50,
   "metadata": {
    "pycharm": {
     "name": "#%%\n"
    }
   },
   "outputs": [
    {
     "data": {
      "text/plain": "1    1960-01-01\n0    1962-01-01\n3    1965-01-01\n2    1968-01-01\n4    2012-01-01\n6    2016-01-01\ndtype: object"
     },
     "execution_count": 50,
     "metadata": {},
     "output_type": "execute_result"
    }
   ],
   "source": [
    "import datetime\n",
    "\n",
    "# Convert an integer year into a date, assuming Jan 1 as day and month.\n",
    "def to_date(year):\n",
    "    return datetime.date(int(year), 1, 1)\n",
    "    \n",
    "new_sorted_numbers.map(to_date)"
   ]
  },
  {
   "cell_type": "markdown",
   "metadata": {
    "pycharm": {
     "name": "#%% md\n"
    }
   },
   "source": [
    "This is an incredibly powerful concept that you can use to modify series in sophisticated ways, similar to list comprehension. \n",
    "\n",
    "Another way to use the map function is to pass in a dictionary that is then applied to matching objects: "
   ]
  },
  {
   "cell_type": "code",
   "execution_count": 51,
   "metadata": {
    "scrolled": true,
    "pycharm": {
     "name": "#%%\n"
    }
   },
   "outputs": [
    {
     "data": {
      "text/plain": "1     NaN\n0     NaN\n3    1945\n2    What\n4    1999\n6     NaN\ndtype: object"
     },
     "execution_count": 51,
     "metadata": {},
     "output_type": "execute_result"
    }
   ],
   "source": [
    "new_sorted_numbers.map({1965:1945, 2012:1999, 1968:\"What\"})"
   ]
  },
  {
   "cell_type": "markdown",
   "metadata": {
    "pycharm": {
     "name": "#%% md\n"
    }
   },
   "source": [
    " We've only covered a small part of the features of Series here. Make sure to also check out resources such as the [10 minutes to pandas guide](http://pandas.pydata.org/pandas-docs/stable/10min.html)."
   ]
  },
  {
   "cell_type": "markdown",
   "metadata": {
    "pycharm": {
     "name": "#%% md\n"
    }
   },
   "source": [
    "# 2. Reading Data\n",
    "\n",
    "Up to now, we've mainly used data that we've specified directly in code. This is, of course, not particularly scalable. We want to load data from files and eventually also connect to databases and APIs. \n",
    "\n",
    "Data is often stored in structured file formats, such as CSV, JSON, or XML. We'll encounter all of these file formats in this class.\n",
    "\n",
    "JSON\n",
    "\n",
    "```json\n",
    "{\n",
    "    \"fruit\": \"Apple\",\n",
    "    \"size\": \"Large\",\n",
    "    \"color\": \"Red\"\n",
    "}\n",
    "```\n",
    "\n",
    "XML\n",
    "```xml\n",
    "<note>\n",
    "<to>Students</to>\n",
    "<from>Prof</from>\n",
    "<heading>Reminder</heading>\n",
    "<body>HW2 due this Friday at 11:59pm!</body>\n",
    "</note>\n",
    "```\n",
    "\n",
    "The simplest form is a CSV (Comma Separated Values) file. CSV isn't a formal file format, rather it's a table represented as a text file where the cells are separated by a delimiter. Commonly, the first row represents the header. A delimiter can be a tab character, a semicolon, a colon, etc. \n",
    "\n",
    "Many CSV files also have a special convention for dealing with text that could include the delimiter. The following text would be very hard to parse otherwise:\n",
    "```\n",
    "Artist, Album, Genre\n",
    "Michael Jackson, Bad, Pop, Funk, Rock\n",
    "``` \n",
    "\n",
    "Here, the album is of multiple genres which are separated by a comma. The comma, however, is also used to delimit the individual columns. \n",
    "\n",
    "To work around that, double-quotes are commonly used (though other escape characters are possible) to indicate that all the elements contained within the quotes are not meant to be delimiters:\n",
    "\n",
    "```\n",
    "Artist, Album, Genre\n",
    "Michael Jackson, Bad, \"Pop, Funk, Rock\"\n",
    "``` \n",
    "\n",
    "Of course, that's problematic if your text contains double-quotes.\n",
    "\n",
    "Now, it is clear that `Pop, Funk, Rock` should belong in a single cell. \n",
    "\n",
    "We've prepared a dataset based on Wikipedia's [list of best-selling albums](https://en.wikipedia.org/wiki/List_of_best-selling_albums) in the file [hit_albums.csv](./hit_albums.csv). \n",
    "\n",
    "Here is what the first couple of lines look like:"
   ]
  },
  {
   "cell_type": "markdown",
   "metadata": {
    "pycharm": {
     "name": "#%% md\n"
    }
   },
   "source": [
    "```\n",
    "Artist,Album,Released,Genre,\"Certified sales (millions)\",Claimed sales (millions)\n",
    "Michael Jackson,Thriller,1982,\"Pop, rock, R&B\",45.4,65\n",
    "AC/DC,Back in Black,1980,Hard rock,25.9,50\n",
    "Pink Floyd,The Dark Side of the Moon,1973,Progressive rock,22.7,45\n",
    "Whitney Houston / Various artists,The Bodyguard,1992,\"Soundtrack/R&B, soul, pop\",27.4,44\n",
    "...\n",
    "```"
   ]
  },
  {
   "cell_type": "markdown",
   "metadata": {
    "pycharm": {
     "name": "#%% md\n"
    }
   },
   "source": [
    "There are various ways of reading a CSV file. We'll first cover the basic read (and write) operations of Python, but will quickly move on to specific parsers for CSV files in Python and in Pandas. "
   ]
  },
  {
   "cell_type": "markdown",
   "metadata": {
    "pycharm": {
     "name": "#%% md\n"
    }
   },
   "source": [
    "### 2.1 Basic File Operations\n",
    "\n",
    "To read a file we first have to open it by specifying the file path, and specifying whether we want to read (r), write (w), both (r+), or append (a). "
   ]
  },
  {
   "cell_type": "code",
   "execution_count": 52,
   "metadata": {
    "pycharm": {
     "name": "#%%\n"
    }
   },
   "outputs": [],
   "source": [
    "albums_file = open('hit_albums.csv', 'r')"
   ]
  },
  {
   "cell_type": "markdown",
   "metadata": {
    "pycharm": {
     "name": "#%% md\n"
    }
   },
   "source": [
    "We can read a whole file at once. Notice that lines are terminated with a special character, a linefeed or newline character specified as `\\n`."
   ]
  },
  {
   "cell_type": "code",
   "execution_count": 53,
   "metadata": {
    "pycharm": {
     "name": "#%%\n"
    }
   },
   "outputs": [
    {
     "data": {
      "text/plain": "'Artist,Album,Released,Genre,\"Certified sales (millions)\",Claimed sales (millions)\\nMichael Jackson,Thriller,1982,\"Pop, rock, R&B\",45.4,65\\nAC/DC,Back in Black,1980,Hard rock,25.9,50\\nPink Floyd,The Dark Side of the Moon,1973,Progressive rock,22.7,45\\nWhitney Houston / Various artists,The Bodyguard,1992,\"Soundtrack/R&B, soul, pop\",27.4,44\\nMeat Loaf,Bat Out of Hell,1977,\"Hard rock, progressive rock\",20.6,43\\nEagles,Their Greatest Hits (1971â€“1975),1976,\"Rock, soft rock, folk rock\",32.2,42\\nBee Gees / Various artists,Saturday Night Fever,1977,Disco,19,40\\nFleetwood Mac,Rumours,1977,Soft rock,27.9,40\\nShania Twain,Come On Over,1997,\"Country, pop\",29.6,39\\nLed Zeppelin,Led Zeppelin IV,1971,\"Hard rock, heavy metal\",29,37\\nMichael Jackson,Bad,1987,\"Pop, funk, rock\",20.3,34\\nAlanis Morissette,Jagged Little Pill,1995,Alternative rock,24.8,33\\nCeline Dion,Falling into You,1996,\"Pop, Soft rock\",20.2,32\\nThe Beatles,Sgt. Pepper\\'s Lonely Hearts Club Band,1967,Rock,13.1,32\\nEagles,Hotel California,1976,\"Rock, soft rock, folk rock\",21.5,32\\nMariah Carey,Music Box,1993,\"Pop, R&B, Rock\",19,32\\nMichael Jackson,Dangerous,1991,\"Rock, Funk, Pop\",17.6,32\\nVarious artists,Dirty Dancing,1987,\"Pop, rock, R&B\",17.9,32\\nCeline Dion,Let\\'s Talk About Love,1997,\"Pop, Soft rock\",19.3,31\\nThe Beatles,1,2000,Rock,21.6,31\\nAdele,21,2011,\"Pop, soul\",22.3,30\\nThe Beatles,Abbey Road,1969,Rock,14.4,30\\nBruce Springsteen,Born in the U.S.A.,1984,Rock,19.6,30\\nDire Straits,Brothers in Arms,1985,Rock,17.7,30\\nJames Horner,Titanic: Music from the Motion Picture,1997,Soundtrack,18.1,30\\nMadonna,The Immaculate Collection,1990,\"Pop, Dance\",19.4,30\\nMetallica,Metallica,1991,\"Thrash metal, heavy metal\",19.9,30\\nNirvana,Nevermind,1991,\"Grunge, alternative rock\",16.7,30\\nPink Floyd,The Wall,1979,Progressive rock,17.6,30\\nSantana,Supernatural,1999,Rock,20.5,30\\nGuns N\\' Roses,Appetite for Destruction,1987,\"Heavy metal, hard rock\",21.3,30\\nABBA,Gold: Greatest Hits,1992,Pop,29,\\nBon Jovi,Slippery When Wet,1986,Hard rock,28,\\nSpice Girls,Spice,1996,Pop,28,\\nVarious artists,Grease: The Original Soundtrack from the Motion Picture,1978,Soundtrack,28,\\nBritney Spears,...Baby One More Time,1999,Pop,28,\\nLinkin Park,Hybrid Theory,2000,\"Nu metal, rap metal, alternative metal\",27,\\nBob Marley & The Wailers,Legend: The Best of Bob Marley & The Wailers,1984,Reggae,25,\\nCarole King,Tapestry,1971,Pop,25,\\nMadonna,Like a Virgin,1984,\"Pop, dance\",25,\\nMadonna,True Blue,1986,Pop,25,\\nMariah Carey,Daydream,1995,\"Pop, R&B\",25,\\nNorah Jones,Come Away with Me,2002,Jazz,25,\\nPhil Collins,No Jacket Required,1985,\"Pop, Rock\",25,\\nQueen,Greatest Hits,1981,Rock,25,\\nSimon & Garfunkel,Bridge over Troubled Water,1970,Folk rock,25,\\nU2,The Joshua Tree,1987,Rock,25,\\nWhitney Houston,Whitney Houston,1985,\"Pop, R&B\",25,\\nBackstreet Boys,Backstreet\\'s Back / Backstreet Boys,1997,Pop,24,\\nBackstreet Boys,Millennium,1999,Pop,24,\\nAce of Base,Happy Nation/The Sign,1993,Pop,23,\\nTLC,CrazySexyCool,1994,\"R&B, hip hop\",23,\\nCyndi Lauper,She\\'s So Unusual,1983,\"New wave, pop rock, synthpop\",22,\\nOasis,(What\\'s the Story) Morning Glory?,1995,\"Britpop, rock\",22,\\nBon Jovi,Cross Road,1994,Hard rock,21,\\nEminem,The Marshall Mathers LP,2000,\"Rap, hip-hop\",21,\\nAdele,25,2015,\"Soul, pop, R&B\",20,\\nAvril Lavigne,Let Go,2002,\"Pop rock, alternative rock, post-grunge\",20,\\nBoston,Boston,1976,Hard rock,20,\\nBritney Spears,Oops!... I Did It Again,2000,Pop,20,\\nEric Clapton,Unplugged,1992,\"Acoustic blues, folk rock\",20,\\nDef Leppard,Hysteria,1987,\"Pop, Hard rock\",20,\\nGeorge Michael,Faith,1987,\"Pop, R&B\",20,\\nGreen Day,Dookie,1994,\"Pop punk, punk rock, alternative rock\",20,\\nLionel Richie,Can\\'t Slow Down,1983,\"Pop, R&B, soul\",20,\\nMichael Jackson,\"HIStory: Past, Present and Future, Book I\",1995,\"Pop, rock, R&B\",20,\\nMichael Jackson,Off the Wall,1979,\"Soul, disco, R&B\",20,\\nPrince & the Revolution,Purple Rain,1984,\"Pop, rock, R&B\",20,\\nShania Twain,The Woman in Me,1995,\"Country, pop\",20,\\nShania Twain,Up!,2002,\"Country, pop, world music\",20,\\nSupertramp,Breakfast in America,1979,\"Progressive rock, art rock\",20,\\nTina Turner,Private Dancer,1984,\"Pop, rock, R&B\",20,\\nTracy Chapman,Tracy Chapman,1988,Folk rock,20,\\nUsher,Confessions,2004,R&B,20,\\nVarious artists,Flashdance: Original Soundtrack from the Motion Picture,1983,Soundtrack,20,\\nWhitney Houston,Whitney,1987,\"Pop, R&B\",20,\\nShakira,Laundry Service,2001,\"Pop, Rock\",20,\\n'"
     },
     "execution_count": 53,
     "metadata": {},
     "output_type": "execute_result"
    }
   ],
   "source": [
    "content = albums_file.read()\n",
    "content"
   ]
  },
  {
   "cell_type": "markdown",
   "metadata": {
    "pycharm": {
     "name": "#%% md\n"
    }
   },
   "source": [
    "If we print this instead, `\\n` is translated into a newline: "
   ]
  },
  {
   "cell_type": "code",
   "execution_count": 54,
   "metadata": {
    "pycharm": {
     "name": "#%%\n"
    }
   },
   "outputs": [
    {
     "name": "stdout",
     "output_type": "stream",
     "text": [
      "Artist,Album,Released,Genre,\"Certified sales (millions)\",Claimed sales (millions)\n",
      "Michael Jackson,Thriller,1982,\"Pop, rock, R&B\",45.4,65\n",
      "AC/DC,Back in Black,1980,Hard rock,25.9,50\n",
      "Pink Floyd,The Dark Side of the Moon,1973,Progressive rock,22.7,45\n",
      "Whitney Houston / Various artists,The Bodyguard,1992,\"Soundtrack/R&B, soul, pop\",27.4,44\n",
      "Meat Loaf,Bat Out of Hell,1977,\"Hard rock, progressive rock\",20.6,43\n",
      "Eagles,Their Greatest Hits (1971â€“1975),1976,\"Rock, soft rock, folk rock\",32.2,42\n",
      "Bee Gees / Various artists,Saturday Night Fever,1977,Disco,19,40\n",
      "Fleetwood Mac,Rumours,1977,Soft rock,27.9,40\n",
      "Shania Twain,Come On Over,1997,\"Country, pop\",29.6,39\n",
      "Led Zeppelin,Led Zeppelin IV,1971,\"Hard rock, heavy metal\",29,37\n",
      "Michael Jackson,Bad,1987,\"Pop, funk, rock\",20.3,34\n",
      "Alanis Morissette,Jagged Little Pill,1995,Alternative rock,24.8,33\n",
      "Celine Dion,Falling into You,1996,\"Pop, Soft rock\",20.2,32\n",
      "The Beatles,Sgt. Pepper's Lonely Hearts Club Band,1967,Rock,13.1,32\n",
      "Eagles,Hotel California,1976,\"Rock, soft rock, folk rock\",21.5,32\n",
      "Mariah Carey,Music Box,1993,\"Pop, R&B, Rock\",19,32\n",
      "Michael Jackson,Dangerous,1991,\"Rock, Funk, Pop\",17.6,32\n",
      "Various artists,Dirty Dancing,1987,\"Pop, rock, R&B\",17.9,32\n",
      "Celine Dion,Let's Talk About Love,1997,\"Pop, Soft rock\",19.3,31\n",
      "The Beatles,1,2000,Rock,21.6,31\n",
      "Adele,21,2011,\"Pop, soul\",22.3,30\n",
      "The Beatles,Abbey Road,1969,Rock,14.4,30\n",
      "Bruce Springsteen,Born in the U.S.A.,1984,Rock,19.6,30\n",
      "Dire Straits,Brothers in Arms,1985,Rock,17.7,30\n",
      "James Horner,Titanic: Music from the Motion Picture,1997,Soundtrack,18.1,30\n",
      "Madonna,The Immaculate Collection,1990,\"Pop, Dance\",19.4,30\n",
      "Metallica,Metallica,1991,\"Thrash metal, heavy metal\",19.9,30\n",
      "Nirvana,Nevermind,1991,\"Grunge, alternative rock\",16.7,30\n",
      "Pink Floyd,The Wall,1979,Progressive rock,17.6,30\n",
      "Santana,Supernatural,1999,Rock,20.5,30\n",
      "Guns N' Roses,Appetite for Destruction,1987,\"Heavy metal, hard rock\",21.3,30\n",
      "ABBA,Gold: Greatest Hits,1992,Pop,29,\n",
      "Bon Jovi,Slippery When Wet,1986,Hard rock,28,\n",
      "Spice Girls,Spice,1996,Pop,28,\n",
      "Various artists,Grease: The Original Soundtrack from the Motion Picture,1978,Soundtrack,28,\n",
      "Britney Spears,...Baby One More Time,1999,Pop,28,\n",
      "Linkin Park,Hybrid Theory,2000,\"Nu metal, rap metal, alternative metal\",27,\n",
      "Bob Marley & The Wailers,Legend: The Best of Bob Marley & The Wailers,1984,Reggae,25,\n",
      "Carole King,Tapestry,1971,Pop,25,\n",
      "Madonna,Like a Virgin,1984,\"Pop, dance\",25,\n",
      "Madonna,True Blue,1986,Pop,25,\n",
      "Mariah Carey,Daydream,1995,\"Pop, R&B\",25,\n",
      "Norah Jones,Come Away with Me,2002,Jazz,25,\n",
      "Phil Collins,No Jacket Required,1985,\"Pop, Rock\",25,\n",
      "Queen,Greatest Hits,1981,Rock,25,\n",
      "Simon & Garfunkel,Bridge over Troubled Water,1970,Folk rock,25,\n",
      "U2,The Joshua Tree,1987,Rock,25,\n",
      "Whitney Houston,Whitney Houston,1985,\"Pop, R&B\",25,\n",
      "Backstreet Boys,Backstreet's Back / Backstreet Boys,1997,Pop,24,\n",
      "Backstreet Boys,Millennium,1999,Pop,24,\n",
      "Ace of Base,Happy Nation/The Sign,1993,Pop,23,\n",
      "TLC,CrazySexyCool,1994,\"R&B, hip hop\",23,\n",
      "Cyndi Lauper,She's So Unusual,1983,\"New wave, pop rock, synthpop\",22,\n",
      "Oasis,(What's the Story) Morning Glory?,1995,\"Britpop, rock\",22,\n",
      "Bon Jovi,Cross Road,1994,Hard rock,21,\n",
      "Eminem,The Marshall Mathers LP,2000,\"Rap, hip-hop\",21,\n",
      "Adele,25,2015,\"Soul, pop, R&B\",20,\n",
      "Avril Lavigne,Let Go,2002,\"Pop rock, alternative rock, post-grunge\",20,\n",
      "Boston,Boston,1976,Hard rock,20,\n",
      "Britney Spears,Oops!... I Did It Again,2000,Pop,20,\n",
      "Eric Clapton,Unplugged,1992,\"Acoustic blues, folk rock\",20,\n",
      "Def Leppard,Hysteria,1987,\"Pop, Hard rock\",20,\n",
      "George Michael,Faith,1987,\"Pop, R&B\",20,\n",
      "Green Day,Dookie,1994,\"Pop punk, punk rock, alternative rock\",20,\n",
      "Lionel Richie,Can't Slow Down,1983,\"Pop, R&B, soul\",20,\n",
      "Michael Jackson,\"HIStory: Past, Present and Future, Book I\",1995,\"Pop, rock, R&B\",20,\n",
      "Michael Jackson,Off the Wall,1979,\"Soul, disco, R&B\",20,\n",
      "Prince & the Revolution,Purple Rain,1984,\"Pop, rock, R&B\",20,\n",
      "Shania Twain,The Woman in Me,1995,\"Country, pop\",20,\n",
      "Shania Twain,Up!,2002,\"Country, pop, world music\",20,\n",
      "Supertramp,Breakfast in America,1979,\"Progressive rock, art rock\",20,\n",
      "Tina Turner,Private Dancer,1984,\"Pop, rock, R&B\",20,\n",
      "Tracy Chapman,Tracy Chapman,1988,Folk rock,20,\n",
      "Usher,Confessions,2004,R&B,20,\n",
      "Various artists,Flashdance: Original Soundtrack from the Motion Picture,1983,Soundtrack,20,\n",
      "Whitney Houston,Whitney,1987,\"Pop, R&B\",20,\n",
      "Shakira,Laundry Service,2001,\"Pop, Rock\",20,\n",
      "\n"
     ]
    }
   ],
   "source": [
    "print(content)"
   ]
  },
  {
   "cell_type": "markdown",
   "metadata": {
    "pycharm": {
     "name": "#%% md\n"
    }
   },
   "source": [
    "After reading a file, we have to manually close it again to release the OS resources:"
   ]
  },
  {
   "cell_type": "code",
   "execution_count": 55,
   "metadata": {
    "pycharm": {
     "name": "#%%\n"
    }
   },
   "outputs": [],
   "source": [
    "albums_file.close()"
   ]
  },
  {
   "cell_type": "markdown",
   "metadata": {
    "pycharm": {
     "name": "#%% md\n"
    }
   },
   "source": [
    "As an alternative to reading the whole file, we can read each line separately:"
   ]
  },
  {
   "cell_type": "code",
   "execution_count": 56,
   "metadata": {
    "pycharm": {
     "name": "#%%\n"
    }
   },
   "outputs": [
    {
     "name": "stdout",
     "output_type": "stream",
     "text": [
      "Artist,Album,Released,Genre,\"Certified sales (millions)\",Claimed sales (millions)\n",
      "\n"
     ]
    }
   ],
   "source": [
    "albums_file = open('hit_albums.csv', 'r')\n",
    "line1 = albums_file.readline();\n",
    "print(line1)"
   ]
  },
  {
   "cell_type": "markdown",
   "metadata": {
    "pycharm": {
     "name": "#%% md\n"
    }
   },
   "source": [
    "We could now [`split()`](https://docs.python.org/3/library/stdtypes.html#str.split) the string based on the comma, to create a simple CSV parser:"
   ]
  },
  {
   "cell_type": "code",
   "execution_count": 57,
   "metadata": {
    "pycharm": {
     "name": "#%%\n"
    }
   },
   "outputs": [
    {
     "data": {
      "text/plain": "['Artist',\n 'Album',\n 'Released',\n 'Genre',\n '\"Certified sales (millions)\"',\n 'Claimed sales (millions)\\n']"
     },
     "execution_count": 57,
     "metadata": {},
     "output_type": "execute_result"
    }
   ],
   "source": [
    "line1.split(\",\")"
   ]
  },
  {
   "cell_type": "markdown",
   "metadata": {
    "pycharm": {
     "name": "#%% md\n"
    }
   },
   "source": [
    "After you have called  `readline()`, the next time you call it, it will read the next line. \n",
    "\n",
    "We can also treat albums_file as a list (or better, as an iterable data structure) and loop over the file and read the data into an array:"
   ]
  },
  {
   "cell_type": "code",
   "execution_count": 58,
   "metadata": {
    "scrolled": false,
    "pycharm": {
     "name": "#%%\n"
    }
   },
   "outputs": [
    {
     "data": {
      "text/plain": "[['Michael Jackson',\n  'Thriller',\n  '1982',\n  '\"Pop',\n  ' rock',\n  ' R&B\"',\n  '45.4',\n  '65\\n'],\n ['AC/DC', 'Back in Black', '1980', 'Hard rock', '25.9', '50\\n'],\n ['Pink Floyd',\n  'The Dark Side of the Moon',\n  '1973',\n  'Progressive rock',\n  '22.7',\n  '45\\n'],\n ['Whitney Houston / Various artists',\n  'The Bodyguard',\n  '1992',\n  '\"Soundtrack/R&B',\n  ' soul',\n  ' pop\"',\n  '27.4',\n  '44\\n'],\n ['Meat Loaf',\n  'Bat Out of Hell',\n  '1977',\n  '\"Hard rock',\n  ' progressive rock\"',\n  '20.6',\n  '43\\n'],\n ['Eagles',\n  'Their Greatest Hits (1971â€“1975)',\n  '1976',\n  '\"Rock',\n  ' soft rock',\n  ' folk rock\"',\n  '32.2',\n  '42\\n'],\n ['Bee Gees / Various artists',\n  'Saturday Night Fever',\n  '1977',\n  'Disco',\n  '19',\n  '40\\n'],\n ['Fleetwood Mac', 'Rumours', '1977', 'Soft rock', '27.9', '40\\n'],\n ['Shania Twain', 'Come On Over', '1997', '\"Country', ' pop\"', '29.6', '39\\n'],\n ['Led Zeppelin',\n  'Led Zeppelin IV',\n  '1971',\n  '\"Hard rock',\n  ' heavy metal\"',\n  '29',\n  '37\\n'],\n ['Michael Jackson', 'Bad', '1987', '\"Pop', ' funk', ' rock\"', '20.3', '34\\n'],\n ['Alanis Morissette',\n  'Jagged Little Pill',\n  '1995',\n  'Alternative rock',\n  '24.8',\n  '33\\n'],\n ['Celine Dion',\n  'Falling into You',\n  '1996',\n  '\"Pop',\n  ' Soft rock\"',\n  '20.2',\n  '32\\n'],\n ['The Beatles',\n  \"Sgt. Pepper's Lonely Hearts Club Band\",\n  '1967',\n  'Rock',\n  '13.1',\n  '32\\n'],\n ['Eagles',\n  'Hotel California',\n  '1976',\n  '\"Rock',\n  ' soft rock',\n  ' folk rock\"',\n  '21.5',\n  '32\\n'],\n ['Mariah Carey', 'Music Box', '1993', '\"Pop', ' R&B', ' Rock\"', '19', '32\\n'],\n ['Michael Jackson',\n  'Dangerous',\n  '1991',\n  '\"Rock',\n  ' Funk',\n  ' Pop\"',\n  '17.6',\n  '32\\n'],\n ['Various artists',\n  'Dirty Dancing',\n  '1987',\n  '\"Pop',\n  ' rock',\n  ' R&B\"',\n  '17.9',\n  '32\\n'],\n ['Celine Dion',\n  \"Let's Talk About Love\",\n  '1997',\n  '\"Pop',\n  ' Soft rock\"',\n  '19.3',\n  '31\\n'],\n ['The Beatles', '1', '2000', 'Rock', '21.6', '31\\n'],\n ['Adele', '21', '2011', '\"Pop', ' soul\"', '22.3', '30\\n'],\n ['The Beatles', 'Abbey Road', '1969', 'Rock', '14.4', '30\\n'],\n ['Bruce Springsteen', 'Born in the U.S.A.', '1984', 'Rock', '19.6', '30\\n'],\n ['Dire Straits', 'Brothers in Arms', '1985', 'Rock', '17.7', '30\\n'],\n ['James Horner',\n  'Titanic: Music from the Motion Picture',\n  '1997',\n  'Soundtrack',\n  '18.1',\n  '30\\n'],\n ['Madonna',\n  'The Immaculate Collection',\n  '1990',\n  '\"Pop',\n  ' Dance\"',\n  '19.4',\n  '30\\n'],\n ['Metallica',\n  'Metallica',\n  '1991',\n  '\"Thrash metal',\n  ' heavy metal\"',\n  '19.9',\n  '30\\n'],\n ['Nirvana',\n  'Nevermind',\n  '1991',\n  '\"Grunge',\n  ' alternative rock\"',\n  '16.7',\n  '30\\n'],\n ['Pink Floyd', 'The Wall', '1979', 'Progressive rock', '17.6', '30\\n'],\n ['Santana', 'Supernatural', '1999', 'Rock', '20.5', '30\\n'],\n [\"Guns N' Roses\",\n  'Appetite for Destruction',\n  '1987',\n  '\"Heavy metal',\n  ' hard rock\"',\n  '21.3',\n  '30\\n'],\n ['ABBA', 'Gold: Greatest Hits', '1992', 'Pop', '29', '\\n'],\n ['Bon Jovi', 'Slippery When Wet', '1986', 'Hard rock', '28', '\\n'],\n ['Spice Girls', 'Spice', '1996', 'Pop', '28', '\\n'],\n ['Various artists',\n  'Grease: The Original Soundtrack from the Motion Picture',\n  '1978',\n  'Soundtrack',\n  '28',\n  '\\n'],\n ['Britney Spears', '...Baby One More Time', '1999', 'Pop', '28', '\\n'],\n ['Linkin Park',\n  'Hybrid Theory',\n  '2000',\n  '\"Nu metal',\n  ' rap metal',\n  ' alternative metal\"',\n  '27',\n  '\\n'],\n ['Bob Marley & The Wailers',\n  'Legend: The Best of Bob Marley & The Wailers',\n  '1984',\n  'Reggae',\n  '25',\n  '\\n'],\n ['Carole King', 'Tapestry', '1971', 'Pop', '25', '\\n'],\n ['Madonna', 'Like a Virgin', '1984', '\"Pop', ' dance\"', '25', '\\n'],\n ['Madonna', 'True Blue', '1986', 'Pop', '25', '\\n'],\n ['Mariah Carey', 'Daydream', '1995', '\"Pop', ' R&B\"', '25', '\\n'],\n ['Norah Jones', 'Come Away with Me', '2002', 'Jazz', '25', '\\n'],\n ['Phil Collins', 'No Jacket Required', '1985', '\"Pop', ' Rock\"', '25', '\\n'],\n ['Queen', 'Greatest Hits', '1981', 'Rock', '25', '\\n'],\n ['Simon & Garfunkel',\n  'Bridge over Troubled Water',\n  '1970',\n  'Folk rock',\n  '25',\n  '\\n'],\n ['U2', 'The Joshua Tree', '1987', 'Rock', '25', '\\n'],\n ['Whitney Houston', 'Whitney Houston', '1985', '\"Pop', ' R&B\"', '25', '\\n'],\n ['Backstreet Boys',\n  \"Backstreet's Back / Backstreet Boys\",\n  '1997',\n  'Pop',\n  '24',\n  '\\n'],\n ['Backstreet Boys', 'Millennium', '1999', 'Pop', '24', '\\n'],\n ['Ace of Base', 'Happy Nation/The Sign', '1993', 'Pop', '23', '\\n'],\n ['TLC', 'CrazySexyCool', '1994', '\"R&B', ' hip hop\"', '23', '\\n'],\n ['Cyndi Lauper',\n  \"She's So Unusual\",\n  '1983',\n  '\"New wave',\n  ' pop rock',\n  ' synthpop\"',\n  '22',\n  '\\n'],\n ['Oasis',\n  \"(What's the Story) Morning Glory?\",\n  '1995',\n  '\"Britpop',\n  ' rock\"',\n  '22',\n  '\\n'],\n ['Bon Jovi', 'Cross Road', '1994', 'Hard rock', '21', '\\n'],\n ['Eminem',\n  'The Marshall Mathers LP',\n  '2000',\n  '\"Rap',\n  ' hip-hop\"',\n  '21',\n  '\\n'],\n ['Adele', '25', '2015', '\"Soul', ' pop', ' R&B\"', '20', '\\n'],\n ['Avril Lavigne',\n  'Let Go',\n  '2002',\n  '\"Pop rock',\n  ' alternative rock',\n  ' post-grunge\"',\n  '20',\n  '\\n'],\n ['Boston', 'Boston', '1976', 'Hard rock', '20', '\\n'],\n ['Britney Spears', 'Oops!... I Did It Again', '2000', 'Pop', '20', '\\n'],\n ['Eric Clapton',\n  'Unplugged',\n  '1992',\n  '\"Acoustic blues',\n  ' folk rock\"',\n  '20',\n  '\\n'],\n ['Def Leppard', 'Hysteria', '1987', '\"Pop', ' Hard rock\"', '20', '\\n'],\n ['George Michael', 'Faith', '1987', '\"Pop', ' R&B\"', '20', '\\n'],\n ['Green Day',\n  'Dookie',\n  '1994',\n  '\"Pop punk',\n  ' punk rock',\n  ' alternative rock\"',\n  '20',\n  '\\n'],\n ['Lionel Richie',\n  \"Can't Slow Down\",\n  '1983',\n  '\"Pop',\n  ' R&B',\n  ' soul\"',\n  '20',\n  '\\n'],\n ['Michael Jackson',\n  '\"HIStory: Past',\n  ' Present and Future',\n  ' Book I\"',\n  '1995',\n  '\"Pop',\n  ' rock',\n  ' R&B\"',\n  '20',\n  '\\n'],\n ['Michael Jackson',\n  'Off the Wall',\n  '1979',\n  '\"Soul',\n  ' disco',\n  ' R&B\"',\n  '20',\n  '\\n'],\n ['Prince & the Revolution',\n  'Purple Rain',\n  '1984',\n  '\"Pop',\n  ' rock',\n  ' R&B\"',\n  '20',\n  '\\n'],\n ['Shania Twain', 'The Woman in Me', '1995', '\"Country', ' pop\"', '20', '\\n'],\n ['Shania Twain',\n  'Up!',\n  '2002',\n  '\"Country',\n  ' pop',\n  ' world music\"',\n  '20',\n  '\\n'],\n ['Supertramp',\n  'Breakfast in America',\n  '1979',\n  '\"Progressive rock',\n  ' art rock\"',\n  '20',\n  '\\n'],\n ['Tina Turner',\n  'Private Dancer',\n  '1984',\n  '\"Pop',\n  ' rock',\n  ' R&B\"',\n  '20',\n  '\\n'],\n ['Tracy Chapman', 'Tracy Chapman', '1988', 'Folk rock', '20', '\\n'],\n ['Usher', 'Confessions', '2004', 'R&B', '20', '\\n'],\n ['Various artists',\n  'Flashdance: Original Soundtrack from the Motion Picture',\n  '1983',\n  'Soundtrack',\n  '20',\n  '\\n'],\n ['Whitney Houston', 'Whitney', '1987', '\"Pop', ' R&B\"', '20', '\\n'],\n ['Shakira', 'Laundry Service', '2001', '\"Pop', ' Rock\"', '20', '\\n']]"
     },
     "execution_count": 58,
     "metadata": {},
     "output_type": "execute_result"
    }
   ],
   "source": [
    "data = []\n",
    "for line in albums_file:\n",
    "    data.append(line.split(\",\"))\n",
    "    \n",
    "# let's not forget to close the file:\n",
    "albums_file.close()\n",
    "data"
   ]
  },
  {
   "cell_type": "markdown",
   "metadata": {
    "pycharm": {
     "name": "#%% md\n"
    }
   },
   "source": [
    "We can now read individual cells or rows:"
   ]
  },
  {
   "cell_type": "code",
   "execution_count": 59,
   "metadata": {
    "pycharm": {
     "name": "#%%\n"
    }
   },
   "outputs": [
    {
     "data": {
      "text/plain": "['Michael Jackson',\n 'Thriller',\n '1982',\n '\"Pop',\n ' rock',\n ' R&B\"',\n '45.4',\n '65\\n']"
     },
     "execution_count": 59,
     "metadata": {},
     "output_type": "execute_result"
    }
   ],
   "source": [
    "data[0]"
   ]
  },
  {
   "cell_type": "code",
   "execution_count": 60,
   "metadata": {
    "pycharm": {
     "name": "#%%\n"
    }
   },
   "outputs": [
    {
     "data": {
      "text/plain": "'Thriller'"
     },
     "execution_count": 60,
     "metadata": {},
     "output_type": "execute_result"
    }
   ],
   "source": [
    "data[0][1]"
   ]
  },
  {
   "cell_type": "markdown",
   "metadata": {
    "pycharm": {
     "name": "#%% md\n"
    }
   },
   "source": [
    "As we can see, this **didn't take proper care of our double-quote escape of \"Pop, rock, R&B\"**. Also, numbers are still treated as strings and the newline character is also appended to the last cell. \n",
    "\n",
    "We could certainly improve our parser to handle these issues, but fortunately, there are existing methods to parse CSV files that make this easier."
   ]
  },
  {
   "cell_type": "markdown",
   "metadata": {
    "pycharm": {
     "name": "#%% md\n"
    }
   },
   "source": [
    "### 2.2 Writing\n",
    "\n",
    "We can write by opening a file using the `w` flag. Here we also use the [`with`](https://docs.python.org/3/reference/compound_stmts.html#the-with-statement) keyword, which takes care of closing the file for us, even if things go wrong (see [this blog post](https://jeffknupp.com/blog/2016/03/07/python-with-context-managers/) for details):"
   ]
  },
  {
   "cell_type": "code",
   "execution_count": 61,
   "metadata": {
    "pycharm": {
     "name": "#%%\n"
    }
   },
   "outputs": [],
   "source": [
    "with open('my_file.txt', 'w') as new_file:\n",
    "    new_file.write(\"Hello World\\nAre you still spinning?\\n\")"
   ]
  },
  {
   "cell_type": "markdown",
   "metadata": {
    "pycharm": {
     "name": "#%% md\n"
    }
   },
   "source": [
    "We can now check out this file by opening [my_file.txt](my_file.txt). Notice that the file is only guaranteed to be written if you actually close it (which, here, is take care of by the context manager invoked by the `with` statement). \n",
    "\n",
    "You can find more examples on basic file operations in the [Python Documentation](https://docs.python.org/3/tutorial/inputoutput.html)."
   ]
  },
  {
   "cell_type": "markdown",
   "metadata": {
    "pycharm": {
     "name": "#%% md\n"
    }
   },
   "source": [
    "### 2.3 Reading a CSV file with the CSV Library\n",
    "\n",
    "We can use the CSV library to help with reading the data. It takes a `delimiter` and a `quotechar` as parameters; the latter is useful for our double quotes:"
   ]
  },
  {
   "cell_type": "code",
   "execution_count": 62,
   "metadata": {
    "pycharm": {
     "name": "#%%\n"
    }
   },
   "outputs": [
    {
     "name": "stdout",
     "output_type": "stream",
     "text": [
      "Row: ['Artist', 'Album', 'Released', 'Genre', 'Certified sales (millions)', 'Claimed sales (millions)']\n",
      "Row: ['Michael Jackson', 'Thriller', '1982', 'Pop, rock, R&B', '45.4', '65']\n",
      "Row: ['AC/DC', 'Back in Black', '1980', 'Hard rock', '25.9', '50']\n",
      "Row: ['Pink Floyd', 'The Dark Side of the Moon', '1973', 'Progressive rock', '22.7', '45']\n",
      "Row: ['Whitney Houston / Various artists', 'The Bodyguard', '1992', 'Soundtrack/R&B, soul, pop', '27.4', '44']\n",
      "Row: ['Meat Loaf', 'Bat Out of Hell', '1977', 'Hard rock, progressive rock', '20.6', '43']\n",
      "Row: ['Eagles', 'Their Greatest Hits (1971â€“1975)', '1976', 'Rock, soft rock, folk rock', '32.2', '42']\n",
      "Row: ['Bee Gees / Various artists', 'Saturday Night Fever', '1977', 'Disco', '19', '40']\n",
      "Row: ['Fleetwood Mac', 'Rumours', '1977', 'Soft rock', '27.9', '40']\n",
      "Row: ['Shania Twain', 'Come On Over', '1997', 'Country, pop', '29.6', '39']\n",
      "Row: ['Led Zeppelin', 'Led Zeppelin IV', '1971', 'Hard rock, heavy metal', '29', '37']\n",
      "Row: ['Michael Jackson', 'Bad', '1987', 'Pop, funk, rock', '20.3', '34']\n",
      "Row: ['Alanis Morissette', 'Jagged Little Pill', '1995', 'Alternative rock', '24.8', '33']\n",
      "Row: ['Celine Dion', 'Falling into You', '1996', 'Pop, Soft rock', '20.2', '32']\n",
      "Row: ['The Beatles', \"Sgt. Pepper's Lonely Hearts Club Band\", '1967', 'Rock', '13.1', '32']\n",
      "Row: ['Eagles', 'Hotel California', '1976', 'Rock, soft rock, folk rock', '21.5', '32']\n",
      "Row: ['Mariah Carey', 'Music Box', '1993', 'Pop, R&B, Rock', '19', '32']\n",
      "Row: ['Michael Jackson', 'Dangerous', '1991', 'Rock, Funk, Pop', '17.6', '32']\n",
      "Row: ['Various artists', 'Dirty Dancing', '1987', 'Pop, rock, R&B', '17.9', '32']\n",
      "Row: ['Celine Dion', \"Let's Talk About Love\", '1997', 'Pop, Soft rock', '19.3', '31']\n",
      "Row: ['The Beatles', '1', '2000', 'Rock', '21.6', '31']\n",
      "Row: ['Adele', '21', '2011', 'Pop, soul', '22.3', '30']\n",
      "Row: ['The Beatles', 'Abbey Road', '1969', 'Rock', '14.4', '30']\n",
      "Row: ['Bruce Springsteen', 'Born in the U.S.A.', '1984', 'Rock', '19.6', '30']\n",
      "Row: ['Dire Straits', 'Brothers in Arms', '1985', 'Rock', '17.7', '30']\n",
      "Row: ['James Horner', 'Titanic: Music from the Motion Picture', '1997', 'Soundtrack', '18.1', '30']\n",
      "Row: ['Madonna', 'The Immaculate Collection', '1990', 'Pop, Dance', '19.4', '30']\n",
      "Row: ['Metallica', 'Metallica', '1991', 'Thrash metal, heavy metal', '19.9', '30']\n",
      "Row: ['Nirvana', 'Nevermind', '1991', 'Grunge, alternative rock', '16.7', '30']\n",
      "Row: ['Pink Floyd', 'The Wall', '1979', 'Progressive rock', '17.6', '30']\n",
      "Row: ['Santana', 'Supernatural', '1999', 'Rock', '20.5', '30']\n",
      "Row: [\"Guns N' Roses\", 'Appetite for Destruction', '1987', 'Heavy metal, hard rock', '21.3', '30']\n",
      "Row: ['ABBA', 'Gold: Greatest Hits', '1992', 'Pop', '29', '']\n",
      "Row: ['Bon Jovi', 'Slippery When Wet', '1986', 'Hard rock', '28', '']\n",
      "Row: ['Spice Girls', 'Spice', '1996', 'Pop', '28', '']\n",
      "Row: ['Various artists', 'Grease: The Original Soundtrack from the Motion Picture', '1978', 'Soundtrack', '28', '']\n",
      "Row: ['Britney Spears', '...Baby One More Time', '1999', 'Pop', '28', '']\n",
      "Row: ['Linkin Park', 'Hybrid Theory', '2000', 'Nu metal, rap metal, alternative metal', '27', '']\n",
      "Row: ['Bob Marley & The Wailers', 'Legend: The Best of Bob Marley & The Wailers', '1984', 'Reggae', '25', '']\n",
      "Row: ['Carole King', 'Tapestry', '1971', 'Pop', '25', '']\n",
      "Row: ['Madonna', 'Like a Virgin', '1984', 'Pop, dance', '25', '']\n",
      "Row: ['Madonna', 'True Blue', '1986', 'Pop', '25', '']\n",
      "Row: ['Mariah Carey', 'Daydream', '1995', 'Pop, R&B', '25', '']\n",
      "Row: ['Norah Jones', 'Come Away with Me', '2002', 'Jazz', '25', '']\n",
      "Row: ['Phil Collins', 'No Jacket Required', '1985', 'Pop, Rock', '25', '']\n",
      "Row: ['Queen', 'Greatest Hits', '1981', 'Rock', '25', '']\n",
      "Row: ['Simon & Garfunkel', 'Bridge over Troubled Water', '1970', 'Folk rock', '25', '']\n",
      "Row: ['U2', 'The Joshua Tree', '1987', 'Rock', '25', '']\n",
      "Row: ['Whitney Houston', 'Whitney Houston', '1985', 'Pop, R&B', '25', '']\n",
      "Row: ['Backstreet Boys', \"Backstreet's Back / Backstreet Boys\", '1997', 'Pop', '24', '']\n",
      "Row: ['Backstreet Boys', 'Millennium', '1999', 'Pop', '24', '']\n",
      "Row: ['Ace of Base', 'Happy Nation/The Sign', '1993', 'Pop', '23', '']\n",
      "Row: ['TLC', 'CrazySexyCool', '1994', 'R&B, hip hop', '23', '']\n",
      "Row: ['Cyndi Lauper', \"She's So Unusual\", '1983', 'New wave, pop rock, synthpop', '22', '']\n",
      "Row: ['Oasis', \"(What's the Story) Morning Glory?\", '1995', 'Britpop, rock', '22', '']\n",
      "Row: ['Bon Jovi', 'Cross Road', '1994', 'Hard rock', '21', '']\n",
      "Row: ['Eminem', 'The Marshall Mathers LP', '2000', 'Rap, hip-hop', '21', '']\n",
      "Row: ['Adele', '25', '2015', 'Soul, pop, R&B', '20', '']\n",
      "Row: ['Avril Lavigne', 'Let Go', '2002', 'Pop rock, alternative rock, post-grunge', '20', '']\n",
      "Row: ['Boston', 'Boston', '1976', 'Hard rock', '20', '']\n",
      "Row: ['Britney Spears', 'Oops!... I Did It Again', '2000', 'Pop', '20', '']\n",
      "Row: ['Eric Clapton', 'Unplugged', '1992', 'Acoustic blues, folk rock', '20', '']\n",
      "Row: ['Def Leppard', 'Hysteria', '1987', 'Pop, Hard rock', '20', '']\n",
      "Row: ['George Michael', 'Faith', '1987', 'Pop, R&B', '20', '']\n",
      "Row: ['Green Day', 'Dookie', '1994', 'Pop punk, punk rock, alternative rock', '20', '']\n",
      "Row: ['Lionel Richie', \"Can't Slow Down\", '1983', 'Pop, R&B, soul', '20', '']\n",
      "Row: ['Michael Jackson', 'HIStory: Past, Present and Future, Book I', '1995', 'Pop, rock, R&B', '20', '']\n",
      "Row: ['Michael Jackson', 'Off the Wall', '1979', 'Soul, disco, R&B', '20', '']\n",
      "Row: ['Prince & the Revolution', 'Purple Rain', '1984', 'Pop, rock, R&B', '20', '']\n",
      "Row: ['Shania Twain', 'The Woman in Me', '1995', 'Country, pop', '20', '']\n",
      "Row: ['Shania Twain', 'Up!', '2002', 'Country, pop, world music', '20', '']\n",
      "Row: ['Supertramp', 'Breakfast in America', '1979', 'Progressive rock, art rock', '20', '']\n",
      "Row: ['Tina Turner', 'Private Dancer', '1984', 'Pop, rock, R&B', '20', '']\n",
      "Row: ['Tracy Chapman', 'Tracy Chapman', '1988', 'Folk rock', '20', '']\n",
      "Row: ['Usher', 'Confessions', '2004', 'R&B', '20', '']\n",
      "Row: ['Various artists', 'Flashdance: Original Soundtrack from the Motion Picture', '1983', 'Soundtrack', '20', '']\n",
      "Row: ['Whitney Houston', 'Whitney', '1987', 'Pop, R&B', '20', '']\n",
      "Row: ['Shakira', 'Laundry Service', '2001', 'Pop, Rock', '20', '']\n",
      "\n",
      "['Artist', 'Album', 'Released', 'Genre', 'Certified sales (millions)', 'Claimed sales (millions)']\n",
      "\n",
      "[['Michael Jackson', 'Thriller', '1982', 'Pop, rock, R&B', '45.4', '65'], ['AC/DC', 'Back in Black', '1980', 'Hard rock', '25.9', '50'], ['Pink Floyd', 'The Dark Side of the Moon', '1973', 'Progressive rock', '22.7', '45'], ['Whitney Houston / Various artists', 'The Bodyguard', '1992', 'Soundtrack/R&B, soul, pop', '27.4', '44'], ['Meat Loaf', 'Bat Out of Hell', '1977', 'Hard rock, progressive rock', '20.6', '43'], ['Eagles', 'Their Greatest Hits (1971â€“1975)', '1976', 'Rock, soft rock, folk rock', '32.2', '42'], ['Bee Gees / Various artists', 'Saturday Night Fever', '1977', 'Disco', '19', '40'], ['Fleetwood Mac', 'Rumours', '1977', 'Soft rock', '27.9', '40'], ['Shania Twain', 'Come On Over', '1997', 'Country, pop', '29.6', '39'], ['Led Zeppelin', 'Led Zeppelin IV', '1971', 'Hard rock, heavy metal', '29', '37'], ['Michael Jackson', 'Bad', '1987', 'Pop, funk, rock', '20.3', '34'], ['Alanis Morissette', 'Jagged Little Pill', '1995', 'Alternative rock', '24.8', '33'], ['Celine Dion', 'Falling into You', '1996', 'Pop, Soft rock', '20.2', '32'], ['The Beatles', \"Sgt. Pepper's Lonely Hearts Club Band\", '1967', 'Rock', '13.1', '32'], ['Eagles', 'Hotel California', '1976', 'Rock, soft rock, folk rock', '21.5', '32'], ['Mariah Carey', 'Music Box', '1993', 'Pop, R&B, Rock', '19', '32'], ['Michael Jackson', 'Dangerous', '1991', 'Rock, Funk, Pop', '17.6', '32'], ['Various artists', 'Dirty Dancing', '1987', 'Pop, rock, R&B', '17.9', '32'], ['Celine Dion', \"Let's Talk About Love\", '1997', 'Pop, Soft rock', '19.3', '31'], ['The Beatles', '1', '2000', 'Rock', '21.6', '31'], ['Adele', '21', '2011', 'Pop, soul', '22.3', '30'], ['The Beatles', 'Abbey Road', '1969', 'Rock', '14.4', '30'], ['Bruce Springsteen', 'Born in the U.S.A.', '1984', 'Rock', '19.6', '30'], ['Dire Straits', 'Brothers in Arms', '1985', 'Rock', '17.7', '30'], ['James Horner', 'Titanic: Music from the Motion Picture', '1997', 'Soundtrack', '18.1', '30'], ['Madonna', 'The Immaculate Collection', '1990', 'Pop, Dance', '19.4', '30'], ['Metallica', 'Metallica', '1991', 'Thrash metal, heavy metal', '19.9', '30'], ['Nirvana', 'Nevermind', '1991', 'Grunge, alternative rock', '16.7', '30'], ['Pink Floyd', 'The Wall', '1979', 'Progressive rock', '17.6', '30'], ['Santana', 'Supernatural', '1999', 'Rock', '20.5', '30'], [\"Guns N' Roses\", 'Appetite for Destruction', '1987', 'Heavy metal, hard rock', '21.3', '30'], ['ABBA', 'Gold: Greatest Hits', '1992', 'Pop', '29', ''], ['Bon Jovi', 'Slippery When Wet', '1986', 'Hard rock', '28', ''], ['Spice Girls', 'Spice', '1996', 'Pop', '28', ''], ['Various artists', 'Grease: The Original Soundtrack from the Motion Picture', '1978', 'Soundtrack', '28', ''], ['Britney Spears', '...Baby One More Time', '1999', 'Pop', '28', ''], ['Linkin Park', 'Hybrid Theory', '2000', 'Nu metal, rap metal, alternative metal', '27', ''], ['Bob Marley & The Wailers', 'Legend: The Best of Bob Marley & The Wailers', '1984', 'Reggae', '25', ''], ['Carole King', 'Tapestry', '1971', 'Pop', '25', ''], ['Madonna', 'Like a Virgin', '1984', 'Pop, dance', '25', ''], ['Madonna', 'True Blue', '1986', 'Pop', '25', ''], ['Mariah Carey', 'Daydream', '1995', 'Pop, R&B', '25', ''], ['Norah Jones', 'Come Away with Me', '2002', 'Jazz', '25', ''], ['Phil Collins', 'No Jacket Required', '1985', 'Pop, Rock', '25', ''], ['Queen', 'Greatest Hits', '1981', 'Rock', '25', ''], ['Simon & Garfunkel', 'Bridge over Troubled Water', '1970', 'Folk rock', '25', ''], ['U2', 'The Joshua Tree', '1987', 'Rock', '25', ''], ['Whitney Houston', 'Whitney Houston', '1985', 'Pop, R&B', '25', ''], ['Backstreet Boys', \"Backstreet's Back / Backstreet Boys\", '1997', 'Pop', '24', ''], ['Backstreet Boys', 'Millennium', '1999', 'Pop', '24', ''], ['Ace of Base', 'Happy Nation/The Sign', '1993', 'Pop', '23', ''], ['TLC', 'CrazySexyCool', '1994', 'R&B, hip hop', '23', ''], ['Cyndi Lauper', \"She's So Unusual\", '1983', 'New wave, pop rock, synthpop', '22', ''], ['Oasis', \"(What's the Story) Morning Glory?\", '1995', 'Britpop, rock', '22', ''], ['Bon Jovi', 'Cross Road', '1994', 'Hard rock', '21', ''], ['Eminem', 'The Marshall Mathers LP', '2000', 'Rap, hip-hop', '21', ''], ['Adele', '25', '2015', 'Soul, pop, R&B', '20', ''], ['Avril Lavigne', 'Let Go', '2002', 'Pop rock, alternative rock, post-grunge', '20', ''], ['Boston', 'Boston', '1976', 'Hard rock', '20', ''], ['Britney Spears', 'Oops!... I Did It Again', '2000', 'Pop', '20', ''], ['Eric Clapton', 'Unplugged', '1992', 'Acoustic blues, folk rock', '20', ''], ['Def Leppard', 'Hysteria', '1987', 'Pop, Hard rock', '20', ''], ['George Michael', 'Faith', '1987', 'Pop, R&B', '20', ''], ['Green Day', 'Dookie', '1994', 'Pop punk, punk rock, alternative rock', '20', ''], ['Lionel Richie', \"Can't Slow Down\", '1983', 'Pop, R&B, soul', '20', ''], ['Michael Jackson', 'HIStory: Past, Present and Future, Book I', '1995', 'Pop, rock, R&B', '20', ''], ['Michael Jackson', 'Off the Wall', '1979', 'Soul, disco, R&B', '20', ''], ['Prince & the Revolution', 'Purple Rain', '1984', 'Pop, rock, R&B', '20', ''], ['Shania Twain', 'The Woman in Me', '1995', 'Country, pop', '20', ''], ['Shania Twain', 'Up!', '2002', 'Country, pop, world music', '20', ''], ['Supertramp', 'Breakfast in America', '1979', 'Progressive rock, art rock', '20', ''], ['Tina Turner', 'Private Dancer', '1984', 'Pop, rock, R&B', '20', ''], ['Tracy Chapman', 'Tracy Chapman', '1988', 'Folk rock', '20', ''], ['Usher', 'Confessions', '2004', 'R&B', '20', ''], ['Various artists', 'Flashdance: Original Soundtrack from the Motion Picture', '1983', 'Soundtrack', '20', ''], ['Whitney Houston', 'Whitney', '1987', 'Pop, R&B', '20', ''], ['Shakira', 'Laundry Service', '2001', 'Pop, Rock', '20', '']]\n"
     ]
    }
   ],
   "source": [
    "# import the csv library\n",
    "import csv\n",
    "\n",
    "# initialize the top-level array\n",
    "data_values = []\n",
    "\n",
    "# open the file and append rows as arrays to the data_values\n",
    "with open('hit_albums.csv') as csvfile:\n",
    "    # note that we can interchangably use ' and \" in general\n",
    "    # for the quotechar, however we use ' so that we can use \" without escaping\n",
    "    filereader = csv.reader(csvfile, delimiter=',', quotechar='\"')\n",
    "    # the row here is an array\n",
    "    for row in filereader:\n",
    "        print(\"Row: \" + str(row))\n",
    "        data_values.append(row)\n",
    "\n",
    "# Store the header in a separate array\n",
    "header = data_values.pop(0)\n",
    "   \n",
    "print()    \n",
    "print(header)\n",
    "print()\n",
    "print(data_values)"
   ]
  },
  {
   "cell_type": "markdown",
   "metadata": {
    "pycharm": {
     "name": "#%% md\n"
    }
   },
   "source": [
    "To do computation on the numerical dimensions of this table, we need to convert the strings to numbers. If we just do this the simple way, it won't work: "
   ]
  },
  {
   "cell_type": "markdown",
   "source": [
    "for row in data_values:\n",
    "    row[2] = int(row[2])\n",
    "    row[4] = float(row[4])\n",
    "    row[5] = float(row[5])\n",
    "        \n",
    "data_values"
   ],
   "metadata": {
    "collapsed": false,
    "pycharm": {
     "name": "#%% md\n"
    }
   }
  },
  {
   "cell_type": "markdown",
   "metadata": {
    "pycharm": {
     "name": "#%% md\n"
    }
   },
   "source": [
    "This is because the last column, `Claimed sales (millions)` doesn't have values for each row. In that case, the conversion throws the above `ValueError`. \n",
    "\n",
    "These errors are also called Exceptions. [Exceptions](https://docs.python.org/3/reference/compound_stmts.html#try) are error states that can be raised and caught:"
   ]
  },
  {
   "cell_type": "code",
   "execution_count": 63,
   "metadata": {
    "pycharm": {
     "name": "#%%\n"
    }
   },
   "outputs": [
    {
     "data": {
      "text/plain": "[['Michael Jackson', 'Thriller', 1982, 'Pop, rock, R&B', 45.4, 65.0],\n ['AC/DC', 'Back in Black', 1980, 'Hard rock', 25.9, 50.0],\n ['Pink Floyd',\n  'The Dark Side of the Moon',\n  1973,\n  'Progressive rock',\n  22.7,\n  45.0],\n ['Whitney Houston / Various artists',\n  'The Bodyguard',\n  1992,\n  'Soundtrack/R&B, soul, pop',\n  27.4,\n  44.0],\n ['Meat Loaf',\n  'Bat Out of Hell',\n  1977,\n  'Hard rock, progressive rock',\n  20.6,\n  43.0],\n ['Eagles',\n  'Their Greatest Hits (1971â€“1975)',\n  1976,\n  'Rock, soft rock, folk rock',\n  32.2,\n  42.0],\n ['Bee Gees / Various artists',\n  'Saturday Night Fever',\n  1977,\n  'Disco',\n  19.0,\n  40.0],\n ['Fleetwood Mac', 'Rumours', 1977, 'Soft rock', 27.9, 40.0],\n ['Shania Twain', 'Come On Over', 1997, 'Country, pop', 29.6, 39.0],\n ['Led Zeppelin',\n  'Led Zeppelin IV',\n  1971,\n  'Hard rock, heavy metal',\n  29.0,\n  37.0],\n ['Michael Jackson', 'Bad', 1987, 'Pop, funk, rock', 20.3, 34.0],\n ['Alanis Morissette',\n  'Jagged Little Pill',\n  1995,\n  'Alternative rock',\n  24.8,\n  33.0],\n ['Celine Dion', 'Falling into You', 1996, 'Pop, Soft rock', 20.2, 32.0],\n ['The Beatles',\n  \"Sgt. Pepper's Lonely Hearts Club Band\",\n  1967,\n  'Rock',\n  13.1,\n  32.0],\n ['Eagles',\n  'Hotel California',\n  1976,\n  'Rock, soft rock, folk rock',\n  21.5,\n  32.0],\n ['Mariah Carey', 'Music Box', 1993, 'Pop, R&B, Rock', 19.0, 32.0],\n ['Michael Jackson', 'Dangerous', 1991, 'Rock, Funk, Pop', 17.6, 32.0],\n ['Various artists', 'Dirty Dancing', 1987, 'Pop, rock, R&B', 17.9, 32.0],\n ['Celine Dion', \"Let's Talk About Love\", 1997, 'Pop, Soft rock', 19.3, 31.0],\n ['The Beatles', '1', 2000, 'Rock', 21.6, 31.0],\n ['Adele', '21', 2011, 'Pop, soul', 22.3, 30.0],\n ['The Beatles', 'Abbey Road', 1969, 'Rock', 14.4, 30.0],\n ['Bruce Springsteen', 'Born in the U.S.A.', 1984, 'Rock', 19.6, 30.0],\n ['Dire Straits', 'Brothers in Arms', 1985, 'Rock', 17.7, 30.0],\n ['James Horner',\n  'Titanic: Music from the Motion Picture',\n  1997,\n  'Soundtrack',\n  18.1,\n  30.0],\n ['Madonna', 'The Immaculate Collection', 1990, 'Pop, Dance', 19.4, 30.0],\n ['Metallica', 'Metallica', 1991, 'Thrash metal, heavy metal', 19.9, 30.0],\n ['Nirvana', 'Nevermind', 1991, 'Grunge, alternative rock', 16.7, 30.0],\n ['Pink Floyd', 'The Wall', 1979, 'Progressive rock', 17.6, 30.0],\n ['Santana', 'Supernatural', 1999, 'Rock', 20.5, 30.0],\n [\"Guns N' Roses\",\n  'Appetite for Destruction',\n  1987,\n  'Heavy metal, hard rock',\n  21.3,\n  30.0],\n ['ABBA', 'Gold: Greatest Hits', 1992, 'Pop', 29.0, None],\n ['Bon Jovi', 'Slippery When Wet', 1986, 'Hard rock', 28.0, None],\n ['Spice Girls', 'Spice', 1996, 'Pop', 28.0, None],\n ['Various artists',\n  'Grease: The Original Soundtrack from the Motion Picture',\n  1978,\n  'Soundtrack',\n  28.0,\n  None],\n ['Britney Spears', '...Baby One More Time', 1999, 'Pop', 28.0, None],\n ['Linkin Park',\n  'Hybrid Theory',\n  2000,\n  'Nu metal, rap metal, alternative metal',\n  27.0,\n  None],\n ['Bob Marley & The Wailers',\n  'Legend: The Best of Bob Marley & The Wailers',\n  1984,\n  'Reggae',\n  25.0,\n  None],\n ['Carole King', 'Tapestry', 1971, 'Pop', 25.0, None],\n ['Madonna', 'Like a Virgin', 1984, 'Pop, dance', 25.0, None],\n ['Madonna', 'True Blue', 1986, 'Pop', 25.0, None],\n ['Mariah Carey', 'Daydream', 1995, 'Pop, R&B', 25.0, None],\n ['Norah Jones', 'Come Away with Me', 2002, 'Jazz', 25.0, None],\n ['Phil Collins', 'No Jacket Required', 1985, 'Pop, Rock', 25.0, None],\n ['Queen', 'Greatest Hits', 1981, 'Rock', 25.0, None],\n ['Simon & Garfunkel',\n  'Bridge over Troubled Water',\n  1970,\n  'Folk rock',\n  25.0,\n  None],\n ['U2', 'The Joshua Tree', 1987, 'Rock', 25.0, None],\n ['Whitney Houston', 'Whitney Houston', 1985, 'Pop, R&B', 25.0, None],\n ['Backstreet Boys',\n  \"Backstreet's Back / Backstreet Boys\",\n  1997,\n  'Pop',\n  24.0,\n  None],\n ['Backstreet Boys', 'Millennium', 1999, 'Pop', 24.0, None],\n ['Ace of Base', 'Happy Nation/The Sign', 1993, 'Pop', 23.0, None],\n ['TLC', 'CrazySexyCool', 1994, 'R&B, hip hop', 23.0, None],\n ['Cyndi Lauper',\n  \"She's So Unusual\",\n  1983,\n  'New wave, pop rock, synthpop',\n  22.0,\n  None],\n ['Oasis',\n  \"(What's the Story) Morning Glory?\",\n  1995,\n  'Britpop, rock',\n  22.0,\n  None],\n ['Bon Jovi', 'Cross Road', 1994, 'Hard rock', 21.0, None],\n ['Eminem', 'The Marshall Mathers LP', 2000, 'Rap, hip-hop', 21.0, None],\n ['Adele', '25', 2015, 'Soul, pop, R&B', 20.0, None],\n ['Avril Lavigne',\n  'Let Go',\n  2002,\n  'Pop rock, alternative rock, post-grunge',\n  20.0,\n  None],\n ['Boston', 'Boston', 1976, 'Hard rock', 20.0, None],\n ['Britney Spears', 'Oops!... I Did It Again', 2000, 'Pop', 20.0, None],\n ['Eric Clapton', 'Unplugged', 1992, 'Acoustic blues, folk rock', 20.0, None],\n ['Def Leppard', 'Hysteria', 1987, 'Pop, Hard rock', 20.0, None],\n ['George Michael', 'Faith', 1987, 'Pop, R&B', 20.0, None],\n ['Green Day',\n  'Dookie',\n  1994,\n  'Pop punk, punk rock, alternative rock',\n  20.0,\n  None],\n ['Lionel Richie', \"Can't Slow Down\", 1983, 'Pop, R&B, soul', 20.0, None],\n ['Michael Jackson',\n  'HIStory: Past, Present and Future, Book I',\n  1995,\n  'Pop, rock, R&B',\n  20.0,\n  None],\n ['Michael Jackson', 'Off the Wall', 1979, 'Soul, disco, R&B', 20.0, None],\n ['Prince & the Revolution',\n  'Purple Rain',\n  1984,\n  'Pop, rock, R&B',\n  20.0,\n  None],\n ['Shania Twain', 'The Woman in Me', 1995, 'Country, pop', 20.0, None],\n ['Shania Twain', 'Up!', 2002, 'Country, pop, world music', 20.0, None],\n ['Supertramp',\n  'Breakfast in America',\n  1979,\n  'Progressive rock, art rock',\n  20.0,\n  None],\n ['Tina Turner', 'Private Dancer', 1984, 'Pop, rock, R&B', 20.0, None],\n ['Tracy Chapman', 'Tracy Chapman', 1988, 'Folk rock', 20.0, None],\n ['Usher', 'Confessions', 2004, 'R&B', 20.0, None],\n ['Various artists',\n  'Flashdance: Original Soundtrack from the Motion Picture',\n  1983,\n  'Soundtrack',\n  20.0,\n  None],\n ['Whitney Houston', 'Whitney', 1987, 'Pop, R&B', 20.0, None],\n ['Shakira', 'Laundry Service', 2001, 'Pop, Rock', 20.0, None]]"
     },
     "execution_count": 63,
     "metadata": {},
     "output_type": "execute_result"
    }
   ],
   "source": [
    "for row in data_values: \n",
    "    # need to try and catch the exception because the column contains NaN values\n",
    "    try:\n",
    "        row[2] = int(row[2])\n",
    "        row[4] = float(row[4])\n",
    "        row[5] = float(row[5])\n",
    "    except ValueError: \n",
    "        row[5] = None\n",
    "\n",
    "data_values"
   ]
  },
  {
   "cell_type": "markdown",
   "metadata": {
    "pycharm": {
     "name": "#%% md\n"
    }
   },
   "source": [
    "So, here we have matrix that we could work with. In reality, we probably would want to structure the data a little differently: Instead of treating each row as an array, we'd want to treat each dimension (column) as an array, as this makes the column homogeneous and it makes it easy to calculate means, etc. "
   ]
  },
  {
   "cell_type": "markdown",
   "metadata": {
    "pycharm": {
     "name": "#%% md\n"
    }
   },
   "source": [
    "### 2.4 Reading CSV with Pandas\n",
    "\n",
    "Now, let's take a look at what it takes to read this file using pandas."
   ]
  },
  {
   "cell_type": "code",
   "execution_count": 64,
   "metadata": {
    "scrolled": false,
    "pycharm": {
     "name": "#%%\n"
    }
   },
   "outputs": [
    {
     "data": {
      "text/plain": "                               Artist  \\\n0                     Michael Jackson   \n1                               AC/DC   \n2                          Pink Floyd   \n3   Whitney Houston / Various artists   \n4                           Meat Loaf   \n..                                ...   \n72                      Tracy Chapman   \n73                              Usher   \n74                    Various artists   \n75                    Whitney Houston   \n76                            Shakira   \n\n                                                Album  Released  \\\n0                                            Thriller      1982   \n1                                       Back in Black      1980   \n2                           The Dark Side of the Moon      1973   \n3                                       The Bodyguard      1992   \n4                                     Bat Out of Hell      1977   \n..                                                ...       ...   \n72                                      Tracy Chapman      1988   \n73                                        Confessions      2004   \n74  Flashdance: Original Soundtrack from the Motio...      1983   \n75                                            Whitney      1987   \n76                                    Laundry Service      2001   \n\n                          Genre  Certified sales (millions)  \\\n0                Pop, rock, R&B                        45.4   \n1                     Hard rock                        25.9   \n2              Progressive rock                        22.7   \n3     Soundtrack/R&B, soul, pop                        27.4   \n4   Hard rock, progressive rock                        20.6   \n..                          ...                         ...   \n72                    Folk rock                        20.0   \n73                          R&B                        20.0   \n74                   Soundtrack                        20.0   \n75                     Pop, R&B                        20.0   \n76                    Pop, Rock                        20.0   \n\n    Claimed sales (millions)  \n0                       65.0  \n1                       50.0  \n2                       45.0  \n3                       44.0  \n4                       43.0  \n..                       ...  \n72                       NaN  \n73                       NaN  \n74                       NaN  \n75                       NaN  \n76                       NaN  \n\n[77 rows x 6 columns]",
      "text/html": "<div>\n<style scoped>\n    .dataframe tbody tr th:only-of-type {\n        vertical-align: middle;\n    }\n\n    .dataframe tbody tr th {\n        vertical-align: top;\n    }\n\n    .dataframe thead th {\n        text-align: right;\n    }\n</style>\n<table border=\"1\" class=\"dataframe\">\n  <thead>\n    <tr style=\"text-align: right;\">\n      <th></th>\n      <th>Artist</th>\n      <th>Album</th>\n      <th>Released</th>\n      <th>Genre</th>\n      <th>Certified sales (millions)</th>\n      <th>Claimed sales (millions)</th>\n    </tr>\n  </thead>\n  <tbody>\n    <tr>\n      <th>0</th>\n      <td>Michael Jackson</td>\n      <td>Thriller</td>\n      <td>1982</td>\n      <td>Pop, rock, R&amp;B</td>\n      <td>45.4</td>\n      <td>65.0</td>\n    </tr>\n    <tr>\n      <th>1</th>\n      <td>AC/DC</td>\n      <td>Back in Black</td>\n      <td>1980</td>\n      <td>Hard rock</td>\n      <td>25.9</td>\n      <td>50.0</td>\n    </tr>\n    <tr>\n      <th>2</th>\n      <td>Pink Floyd</td>\n      <td>The Dark Side of the Moon</td>\n      <td>1973</td>\n      <td>Progressive rock</td>\n      <td>22.7</td>\n      <td>45.0</td>\n    </tr>\n    <tr>\n      <th>3</th>\n      <td>Whitney Houston / Various artists</td>\n      <td>The Bodyguard</td>\n      <td>1992</td>\n      <td>Soundtrack/R&amp;B, soul, pop</td>\n      <td>27.4</td>\n      <td>44.0</td>\n    </tr>\n    <tr>\n      <th>4</th>\n      <td>Meat Loaf</td>\n      <td>Bat Out of Hell</td>\n      <td>1977</td>\n      <td>Hard rock, progressive rock</td>\n      <td>20.6</td>\n      <td>43.0</td>\n    </tr>\n    <tr>\n      <th>...</th>\n      <td>...</td>\n      <td>...</td>\n      <td>...</td>\n      <td>...</td>\n      <td>...</td>\n      <td>...</td>\n    </tr>\n    <tr>\n      <th>72</th>\n      <td>Tracy Chapman</td>\n      <td>Tracy Chapman</td>\n      <td>1988</td>\n      <td>Folk rock</td>\n      <td>20.0</td>\n      <td>NaN</td>\n    </tr>\n    <tr>\n      <th>73</th>\n      <td>Usher</td>\n      <td>Confessions</td>\n      <td>2004</td>\n      <td>R&amp;B</td>\n      <td>20.0</td>\n      <td>NaN</td>\n    </tr>\n    <tr>\n      <th>74</th>\n      <td>Various artists</td>\n      <td>Flashdance: Original Soundtrack from the Motio...</td>\n      <td>1983</td>\n      <td>Soundtrack</td>\n      <td>20.0</td>\n      <td>NaN</td>\n    </tr>\n    <tr>\n      <th>75</th>\n      <td>Whitney Houston</td>\n      <td>Whitney</td>\n      <td>1987</td>\n      <td>Pop, R&amp;B</td>\n      <td>20.0</td>\n      <td>NaN</td>\n    </tr>\n    <tr>\n      <th>76</th>\n      <td>Shakira</td>\n      <td>Laundry Service</td>\n      <td>2001</td>\n      <td>Pop, Rock</td>\n      <td>20.0</td>\n      <td>NaN</td>\n    </tr>\n  </tbody>\n</table>\n<p>77 rows × 6 columns</p>\n</div>"
     },
     "execution_count": 64,
     "metadata": {},
     "output_type": "execute_result"
    }
   ],
   "source": [
    "hit_albums = pd.read_csv(\"hit_albums.csv\")\n",
    "hit_albums"
   ]
  },
  {
   "cell_type": "markdown",
   "metadata": {
    "pycharm": {
     "name": "#%% md\n"
    }
   },
   "source": [
    "Well, that was different! \n",
    "\n",
    "Pandas provides the insanely powerful ['read_csv()'](http://pandas.pydata.org/pandas-docs/stable/generated/pandas.read_csv.html) method. Also see [the documentation](http://pandas.pydata.org/pandas-docs/stable/io.html) for more info on all I/O operations in pandas, including writing CSV files. \n",
    "\n",
    "You can pass a lot of arguments to the method, such as delimiter, quote-chars, etc., but for our case the default parameters just worked. \n",
    "\n",
    "We've also just created our first data frame! Let's look at data frames in detail next. "
   ]
  },
  {
   "cell_type": "markdown",
   "metadata": {
    "pycharm": {
     "name": "#%% md\n"
    }
   },
   "source": [
    "# 3. Data Frames\n",
    "\n",
    "A data frame is a column-oriented data structure where each column is a pandas series.\n",
    "\n",
    "Here are two cheat sheets that might prove useful:\n",
    "[Cheat sheet 1](https://pandas.pydata.org/Pandas_Cheat_Sheet.pdf)\n",
    "[Cheat sheet 2](http://datacamp-community-prod.s3.amazonaws.com/dbed353d-2757-4617-8206-8767ab379ab3).\n",
    "\n",
    "We've already loaded a data frame from file, but for completeness sake, let's create one in code: "
   ]
  },
  {
   "cell_type": "code",
   "execution_count": 65,
   "metadata": {
    "pycharm": {
     "name": "#%%\n"
    }
   },
   "outputs": [
    {
     "data": {
      "text/plain": "             Name  No Members  No Albums\n0    Led Zeppelin           4          9\n1     The Beatles           4         12\n2  Rolling Stones           4         29\n3       Radiohead           5          9",
      "text/html": "<div>\n<style scoped>\n    .dataframe tbody tr th:only-of-type {\n        vertical-align: middle;\n    }\n\n    .dataframe tbody tr th {\n        vertical-align: top;\n    }\n\n    .dataframe thead th {\n        text-align: right;\n    }\n</style>\n<table border=\"1\" class=\"dataframe\">\n  <thead>\n    <tr style=\"text-align: right;\">\n      <th></th>\n      <th>Name</th>\n      <th>No Members</th>\n      <th>No Albums</th>\n    </tr>\n  </thead>\n  <tbody>\n    <tr>\n      <th>0</th>\n      <td>Led Zeppelin</td>\n      <td>4</td>\n      <td>9</td>\n    </tr>\n    <tr>\n      <th>1</th>\n      <td>The Beatles</td>\n      <td>4</td>\n      <td>12</td>\n    </tr>\n    <tr>\n      <th>2</th>\n      <td>Rolling Stones</td>\n      <td>4</td>\n      <td>29</td>\n    </tr>\n    <tr>\n      <th>3</th>\n      <td>Radiohead</td>\n      <td>5</td>\n      <td>9</td>\n    </tr>\n  </tbody>\n</table>\n</div>"
     },
     "execution_count": 65,
     "metadata": {},
     "output_type": "execute_result"
    }
   ],
   "source": [
    "bandInfo = pd.DataFrame({\n",
    "        \"Name\":[\"Led Zeppelin\", \"The Beatles\", \"Rolling Stones\", \"Radiohead\"],\n",
    "        \"No Members\":[4, 4, 4, 5],\n",
    "        \"No Albums\":[9, 12, 29 ,9]\n",
    "    })\n",
    "bandInfo"
   ]
  },
  {
   "cell_type": "markdown",
   "metadata": {
    "pycharm": {
     "name": "#%% md\n"
    }
   },
   "source": [
    "This dataframe was initialized with a dictonary of column headers as keys and column data as values."
   ]
  },
  {
   "cell_type": "markdown",
   "metadata": {
    "pycharm": {
     "name": "#%% md\n"
    }
   },
   "source": [
    "Just as a series, a data frame has an index, which corresponds to the first column here. In this case the index was automatically generated, but as for the series, we could use explicit values for the index. \n",
    "\n",
    "We can access columns in a data frame, which returns a series:"
   ]
  },
  {
   "cell_type": "code",
   "execution_count": 66,
   "metadata": {
    "scrolled": true,
    "pycharm": {
     "name": "#%%\n"
    }
   },
   "outputs": [
    {
     "data": {
      "text/plain": "0      Led Zeppelin\n1       The Beatles\n2    Rolling Stones\n3         Radiohead\nName: Name, dtype: object"
     },
     "execution_count": 66,
     "metadata": {},
     "output_type": "execute_result"
    }
   ],
   "source": [
    "bandInfo[\"Name\"]"
   ]
  },
  {
   "cell_type": "code",
   "execution_count": 67,
   "metadata": {
    "pycharm": {
     "name": "#%%\n"
    }
   },
   "outputs": [
    {
     "data": {
      "text/plain": "pandas.core.series.Series"
     },
     "execution_count": 67,
     "metadata": {},
     "output_type": "execute_result"
    }
   ],
   "source": [
    "type(bandInfo[\"Name\"])"
   ]
  },
  {
   "cell_type": "markdown",
   "metadata": {
    "pycharm": {
     "name": "#%% md\n"
    }
   },
   "source": [
    "And obviously, we can do all the things we've learned about to this column/series. "
   ]
  },
  {
   "cell_type": "markdown",
   "metadata": {
    "pycharm": {
     "name": "#%% md\n"
    }
   },
   "source": [
    "The previous example used columns to create the data frame. We can also create a data frame from rows. This doesn't make a ton of sense in this example, but data could be available like this from your data source, like if you're parsing a CSV."
   ]
  },
  {
   "cell_type": "code",
   "execution_count": 68,
   "metadata": {
    "pycharm": {
     "name": "#%%\n"
    }
   },
   "outputs": [
    {
     "data": {
      "text/plain": "             Name  No Albums  No Members\n0    Led Zeppelin          9           4\n1     The Beatles         12           4\n2  Rolling Stones         29           4\n3       Radiohead          9           5",
      "text/html": "<div>\n<style scoped>\n    .dataframe tbody tr th:only-of-type {\n        vertical-align: middle;\n    }\n\n    .dataframe tbody tr th {\n        vertical-align: top;\n    }\n\n    .dataframe thead th {\n        text-align: right;\n    }\n</style>\n<table border=\"1\" class=\"dataframe\">\n  <thead>\n    <tr style=\"text-align: right;\">\n      <th></th>\n      <th>Name</th>\n      <th>No Albums</th>\n      <th>No Members</th>\n    </tr>\n  </thead>\n  <tbody>\n    <tr>\n      <th>0</th>\n      <td>Led Zeppelin</td>\n      <td>9</td>\n      <td>4</td>\n    </tr>\n    <tr>\n      <th>1</th>\n      <td>The Beatles</td>\n      <td>12</td>\n      <td>4</td>\n    </tr>\n    <tr>\n      <th>2</th>\n      <td>Rolling Stones</td>\n      <td>29</td>\n      <td>4</td>\n    </tr>\n    <tr>\n      <th>3</th>\n      <td>Radiohead</td>\n      <td>9</td>\n      <td>5</td>\n    </tr>\n  </tbody>\n</table>\n</div>"
     },
     "execution_count": 68,
     "metadata": {},
     "output_type": "execute_result"
    }
   ],
   "source": [
    "bandInfo2 = pd.DataFrame([\n",
    "        {\"Name\":\"Led Zeppelin\", \"No Albums\":9, \"No Members\":4},\n",
    "        {\"Name\":\"The Beatles\", \"No Albums\":12, \"No Members\":4},\n",
    "        {\"Name\":\"Rolling Stones\", \"No Albums\":29, \"No Members\":4},\n",
    "        {\"Name\":\"Radiohead\", \"No Albums\":9, \"No Members\":5},\n",
    "    ])\n",
    "bandInfo2"
   ]
  },
  {
   "cell_type": "markdown",
   "metadata": {
    "pycharm": {
     "name": "#%% md\n"
    }
   },
   "source": [
    "While a series has only one axis, a dataframe has two, one for the rows (the index or '0' axis), one for the columns (the column or '1' axis). We can check out these axes:"
   ]
  },
  {
   "cell_type": "code",
   "execution_count": 69,
   "metadata": {
    "pycharm": {
     "name": "#%%\n"
    }
   },
   "outputs": [
    {
     "data": {
      "text/plain": "[RangeIndex(start=0, stop=4, step=1),\n Index(['Name', 'No Members', 'No Albums'], dtype='object')]"
     },
     "execution_count": 69,
     "metadata": {},
     "output_type": "execute_result"
    }
   ],
   "source": [
    "bandInfo.axes"
   ]
  },
  {
   "cell_type": "markdown",
   "metadata": {
    "pycharm": {
     "name": "#%% md\n"
    }
   },
   "source": [
    "We can access these axes directly:"
   ]
  },
  {
   "cell_type": "code",
   "execution_count": 70,
   "metadata": {
    "pycharm": {
     "name": "#%%\n"
    }
   },
   "outputs": [
    {
     "data": {
      "text/plain": "RangeIndex(start=0, stop=4, step=1)"
     },
     "execution_count": 70,
     "metadata": {},
     "output_type": "execute_result"
    }
   ],
   "source": [
    "# The row axis\n",
    "bandInfo.axes[0]"
   ]
  },
  {
   "cell_type": "code",
   "execution_count": 71,
   "metadata": {
    "pycharm": {
     "name": "#%%\n"
    }
   },
   "outputs": [
    {
     "data": {
      "text/plain": "Index(['Name', 'No Members', 'No Albums'], dtype='object')"
     },
     "execution_count": 71,
     "metadata": {},
     "output_type": "execute_result"
    }
   ],
   "source": [
    "# The columns axis\n",
    "bandInfo.axes[1]"
   ]
  },
  {
   "cell_type": "markdown",
   "metadata": {
    "pycharm": {
     "name": "#%% md\n"
    }
   },
   "source": [
    "## Exploring Data Frames\n",
    "\n",
    "You might have noticed that data frames are rendered in nice HTML tables within Jupyter Notebooks. For small data frames, just showing all the data makes sense, but for larger datasets, like our `hit_albums` dataset, plotting 70+ rows can be annoying, and for datasets with hundreds or thousands of rows it can be prohibitive. By default, a data frame only prints a limited number of elements (notice the `...` in row 30 of the output of `hit_albums` above – only the first 30 and last 30 are printed. \n",
    "\n",
    "When working with data, e.g., when transforming or loading a dataset, it is important to see the raw data, for example, to check if a transformation was done correctly. Often, however, it's sufficient to see a part of the data, e.g., the first couple of rows and/or the last couple of rows. We can do this with the `head()` and `tail()` function:"
   ]
  },
  {
   "cell_type": "code",
   "execution_count": 72,
   "metadata": {
    "pycharm": {
     "name": "#%%\n"
    }
   },
   "outputs": [
    {
     "data": {
      "text/plain": "                              Artist                      Album  Released  \\\n0                    Michael Jackson                   Thriller      1982   \n1                              AC/DC              Back in Black      1980   \n2                         Pink Floyd  The Dark Side of the Moon      1973   \n3  Whitney Houston / Various artists              The Bodyguard      1992   \n4                          Meat Loaf            Bat Out of Hell      1977   \n\n                         Genre  Certified sales (millions)  \\\n0               Pop, rock, R&B                        45.4   \n1                    Hard rock                        25.9   \n2             Progressive rock                        22.7   \n3    Soundtrack/R&B, soul, pop                        27.4   \n4  Hard rock, progressive rock                        20.6   \n\n   Claimed sales (millions)  \n0                      65.0  \n1                      50.0  \n2                      45.0  \n3                      44.0  \n4                      43.0  ",
      "text/html": "<div>\n<style scoped>\n    .dataframe tbody tr th:only-of-type {\n        vertical-align: middle;\n    }\n\n    .dataframe tbody tr th {\n        vertical-align: top;\n    }\n\n    .dataframe thead th {\n        text-align: right;\n    }\n</style>\n<table border=\"1\" class=\"dataframe\">\n  <thead>\n    <tr style=\"text-align: right;\">\n      <th></th>\n      <th>Artist</th>\n      <th>Album</th>\n      <th>Released</th>\n      <th>Genre</th>\n      <th>Certified sales (millions)</th>\n      <th>Claimed sales (millions)</th>\n    </tr>\n  </thead>\n  <tbody>\n    <tr>\n      <th>0</th>\n      <td>Michael Jackson</td>\n      <td>Thriller</td>\n      <td>1982</td>\n      <td>Pop, rock, R&amp;B</td>\n      <td>45.4</td>\n      <td>65.0</td>\n    </tr>\n    <tr>\n      <th>1</th>\n      <td>AC/DC</td>\n      <td>Back in Black</td>\n      <td>1980</td>\n      <td>Hard rock</td>\n      <td>25.9</td>\n      <td>50.0</td>\n    </tr>\n    <tr>\n      <th>2</th>\n      <td>Pink Floyd</td>\n      <td>The Dark Side of the Moon</td>\n      <td>1973</td>\n      <td>Progressive rock</td>\n      <td>22.7</td>\n      <td>45.0</td>\n    </tr>\n    <tr>\n      <th>3</th>\n      <td>Whitney Houston / Various artists</td>\n      <td>The Bodyguard</td>\n      <td>1992</td>\n      <td>Soundtrack/R&amp;B, soul, pop</td>\n      <td>27.4</td>\n      <td>44.0</td>\n    </tr>\n    <tr>\n      <th>4</th>\n      <td>Meat Loaf</td>\n      <td>Bat Out of Hell</td>\n      <td>1977</td>\n      <td>Hard rock, progressive rock</td>\n      <td>20.6</td>\n      <td>43.0</td>\n    </tr>\n  </tbody>\n</table>\n</div>"
     },
     "execution_count": 72,
     "metadata": {},
     "output_type": "execute_result"
    }
   ],
   "source": [
    "# head shows the first 5 rows of a datset\n",
    "hit_albums.head()"
   ]
  },
  {
   "cell_type": "code",
   "execution_count": 73,
   "metadata": {
    "pycharm": {
     "name": "#%%\n"
    }
   },
   "outputs": [
    {
     "data": {
      "text/plain": "                              Artist                            Album  \\\n0                    Michael Jackson                         Thriller   \n1                              AC/DC                    Back in Black   \n2                         Pink Floyd        The Dark Side of the Moon   \n3  Whitney Houston / Various artists                    The Bodyguard   \n4                          Meat Loaf                  Bat Out of Hell   \n5                             Eagles  Their Greatest Hits (1971–1975)   \n6         Bee Gees / Various artists             Saturday Night Fever   \n7                      Fleetwood Mac                          Rumours   \n\n   Released                        Genre  Certified sales (millions)  \\\n0      1982               Pop, rock, R&B                        45.4   \n1      1980                    Hard rock                        25.9   \n2      1973             Progressive rock                        22.7   \n3      1992    Soundtrack/R&B, soul, pop                        27.4   \n4      1977  Hard rock, progressive rock                        20.6   \n5      1976   Rock, soft rock, folk rock                        32.2   \n6      1977                        Disco                        19.0   \n7      1977                    Soft rock                        27.9   \n\n   Claimed sales (millions)  \n0                      65.0  \n1                      50.0  \n2                      45.0  \n3                      44.0  \n4                      43.0  \n5                      42.0  \n6                      40.0  \n7                      40.0  ",
      "text/html": "<div>\n<style scoped>\n    .dataframe tbody tr th:only-of-type {\n        vertical-align: middle;\n    }\n\n    .dataframe tbody tr th {\n        vertical-align: top;\n    }\n\n    .dataframe thead th {\n        text-align: right;\n    }\n</style>\n<table border=\"1\" class=\"dataframe\">\n  <thead>\n    <tr style=\"text-align: right;\">\n      <th></th>\n      <th>Artist</th>\n      <th>Album</th>\n      <th>Released</th>\n      <th>Genre</th>\n      <th>Certified sales (millions)</th>\n      <th>Claimed sales (millions)</th>\n    </tr>\n  </thead>\n  <tbody>\n    <tr>\n      <th>0</th>\n      <td>Michael Jackson</td>\n      <td>Thriller</td>\n      <td>1982</td>\n      <td>Pop, rock, R&amp;B</td>\n      <td>45.4</td>\n      <td>65.0</td>\n    </tr>\n    <tr>\n      <th>1</th>\n      <td>AC/DC</td>\n      <td>Back in Black</td>\n      <td>1980</td>\n      <td>Hard rock</td>\n      <td>25.9</td>\n      <td>50.0</td>\n    </tr>\n    <tr>\n      <th>2</th>\n      <td>Pink Floyd</td>\n      <td>The Dark Side of the Moon</td>\n      <td>1973</td>\n      <td>Progressive rock</td>\n      <td>22.7</td>\n      <td>45.0</td>\n    </tr>\n    <tr>\n      <th>3</th>\n      <td>Whitney Houston / Various artists</td>\n      <td>The Bodyguard</td>\n      <td>1992</td>\n      <td>Soundtrack/R&amp;B, soul, pop</td>\n      <td>27.4</td>\n      <td>44.0</td>\n    </tr>\n    <tr>\n      <th>4</th>\n      <td>Meat Loaf</td>\n      <td>Bat Out of Hell</td>\n      <td>1977</td>\n      <td>Hard rock, progressive rock</td>\n      <td>20.6</td>\n      <td>43.0</td>\n    </tr>\n    <tr>\n      <th>5</th>\n      <td>Eagles</td>\n      <td>Their Greatest Hits (1971–1975)</td>\n      <td>1976</td>\n      <td>Rock, soft rock, folk rock</td>\n      <td>32.2</td>\n      <td>42.0</td>\n    </tr>\n    <tr>\n      <th>6</th>\n      <td>Bee Gees / Various artists</td>\n      <td>Saturday Night Fever</td>\n      <td>1977</td>\n      <td>Disco</td>\n      <td>19.0</td>\n      <td>40.0</td>\n    </tr>\n    <tr>\n      <th>7</th>\n      <td>Fleetwood Mac</td>\n      <td>Rumours</td>\n      <td>1977</td>\n      <td>Soft rock</td>\n      <td>27.9</td>\n      <td>40.0</td>\n    </tr>\n  </tbody>\n</table>\n</div>"
     },
     "execution_count": 73,
     "metadata": {},
     "output_type": "execute_result"
    }
   ],
   "source": [
    "# we can specify how much to show\n",
    "hit_albums.head(8)"
   ]
  },
  {
   "cell_type": "code",
   "execution_count": 74,
   "metadata": {
    "pycharm": {
     "name": "#%%\n"
    }
   },
   "outputs": [
    {
     "data": {
      "text/plain": "             Artist                                              Album  \\\n72    Tracy Chapman                                      Tracy Chapman   \n73            Usher                                        Confessions   \n74  Various artists  Flashdance: Original Soundtrack from the Motio...   \n75  Whitney Houston                                            Whitney   \n76          Shakira                                    Laundry Service   \n\n    Released       Genre  Certified sales (millions)  Claimed sales (millions)  \n72      1988   Folk rock                        20.0                       NaN  \n73      2004         R&B                        20.0                       NaN  \n74      1983  Soundtrack                        20.0                       NaN  \n75      1987    Pop, R&B                        20.0                       NaN  \n76      2001   Pop, Rock                        20.0                       NaN  ",
      "text/html": "<div>\n<style scoped>\n    .dataframe tbody tr th:only-of-type {\n        vertical-align: middle;\n    }\n\n    .dataframe tbody tr th {\n        vertical-align: top;\n    }\n\n    .dataframe thead th {\n        text-align: right;\n    }\n</style>\n<table border=\"1\" class=\"dataframe\">\n  <thead>\n    <tr style=\"text-align: right;\">\n      <th></th>\n      <th>Artist</th>\n      <th>Album</th>\n      <th>Released</th>\n      <th>Genre</th>\n      <th>Certified sales (millions)</th>\n      <th>Claimed sales (millions)</th>\n    </tr>\n  </thead>\n  <tbody>\n    <tr>\n      <th>72</th>\n      <td>Tracy Chapman</td>\n      <td>Tracy Chapman</td>\n      <td>1988</td>\n      <td>Folk rock</td>\n      <td>20.0</td>\n      <td>NaN</td>\n    </tr>\n    <tr>\n      <th>73</th>\n      <td>Usher</td>\n      <td>Confessions</td>\n      <td>2004</td>\n      <td>R&amp;B</td>\n      <td>20.0</td>\n      <td>NaN</td>\n    </tr>\n    <tr>\n      <th>74</th>\n      <td>Various artists</td>\n      <td>Flashdance: Original Soundtrack from the Motio...</td>\n      <td>1983</td>\n      <td>Soundtrack</td>\n      <td>20.0</td>\n      <td>NaN</td>\n    </tr>\n    <tr>\n      <th>75</th>\n      <td>Whitney Houston</td>\n      <td>Whitney</td>\n      <td>1987</td>\n      <td>Pop, R&amp;B</td>\n      <td>20.0</td>\n      <td>NaN</td>\n    </tr>\n    <tr>\n      <th>76</th>\n      <td>Shakira</td>\n      <td>Laundry Service</td>\n      <td>2001</td>\n      <td>Pop, Rock</td>\n      <td>20.0</td>\n      <td>NaN</td>\n    </tr>\n  </tbody>\n</table>\n</div>"
     },
     "execution_count": 74,
     "metadata": {},
     "output_type": "execute_result"
    }
   ],
   "source": [
    "# tail shows the last five rows in a datasaet\n",
    "hit_albums.tail()"
   ]
  },
  {
   "cell_type": "markdown",
   "metadata": {
    "pycharm": {
     "name": "#%% md\n"
    }
   },
   "source": [
    "We can check out the dimensions of the data frame:"
   ]
  },
  {
   "cell_type": "code",
   "execution_count": 75,
   "metadata": {
    "pycharm": {
     "name": "#%%\n"
    }
   },
   "outputs": [
    {
     "data": {
      "text/plain": "(77, 6)"
     },
     "execution_count": 75,
     "metadata": {},
     "output_type": "execute_result"
    }
   ],
   "source": [
    "hit_albums.shape"
   ]
  },
  {
   "cell_type": "markdown",
   "metadata": {
    "pycharm": {
     "name": "#%% md\n"
    }
   },
   "source": [
    "Here we learn that our dataset has 77 rows and 6 columns.\n",
    "\n",
    "We can also get more info about the dataset using the info method, which is especially helpful to see the data types of the columns:"
   ]
  },
  {
   "cell_type": "code",
   "execution_count": 76,
   "metadata": {
    "pycharm": {
     "name": "#%%\n"
    }
   },
   "outputs": [
    {
     "name": "stdout",
     "output_type": "stream",
     "text": [
      "<class 'pandas.core.frame.DataFrame'>\n",
      "RangeIndex: 77 entries, 0 to 76\n",
      "Data columns (total 6 columns):\n",
      " #   Column                      Non-Null Count  Dtype  \n",
      "---  ------                      --------------  -----  \n",
      " 0   Artist                      77 non-null     object \n",
      " 1   Album                       77 non-null     object \n",
      " 2   Released                    77 non-null     int64  \n",
      " 3   Genre                       77 non-null     object \n",
      " 4   Certified sales (millions)  77 non-null     float64\n",
      " 5   Claimed sales (millions)    31 non-null     float64\n",
      "dtypes: float64(2), int64(1), object(3)\n",
      "memory usage: 3.7+ KB\n"
     ]
    }
   ],
   "source": [
    "hit_albums.info()"
   ]
  },
  {
   "cell_type": "markdown",
   "metadata": {
    "pycharm": {
     "name": "#%% md\n"
    }
   },
   "source": [
    "As for series, we can get a rough description of the numerical values of the dataset."
   ]
  },
  {
   "cell_type": "code",
   "execution_count": 77,
   "metadata": {
    "pycharm": {
     "name": "#%%\n"
    }
   },
   "outputs": [
    {
     "data": {
      "text/plain": "          Released  Certified sales (millions)  Claimed sales (millions)\ncount    77.000000                   77.000000                 31.000000\nmean   1988.662338                   22.409091                 35.354839\nstd       9.949359                    4.521620                  7.855140\nmin    1967.000000                   13.100000                 30.000000\n25%    1983.000000                   20.000000                 30.000000\n50%    1987.000000                   20.600000                 32.000000\n75%    1996.000000                   25.000000                 39.500000\nmax    2015.000000                   45.400000                 65.000000",
      "text/html": "<div>\n<style scoped>\n    .dataframe tbody tr th:only-of-type {\n        vertical-align: middle;\n    }\n\n    .dataframe tbody tr th {\n        vertical-align: top;\n    }\n\n    .dataframe thead th {\n        text-align: right;\n    }\n</style>\n<table border=\"1\" class=\"dataframe\">\n  <thead>\n    <tr style=\"text-align: right;\">\n      <th></th>\n      <th>Released</th>\n      <th>Certified sales (millions)</th>\n      <th>Claimed sales (millions)</th>\n    </tr>\n  </thead>\n  <tbody>\n    <tr>\n      <th>count</th>\n      <td>77.000000</td>\n      <td>77.000000</td>\n      <td>31.000000</td>\n    </tr>\n    <tr>\n      <th>mean</th>\n      <td>1988.662338</td>\n      <td>22.409091</td>\n      <td>35.354839</td>\n    </tr>\n    <tr>\n      <th>std</th>\n      <td>9.949359</td>\n      <td>4.521620</td>\n      <td>7.855140</td>\n    </tr>\n    <tr>\n      <th>min</th>\n      <td>1967.000000</td>\n      <td>13.100000</td>\n      <td>30.000000</td>\n    </tr>\n    <tr>\n      <th>25%</th>\n      <td>1983.000000</td>\n      <td>20.000000</td>\n      <td>30.000000</td>\n    </tr>\n    <tr>\n      <th>50%</th>\n      <td>1987.000000</td>\n      <td>20.600000</td>\n      <td>32.000000</td>\n    </tr>\n    <tr>\n      <th>75%</th>\n      <td>1996.000000</td>\n      <td>25.000000</td>\n      <td>39.500000</td>\n    </tr>\n    <tr>\n      <th>max</th>\n      <td>2015.000000</td>\n      <td>45.400000</td>\n      <td>65.000000</td>\n    </tr>\n  </tbody>\n</table>\n</div>"
     },
     "execution_count": 77,
     "metadata": {},
     "output_type": "execute_result"
    }
   ],
   "source": [
    "hit_albums.describe()"
   ]
  },
  {
   "cell_type": "markdown",
   "metadata": {
    "pycharm": {
     "name": "#%% md\n"
    }
   },
   "source": [
    "We don't see any descriptions of the columns of non-numerical type. We can, however, get a summary by directly accessing a column:"
   ]
  },
  {
   "cell_type": "code",
   "execution_count": 78,
   "metadata": {
    "pycharm": {
     "name": "#%%\n"
    }
   },
   "outputs": [
    {
     "data": {
      "text/plain": "count                  77\nunique                 56\ntop       Michael Jackson\nfreq                    5\nName: Artist, dtype: object"
     },
     "execution_count": 78,
     "metadata": {},
     "output_type": "execute_result"
    }
   ],
   "source": [
    "hit_albums[\"Artist\"].describe()"
   ]
  },
  {
   "cell_type": "markdown",
   "metadata": {
    "pycharm": {
     "name": "#%% md\n"
    }
   },
   "source": [
    "Here we can see that Michael Jackson is the top artist in this list, with five albums. Are there other artists with multiple albums in the list? We can answer that question with the value_counts() method:"
   ]
  },
  {
   "cell_type": "code",
   "execution_count": 79,
   "metadata": {
    "pycharm": {
     "name": "#%%\n"
    }
   },
   "outputs": [
    {
     "data": {
      "text/plain": "Michael Jackson                      5\nMadonna                              3\nShania Twain                         3\nThe Beatles                          3\nVarious artists                      3\nBon Jovi                             2\nPink Floyd                           2\nWhitney Houston                      2\nBackstreet Boys                      2\nEagles                               2\nBritney Spears                       2\nCeline Dion                          2\nMariah Carey                         2\nAdele                                2\nEminem                               1\nOasis                                1\nCyndi Lauper                         1\nBoston                               1\nTLC                                  1\nAce of Base                          1\nAvril Lavigne                        1\nGreen Day                            1\nEric Clapton                         1\nDef Leppard                          1\nGeorge Michael                       1\nSimon & Garfunkel                    1\nLionel Richie                        1\nPrince & the Revolution              1\nSupertramp                           1\nTina Turner                          1\nTracy Chapman                        1\nUsher                                1\nU2                                   1\nLinkin Park                          1\nQueen                                1\nPhil Collins                         1\nWhitney Houston / Various artists    1\nMeat Loaf                            1\nBee Gees / Various artists           1\nFleetwood Mac                        1\nLed Zeppelin                         1\nAlanis Morissette                    1\nBruce Springsteen                    1\nDire Straits                         1\nJames Horner                         1\nMetallica                            1\nNirvana                              1\nSantana                              1\nGuns N' Roses                        1\nABBA                                 1\nSpice Girls                          1\nAC/DC                                1\nBob Marley & The Wailers             1\nCarole King                          1\nNorah Jones                          1\nShakira                              1\nName: Artist, dtype: int64"
     },
     "execution_count": 79,
     "metadata": {},
     "output_type": "execute_result"
    }
   ],
   "source": [
    "hit_albums[\"Artist\"].value_counts()"
   ]
  },
  {
   "cell_type": "markdown",
   "metadata": {
    "pycharm": {
     "name": "#%% md\n"
    }
   },
   "source": [
    "We can look at whether the numerical columns in our data frame are correlated using the [`corr()`](http://pandas.pydata.org/pandas-docs/stable/generated/pandas.DataFrame.corr.html) method. By default, this calculates a Pearson correlation between the column, excluding NaN values. Not surprisingly, we see a rather strong correlation (0.81) between certified and claimed sales. "
   ]
  },
  {
   "cell_type": "code",
   "execution_count": 80,
   "metadata": {
    "pycharm": {
     "name": "#%%\n"
    }
   },
   "outputs": [
    {
     "data": {
      "text/plain": "                            Released  Certified sales (millions)  \\\nReleased                    1.000000                   -0.052109   \nCertified sales (millions) -0.052109                    1.000000   \nClaimed sales (millions)   -0.320593                    0.810280   \n\n                            Claimed sales (millions)  \nReleased                                   -0.320593  \nCertified sales (millions)                  0.810280  \nClaimed sales (millions)                    1.000000  ",
      "text/html": "<div>\n<style scoped>\n    .dataframe tbody tr th:only-of-type {\n        vertical-align: middle;\n    }\n\n    .dataframe tbody tr th {\n        vertical-align: top;\n    }\n\n    .dataframe thead th {\n        text-align: right;\n    }\n</style>\n<table border=\"1\" class=\"dataframe\">\n  <thead>\n    <tr style=\"text-align: right;\">\n      <th></th>\n      <th>Released</th>\n      <th>Certified sales (millions)</th>\n      <th>Claimed sales (millions)</th>\n    </tr>\n  </thead>\n  <tbody>\n    <tr>\n      <th>Released</th>\n      <td>1.000000</td>\n      <td>-0.052109</td>\n      <td>-0.320593</td>\n    </tr>\n    <tr>\n      <th>Certified sales (millions)</th>\n      <td>-0.052109</td>\n      <td>1.000000</td>\n      <td>0.810280</td>\n    </tr>\n    <tr>\n      <th>Claimed sales (millions)</th>\n      <td>-0.320593</td>\n      <td>0.810280</td>\n      <td>1.000000</td>\n    </tr>\n  </tbody>\n</table>\n</div>"
     },
     "execution_count": 80,
     "metadata": {},
     "output_type": "execute_result"
    }
   ],
   "source": [
    "hit_albums.corr()"
   ]
  },
  {
   "cell_type": "markdown",
   "metadata": {
    "pycharm": {
     "name": "#%% md\n"
    }
   },
   "source": [
    "We can also do transpose a dataframe:"
   ]
  },
  {
   "cell_type": "code",
   "execution_count": 81,
   "metadata": {
    "pycharm": {
     "name": "#%%\n"
    }
   },
   "outputs": [
    {
     "data": {
      "text/plain": "                                         0              1   \\\nArtist                      Michael Jackson          AC/DC   \nAlbum                              Thriller  Back in Black   \nReleased                               1982           1980   \nGenre                        Pop, rock, R&B      Hard rock   \nCertified sales (millions)             45.4           25.9   \nClaimed sales (millions)               65.0           50.0   \n\n                                                   2   \\\nArtist                                     Pink Floyd   \nAlbum                       The Dark Side of the Moon   \nReleased                                         1973   \nGenre                                Progressive rock   \nCertified sales (millions)                       22.7   \nClaimed sales (millions)                         45.0   \n\n                                                           3   \\\nArtist                      Whitney Houston / Various artists   \nAlbum                                           The Bodyguard   \nReleased                                                 1992   \nGenre                               Soundtrack/R&B, soul, pop   \nCertified sales (millions)                               27.4   \nClaimed sales (millions)                                 44.0   \n\n                                                     4   \\\nArtist                                        Meat Loaf   \nAlbum                                   Bat Out of Hell   \nReleased                                           1977   \nGenre                       Hard rock, progressive rock   \nCertified sales (millions)                         20.6   \nClaimed sales (millions)                           43.0   \n\n                                                         5   \\\nArtist                                               Eagles   \nAlbum                       Their Greatest Hits (1971–1975)   \nReleased                                               1976   \nGenre                            Rock, soft rock, folk rock   \nCertified sales (millions)                             32.2   \nClaimed sales (millions)                               42.0   \n\n                                                    6              7   \\\nArtist                      Bee Gees / Various artists  Fleetwood Mac   \nAlbum                             Saturday Night Fever        Rumours   \nReleased                                          1977           1977   \nGenre                                            Disco      Soft rock   \nCertified sales (millions)                        19.0           27.9   \nClaimed sales (millions)                          40.0           40.0   \n\n                                      8                       9   ...  \\\nArtist                      Shania Twain            Led Zeppelin  ...   \nAlbum                       Come On Over         Led Zeppelin IV  ...   \nReleased                            1997                    1971  ...   \nGenre                       Country, pop  Hard rock, heavy metal  ...   \nCertified sales (millions)          29.6                    29.0  ...   \nClaimed sales (millions)            39.0                    37.0  ...   \n\n                                                 67               68  \\\nArtist                      Prince & the Revolution     Shania Twain   \nAlbum                                   Purple Rain  The Woman in Me   \nReleased                                       1984             1995   \nGenre                                Pop, rock, R&B     Country, pop   \nCertified sales (millions)                     20.0             20.0   \nClaimed sales (millions)                        NaN              NaN   \n\n                                                   69  \\\nArtist                                   Shania Twain   \nAlbum                                             Up!   \nReleased                                         2002   \nGenre                       Country, pop, world music   \nCertified sales (millions)                       20.0   \nClaimed sales (millions)                          NaN   \n\n                                                    70              71  \\\nArtist                                      Supertramp     Tina Turner   \nAlbum                             Breakfast in America  Private Dancer   \nReleased                                          1979            1984   \nGenre                       Progressive rock, art rock  Pop, rock, R&B   \nCertified sales (millions)                        20.0            20.0   \nClaimed sales (millions)                           NaN             NaN   \n\n                                       72           73  \\\nArtist                      Tracy Chapman        Usher   \nAlbum                       Tracy Chapman  Confessions   \nReleased                             1988         2004   \nGenre                           Folk rock          R&B   \nCertified sales (millions)           20.0         20.0   \nClaimed sales (millions)              NaN          NaN   \n\n                                                                           74  \\\nArtist                                                        Various artists   \nAlbum                       Flashdance: Original Soundtrack from the Motio...   \nReleased                                                                 1983   \nGenre                                                              Soundtrack   \nCertified sales (millions)                                               20.0   \nClaimed sales (millions)                                                  NaN   \n\n                                         75               76  \nArtist                      Whitney Houston          Shakira  \nAlbum                               Whitney  Laundry Service  \nReleased                               1987             2001  \nGenre                              Pop, R&B        Pop, Rock  \nCertified sales (millions)             20.0             20.0  \nClaimed sales (millions)                NaN              NaN  \n\n[6 rows x 77 columns]",
      "text/html": "<div>\n<style scoped>\n    .dataframe tbody tr th:only-of-type {\n        vertical-align: middle;\n    }\n\n    .dataframe tbody tr th {\n        vertical-align: top;\n    }\n\n    .dataframe thead th {\n        text-align: right;\n    }\n</style>\n<table border=\"1\" class=\"dataframe\">\n  <thead>\n    <tr style=\"text-align: right;\">\n      <th></th>\n      <th>0</th>\n      <th>1</th>\n      <th>2</th>\n      <th>3</th>\n      <th>4</th>\n      <th>5</th>\n      <th>6</th>\n      <th>7</th>\n      <th>8</th>\n      <th>9</th>\n      <th>...</th>\n      <th>67</th>\n      <th>68</th>\n      <th>69</th>\n      <th>70</th>\n      <th>71</th>\n      <th>72</th>\n      <th>73</th>\n      <th>74</th>\n      <th>75</th>\n      <th>76</th>\n    </tr>\n  </thead>\n  <tbody>\n    <tr>\n      <th>Artist</th>\n      <td>Michael Jackson</td>\n      <td>AC/DC</td>\n      <td>Pink Floyd</td>\n      <td>Whitney Houston / Various artists</td>\n      <td>Meat Loaf</td>\n      <td>Eagles</td>\n      <td>Bee Gees / Various artists</td>\n      <td>Fleetwood Mac</td>\n      <td>Shania Twain</td>\n      <td>Led Zeppelin</td>\n      <td>...</td>\n      <td>Prince &amp; the Revolution</td>\n      <td>Shania Twain</td>\n      <td>Shania Twain</td>\n      <td>Supertramp</td>\n      <td>Tina Turner</td>\n      <td>Tracy Chapman</td>\n      <td>Usher</td>\n      <td>Various artists</td>\n      <td>Whitney Houston</td>\n      <td>Shakira</td>\n    </tr>\n    <tr>\n      <th>Album</th>\n      <td>Thriller</td>\n      <td>Back in Black</td>\n      <td>The Dark Side of the Moon</td>\n      <td>The Bodyguard</td>\n      <td>Bat Out of Hell</td>\n      <td>Their Greatest Hits (1971–1975)</td>\n      <td>Saturday Night Fever</td>\n      <td>Rumours</td>\n      <td>Come On Over</td>\n      <td>Led Zeppelin IV</td>\n      <td>...</td>\n      <td>Purple Rain</td>\n      <td>The Woman in Me</td>\n      <td>Up!</td>\n      <td>Breakfast in America</td>\n      <td>Private Dancer</td>\n      <td>Tracy Chapman</td>\n      <td>Confessions</td>\n      <td>Flashdance: Original Soundtrack from the Motio...</td>\n      <td>Whitney</td>\n      <td>Laundry Service</td>\n    </tr>\n    <tr>\n      <th>Released</th>\n      <td>1982</td>\n      <td>1980</td>\n      <td>1973</td>\n      <td>1992</td>\n      <td>1977</td>\n      <td>1976</td>\n      <td>1977</td>\n      <td>1977</td>\n      <td>1997</td>\n      <td>1971</td>\n      <td>...</td>\n      <td>1984</td>\n      <td>1995</td>\n      <td>2002</td>\n      <td>1979</td>\n      <td>1984</td>\n      <td>1988</td>\n      <td>2004</td>\n      <td>1983</td>\n      <td>1987</td>\n      <td>2001</td>\n    </tr>\n    <tr>\n      <th>Genre</th>\n      <td>Pop, rock, R&amp;B</td>\n      <td>Hard rock</td>\n      <td>Progressive rock</td>\n      <td>Soundtrack/R&amp;B, soul, pop</td>\n      <td>Hard rock, progressive rock</td>\n      <td>Rock, soft rock, folk rock</td>\n      <td>Disco</td>\n      <td>Soft rock</td>\n      <td>Country, pop</td>\n      <td>Hard rock, heavy metal</td>\n      <td>...</td>\n      <td>Pop, rock, R&amp;B</td>\n      <td>Country, pop</td>\n      <td>Country, pop, world music</td>\n      <td>Progressive rock, art rock</td>\n      <td>Pop, rock, R&amp;B</td>\n      <td>Folk rock</td>\n      <td>R&amp;B</td>\n      <td>Soundtrack</td>\n      <td>Pop, R&amp;B</td>\n      <td>Pop, Rock</td>\n    </tr>\n    <tr>\n      <th>Certified sales (millions)</th>\n      <td>45.4</td>\n      <td>25.9</td>\n      <td>22.7</td>\n      <td>27.4</td>\n      <td>20.6</td>\n      <td>32.2</td>\n      <td>19.0</td>\n      <td>27.9</td>\n      <td>29.6</td>\n      <td>29.0</td>\n      <td>...</td>\n      <td>20.0</td>\n      <td>20.0</td>\n      <td>20.0</td>\n      <td>20.0</td>\n      <td>20.0</td>\n      <td>20.0</td>\n      <td>20.0</td>\n      <td>20.0</td>\n      <td>20.0</td>\n      <td>20.0</td>\n    </tr>\n    <tr>\n      <th>Claimed sales (millions)</th>\n      <td>65.0</td>\n      <td>50.0</td>\n      <td>45.0</td>\n      <td>44.0</td>\n      <td>43.0</td>\n      <td>42.0</td>\n      <td>40.0</td>\n      <td>40.0</td>\n      <td>39.0</td>\n      <td>37.0</td>\n      <td>...</td>\n      <td>NaN</td>\n      <td>NaN</td>\n      <td>NaN</td>\n      <td>NaN</td>\n      <td>NaN</td>\n      <td>NaN</td>\n      <td>NaN</td>\n      <td>NaN</td>\n      <td>NaN</td>\n      <td>NaN</td>\n    </tr>\n  </tbody>\n</table>\n<p>6 rows × 77 columns</p>\n</div>"
     },
     "execution_count": 81,
     "metadata": {},
     "output_type": "execute_result"
    }
   ],
   "source": [
    "hit_albums.T"
   ]
  },
  {
   "cell_type": "markdown",
   "metadata": {
    "pycharm": {
     "name": "#%% md\n"
    }
   },
   "source": [
    "### 3.1 Slicing Data Frames\n",
    "\n",
    "A common task is to create subsets of a dataframe. Check out the official [user guide for more info on this](https://pandas.pydata.org/pandas-docs/stable/user_guide/indexing.html).  \n",
    "\n",
    "Column access/slicing works by directly using brackets `[]` on the data frame. Row access/slicing works by using the `.loc[]` indexer. \n",
    "\n",
    "We can explicitly define the the **column(s)** we want by their lables:"
   ]
  },
  {
   "cell_type": "code",
   "execution_count": 82,
   "metadata": {
    "pycharm": {
     "name": "#%%\n"
    }
   },
   "outputs": [
    {
     "data": {
      "text/plain": "0                      Michael Jackson\n1                                AC/DC\n2                           Pink Floyd\n3    Whitney Houston / Various artists\n4                            Meat Loaf\nName: Artist, dtype: object"
     },
     "execution_count": 82,
     "metadata": {},
     "output_type": "execute_result"
    }
   ],
   "source": [
    "# a single column\n",
    "hit_albums[\"Artist\"].head()"
   ]
  },
  {
   "cell_type": "markdown",
   "metadata": {
    "pycharm": {
     "name": "#%% md\n"
    }
   },
   "source": [
    "We can use an array of lables if we want multiple columns. "
   ]
  },
  {
   "cell_type": "code",
   "execution_count": 83,
   "metadata": {
    "pycharm": {
     "name": "#%%\n"
    }
   },
   "outputs": [
    {
     "data": {
      "text/plain": "                              Artist  Certified sales (millions)  \\\n0                    Michael Jackson                        45.4   \n1                              AC/DC                        25.9   \n2                         Pink Floyd                        22.7   \n3  Whitney Houston / Various artists                        27.4   \n4                          Meat Loaf                        20.6   \n\n   Claimed sales (millions)  \n0                      65.0  \n1                      50.0  \n2                      45.0  \n3                      44.0  \n4                      43.0  ",
      "text/html": "<div>\n<style scoped>\n    .dataframe tbody tr th:only-of-type {\n        vertical-align: middle;\n    }\n\n    .dataframe tbody tr th {\n        vertical-align: top;\n    }\n\n    .dataframe thead th {\n        text-align: right;\n    }\n</style>\n<table border=\"1\" class=\"dataframe\">\n  <thead>\n    <tr style=\"text-align: right;\">\n      <th></th>\n      <th>Artist</th>\n      <th>Certified sales (millions)</th>\n      <th>Claimed sales (millions)</th>\n    </tr>\n  </thead>\n  <tbody>\n    <tr>\n      <th>0</th>\n      <td>Michael Jackson</td>\n      <td>45.4</td>\n      <td>65.0</td>\n    </tr>\n    <tr>\n      <th>1</th>\n      <td>AC/DC</td>\n      <td>25.9</td>\n      <td>50.0</td>\n    </tr>\n    <tr>\n      <th>2</th>\n      <td>Pink Floyd</td>\n      <td>22.7</td>\n      <td>45.0</td>\n    </tr>\n    <tr>\n      <th>3</th>\n      <td>Whitney Houston / Various artists</td>\n      <td>27.4</td>\n      <td>44.0</td>\n    </tr>\n    <tr>\n      <th>4</th>\n      <td>Meat Loaf</td>\n      <td>20.6</td>\n      <td>43.0</td>\n    </tr>\n  </tbody>\n</table>\n</div>"
     },
     "execution_count": 83,
     "metadata": {},
     "output_type": "execute_result"
    }
   ],
   "source": [
    "# specifying multiple columns in an array\n",
    "hit_albums = hit_albums[[\"Artist\",\"Certified sales (millions)\", \"Claimed sales (millions)\"]]\n",
    "hit_albums.head()"
   ]
  },
  {
   "cell_type": "markdown",
   "metadata": {
    "pycharm": {
     "name": "#%% md\n"
    }
   },
   "source": [
    "Slicing of columns requires the `iloc` operator\n",
    "\n",
    "This: \n",
    "```python noexec\n",
    "hit_albums[\"Artist\":\"Genre\"]\n",
    "```\n",
    "Doesn't work."
   ]
  },
  {
   "cell_type": "markdown",
   "metadata": {
    "pycharm": {
     "name": "#%% md\n"
    }
   },
   "source": [
    "One break with the convention that rows have to be accessed via `loc` or `iloc` is simple numerical slicing. The documentation claims that's for convenience, since this is so common: "
   ]
  },
  {
   "cell_type": "code",
   "execution_count": 84,
   "metadata": {
    "pycharm": {
     "name": "#%%\n"
    }
   },
   "outputs": [
    {
     "data": {
      "text/plain": "            Artist  Certified sales (millions)  Claimed sales (millions)\n0  Michael Jackson                        45.4                      65.0\n1            AC/DC                        25.9                      50.0\n2       Pink Floyd                        22.7                      45.0",
      "text/html": "<div>\n<style scoped>\n    .dataframe tbody tr th:only-of-type {\n        vertical-align: middle;\n    }\n\n    .dataframe tbody tr th {\n        vertical-align: top;\n    }\n\n    .dataframe thead th {\n        text-align: right;\n    }\n</style>\n<table border=\"1\" class=\"dataframe\">\n  <thead>\n    <tr style=\"text-align: right;\">\n      <th></th>\n      <th>Artist</th>\n      <th>Certified sales (millions)</th>\n      <th>Claimed sales (millions)</th>\n    </tr>\n  </thead>\n  <tbody>\n    <tr>\n      <th>0</th>\n      <td>Michael Jackson</td>\n      <td>45.4</td>\n      <td>65.0</td>\n    </tr>\n    <tr>\n      <th>1</th>\n      <td>AC/DC</td>\n      <td>25.9</td>\n      <td>50.0</td>\n    </tr>\n    <tr>\n      <th>2</th>\n      <td>Pink Floyd</td>\n      <td>22.7</td>\n      <td>45.0</td>\n    </tr>\n  </tbody>\n</table>\n</div>"
     },
     "execution_count": 84,
     "metadata": {},
     "output_type": "execute_result"
    }
   ],
   "source": [
    "hit_albums[:3]"
   ]
  },
  {
   "cell_type": "markdown",
   "metadata": {
    "pycharm": {
     "name": "#%% md\n"
    }
   },
   "source": [
    "Using these access methods we can also update the order: "
   ]
  },
  {
   "cell_type": "code",
   "execution_count": 85,
   "metadata": {
    "pycharm": {
     "name": "#%%\n"
    }
   },
   "outputs": [
    {
     "data": {
      "text/plain": "   Certified sales (millions)  Claimed sales (millions)  \\\n0                        45.4                      65.0   \n1                        25.9                      50.0   \n2                        22.7                      45.0   \n3                        27.4                      44.0   \n4                        20.6                      43.0   \n\n                              Artist  \n0                    Michael Jackson  \n1                              AC/DC  \n2                         Pink Floyd  \n3  Whitney Houston / Various artists  \n4                          Meat Loaf  ",
      "text/html": "<div>\n<style scoped>\n    .dataframe tbody tr th:only-of-type {\n        vertical-align: middle;\n    }\n\n    .dataframe tbody tr th {\n        vertical-align: top;\n    }\n\n    .dataframe thead th {\n        text-align: right;\n    }\n</style>\n<table border=\"1\" class=\"dataframe\">\n  <thead>\n    <tr style=\"text-align: right;\">\n      <th></th>\n      <th>Certified sales (millions)</th>\n      <th>Claimed sales (millions)</th>\n      <th>Artist</th>\n    </tr>\n  </thead>\n  <tbody>\n    <tr>\n      <th>0</th>\n      <td>45.4</td>\n      <td>65.0</td>\n      <td>Michael Jackson</td>\n    </tr>\n    <tr>\n      <th>1</th>\n      <td>25.9</td>\n      <td>50.0</td>\n      <td>AC/DC</td>\n    </tr>\n    <tr>\n      <th>2</th>\n      <td>22.7</td>\n      <td>45.0</td>\n      <td>Pink Floyd</td>\n    </tr>\n    <tr>\n      <th>3</th>\n      <td>27.4</td>\n      <td>44.0</td>\n      <td>Whitney Houston / Various artists</td>\n    </tr>\n    <tr>\n      <th>4</th>\n      <td>20.6</td>\n      <td>43.0</td>\n      <td>Meat Loaf</td>\n    </tr>\n  </tbody>\n</table>\n</div>"
     },
     "execution_count": 85,
     "metadata": {},
     "output_type": "execute_result"
    }
   ],
   "source": [
    "hit_albums[[\"Certified sales (millions)\", \"Claimed sales (millions)\", \"Artist\"]].head()"
   ]
  },
  {
   "cell_type": "markdown",
   "metadata": {
    "pycharm": {
     "name": "#%% md\n"
    }
   },
   "source": [
    "We can set a column to be the index:"
   ]
  },
  {
   "cell_type": "code",
   "execution_count": 86,
   "metadata": {
    "pycharm": {
     "name": "#%%\n"
    }
   },
   "outputs": [
    {
     "data": {
      "text/plain": "                                   Certified sales (millions)  \\\nArtist                                                          \nMichael Jackson                                          45.4   \nAC/DC                                                    25.9   \nPink Floyd                                               22.7   \nWhitney Houston / Various artists                        27.4   \nMeat Loaf                                                20.6   \n\n                                   Claimed sales (millions)  \nArtist                                                       \nMichael Jackson                                        65.0  \nAC/DC                                                  50.0  \nPink Floyd                                             45.0  \nWhitney Houston / Various artists                      44.0  \nMeat Loaf                                              43.0  ",
      "text/html": "<div>\n<style scoped>\n    .dataframe tbody tr th:only-of-type {\n        vertical-align: middle;\n    }\n\n    .dataframe tbody tr th {\n        vertical-align: top;\n    }\n\n    .dataframe thead th {\n        text-align: right;\n    }\n</style>\n<table border=\"1\" class=\"dataframe\">\n  <thead>\n    <tr style=\"text-align: right;\">\n      <th></th>\n      <th>Certified sales (millions)</th>\n      <th>Claimed sales (millions)</th>\n    </tr>\n    <tr>\n      <th>Artist</th>\n      <th></th>\n      <th></th>\n    </tr>\n  </thead>\n  <tbody>\n    <tr>\n      <th>Michael Jackson</th>\n      <td>45.4</td>\n      <td>65.0</td>\n    </tr>\n    <tr>\n      <th>AC/DC</th>\n      <td>25.9</td>\n      <td>50.0</td>\n    </tr>\n    <tr>\n      <th>Pink Floyd</th>\n      <td>22.7</td>\n      <td>45.0</td>\n    </tr>\n    <tr>\n      <th>Whitney Houston / Various artists</th>\n      <td>27.4</td>\n      <td>44.0</td>\n    </tr>\n    <tr>\n      <th>Meat Loaf</th>\n      <td>20.6</td>\n      <td>43.0</td>\n    </tr>\n  </tbody>\n</table>\n</div>"
     },
     "execution_count": 86,
     "metadata": {},
     "output_type": "execute_result"
    }
   ],
   "source": [
    "hit_albums_reindexed = hit_albums.set_index(\"Artist\")\n",
    "hit_albums_reindexed.head()"
   ]
  },
  {
   "cell_type": "markdown",
   "metadata": {
    "pycharm": {
     "name": "#%% md\n"
    }
   },
   "source": [
    "#### Slicing with `loc`\n",
    "\n",
    "We can retrieve **rows** and columns using the `loc` indexer by name. Depending on whether the label is unique or not, we get either a series or a data frame. \n",
    "\n",
    "Generally, `loc` is preferred over direct access via brackets. \n",
    "\n",
    "The general syntax is\n",
    "\n",
    "```\n",
    "df.loc[rows, columnns]\n",
    "```\n",
    "Here rows, columns can be explicit labels, lists of labels, or slicing operators. \n",
    "\n",
    "Here's a simple example: "
   ]
  },
  {
   "cell_type": "code",
   "execution_count": 87,
   "metadata": {
    "pycharm": {
     "name": "#%%\n"
    }
   },
   "outputs": [
    {
     "data": {
      "text/plain": "Certified sales (millions)    20.6\nClaimed sales (millions)      43.0\nName: Meat Loaf, dtype: float64"
     },
     "execution_count": 87,
     "metadata": {},
     "output_type": "execute_result"
    }
   ],
   "source": [
    "hit_albums_reindexed.loc[\"Meat Loaf\"]"
   ]
  },
  {
   "cell_type": "markdown",
   "metadata": {
    "pycharm": {
     "name": "#%% md\n"
    }
   },
   "source": [
    "And an example with multiple keys that returns a data frame: "
   ]
  },
  {
   "cell_type": "code",
   "execution_count": 88,
   "metadata": {
    "pycharm": {
     "name": "#%%\n"
    }
   },
   "outputs": [
    {
     "data": {
      "text/plain": "                 Certified sales (millions)  Claimed sales (millions)\nArtist                                                               \nMichael Jackson                        45.4                      65.0\nMichael Jackson                        20.3                      34.0\nMichael Jackson                        17.6                      32.0\nMichael Jackson                        20.0                       NaN\nMichael Jackson                        20.0                       NaN",
      "text/html": "<div>\n<style scoped>\n    .dataframe tbody tr th:only-of-type {\n        vertical-align: middle;\n    }\n\n    .dataframe tbody tr th {\n        vertical-align: top;\n    }\n\n    .dataframe thead th {\n        text-align: right;\n    }\n</style>\n<table border=\"1\" class=\"dataframe\">\n  <thead>\n    <tr style=\"text-align: right;\">\n      <th></th>\n      <th>Certified sales (millions)</th>\n      <th>Claimed sales (millions)</th>\n    </tr>\n    <tr>\n      <th>Artist</th>\n      <th></th>\n      <th></th>\n    </tr>\n  </thead>\n  <tbody>\n    <tr>\n      <th>Michael Jackson</th>\n      <td>45.4</td>\n      <td>65.0</td>\n    </tr>\n    <tr>\n      <th>Michael Jackson</th>\n      <td>20.3</td>\n      <td>34.0</td>\n    </tr>\n    <tr>\n      <th>Michael Jackson</th>\n      <td>17.6</td>\n      <td>32.0</td>\n    </tr>\n    <tr>\n      <th>Michael Jackson</th>\n      <td>20.0</td>\n      <td>NaN</td>\n    </tr>\n    <tr>\n      <th>Michael Jackson</th>\n      <td>20.0</td>\n      <td>NaN</td>\n    </tr>\n  </tbody>\n</table>\n</div>"
     },
     "execution_count": 88,
     "metadata": {},
     "output_type": "execute_result"
    }
   ],
   "source": [
    "hit_albums_reindexed.loc[\"Michael Jackson\"]"
   ]
  },
  {
   "cell_type": "markdown",
   "metadata": {
    "pycharm": {
     "name": "#%% md\n"
    }
   },
   "source": [
    "The second argument in the `loc` array can be used to access columns "
   ]
  },
  {
   "cell_type": "code",
   "execution_count": 89,
   "metadata": {
    "pycharm": {
     "name": "#%%\n"
    }
   },
   "outputs": [
    {
     "data": {
      "text/plain": "Artist\nMichael Jackson    45.4\nMichael Jackson    20.3\nMichael Jackson    17.6\nMichael Jackson    20.0\nMichael Jackson    20.0\nName: Certified sales (millions), dtype: float64"
     },
     "execution_count": 89,
     "metadata": {},
     "output_type": "execute_result"
    }
   ],
   "source": [
    "hit_albums_reindexed.loc[\"Michael Jackson\", \"Certified sales (millions)\"]"
   ]
  },
  {
   "cell_type": "markdown",
   "metadata": {
    "pycharm": {
     "name": "#%% md\n"
    }
   },
   "source": [
    "Here is an example with a list of row labels. "
   ]
  },
  {
   "cell_type": "code",
   "execution_count": 90,
   "metadata": {
    "pycharm": {
     "name": "#%%\n"
    }
   },
   "outputs": [
    {
     "data": {
      "text/plain": "Artist\nMichael Jackson    45.4\nMichael Jackson    20.3\nMichael Jackson    17.6\nMichael Jackson    20.0\nMichael Jackson    20.0\nMeat Loaf          20.6\nName: Certified sales (millions), dtype: float64"
     },
     "execution_count": 90,
     "metadata": {},
     "output_type": "execute_result"
    }
   ],
   "source": [
    "hit_albums_reindexed.loc[[\"Michael Jackson\", \"Meat Loaf\"], \"Certified sales (millions)\"]"
   ]
  },
  {
   "cell_type": "markdown",
   "metadata": {
    "pycharm": {
     "name": "#%% md\n"
    }
   },
   "source": [
    "We can use slice operations. Remember, that slicing by label (`loc`) includes the last value, by index (`iloc`) does not. \n",
    "\n",
    "\n",
    "Note that this doesn't work if we use labels that have duplicates as indexers. "
   ]
  },
  {
   "cell_type": "code",
   "execution_count": 91,
   "metadata": {
    "pycharm": {
     "name": "#%%\n"
    }
   },
   "outputs": [
    {
     "data": {
      "text/plain": "                         Certified sales (millions)  Claimed sales (millions)\nArtist                                                                       \nGreen Day                                      20.0                       NaN\nLionel Richie                                  20.0                       NaN\nMichael Jackson                                20.0                       NaN\nMichael Jackson                                20.0                       NaN\nPrince & the Revolution                        20.0                       NaN\nShania Twain                                   20.0                       NaN\nShania Twain                                   20.0                       NaN\nSupertramp                                     20.0                       NaN",
      "text/html": "<div>\n<style scoped>\n    .dataframe tbody tr th:only-of-type {\n        vertical-align: middle;\n    }\n\n    .dataframe tbody tr th {\n        vertical-align: top;\n    }\n\n    .dataframe thead th {\n        text-align: right;\n    }\n</style>\n<table border=\"1\" class=\"dataframe\">\n  <thead>\n    <tr style=\"text-align: right;\">\n      <th></th>\n      <th>Certified sales (millions)</th>\n      <th>Claimed sales (millions)</th>\n    </tr>\n    <tr>\n      <th>Artist</th>\n      <th></th>\n      <th></th>\n    </tr>\n  </thead>\n  <tbody>\n    <tr>\n      <th>Green Day</th>\n      <td>20.0</td>\n      <td>NaN</td>\n    </tr>\n    <tr>\n      <th>Lionel Richie</th>\n      <td>20.0</td>\n      <td>NaN</td>\n    </tr>\n    <tr>\n      <th>Michael Jackson</th>\n      <td>20.0</td>\n      <td>NaN</td>\n    </tr>\n    <tr>\n      <th>Michael Jackson</th>\n      <td>20.0</td>\n      <td>NaN</td>\n    </tr>\n    <tr>\n      <th>Prince &amp; the Revolution</th>\n      <td>20.0</td>\n      <td>NaN</td>\n    </tr>\n    <tr>\n      <th>Shania Twain</th>\n      <td>20.0</td>\n      <td>NaN</td>\n    </tr>\n    <tr>\n      <th>Shania Twain</th>\n      <td>20.0</td>\n      <td>NaN</td>\n    </tr>\n    <tr>\n      <th>Supertramp</th>\n      <td>20.0</td>\n      <td>NaN</td>\n    </tr>\n  </tbody>\n</table>\n</div>"
     },
     "execution_count": 91,
     "metadata": {},
     "output_type": "execute_result"
    }
   ],
   "source": [
    "hit_albums_reindexed.loc[\"Green Day\":\"Supertramp\"]\n",
    "\n",
    "# this wouldn't work\n",
    "# hit_albums_reindexed.loc[\"Green Day\":\"Michael Jackson\"]"
   ]
  },
  {
   "cell_type": "markdown",
   "metadata": {
    "pycharm": {
     "name": "#%% md\n"
    }
   },
   "source": [
    "This can also be combined with slicing columns: "
   ]
  },
  {
   "cell_type": "code",
   "execution_count": 92,
   "metadata": {
    "pycharm": {
     "name": "#%%\n"
    }
   },
   "outputs": [
    {
     "data": {
      "text/plain": "                         Certified sales (millions)\nArtist                                             \nGreen Day                                      20.0\nLionel Richie                                  20.0\nMichael Jackson                                20.0\nMichael Jackson                                20.0\nPrince & the Revolution                        20.0\nShania Twain                                   20.0\nShania Twain                                   20.0\nSupertramp                                     20.0",
      "text/html": "<div>\n<style scoped>\n    .dataframe tbody tr th:only-of-type {\n        vertical-align: middle;\n    }\n\n    .dataframe tbody tr th {\n        vertical-align: top;\n    }\n\n    .dataframe thead th {\n        text-align: right;\n    }\n</style>\n<table border=\"1\" class=\"dataframe\">\n  <thead>\n    <tr style=\"text-align: right;\">\n      <th></th>\n      <th>Certified sales (millions)</th>\n    </tr>\n    <tr>\n      <th>Artist</th>\n      <th></th>\n    </tr>\n  </thead>\n  <tbody>\n    <tr>\n      <th>Green Day</th>\n      <td>20.0</td>\n    </tr>\n    <tr>\n      <th>Lionel Richie</th>\n      <td>20.0</td>\n    </tr>\n    <tr>\n      <th>Michael Jackson</th>\n      <td>20.0</td>\n    </tr>\n    <tr>\n      <th>Michael Jackson</th>\n      <td>20.0</td>\n    </tr>\n    <tr>\n      <th>Prince &amp; the Revolution</th>\n      <td>20.0</td>\n    </tr>\n    <tr>\n      <th>Shania Twain</th>\n      <td>20.0</td>\n    </tr>\n    <tr>\n      <th>Shania Twain</th>\n      <td>20.0</td>\n    </tr>\n    <tr>\n      <th>Supertramp</th>\n      <td>20.0</td>\n    </tr>\n  </tbody>\n</table>\n</div>"
     },
     "execution_count": 92,
     "metadata": {},
     "output_type": "execute_result"
    }
   ],
   "source": [
    "hit_albums_reindexed.loc[\"Green Day\":\"Supertramp\", [\"Certified sales (millions)\"]]"
   ]
  },
  {
   "cell_type": "markdown",
   "metadata": {
    "pycharm": {
     "name": "#%% md\n"
    }
   },
   "source": [
    "We can also slice columns with loc. Let's re-load the full dataset first:  "
   ]
  },
  {
   "cell_type": "code",
   "execution_count": 93,
   "metadata": {
    "pycharm": {
     "name": "#%%\n"
    }
   },
   "outputs": [
    {
     "data": {
      "text/plain": "                              Artist                      Album  Released  \\\n0                    Michael Jackson                   Thriller      1982   \n1                              AC/DC              Back in Black      1980   \n2                         Pink Floyd  The Dark Side of the Moon      1973   \n3  Whitney Houston / Various artists              The Bodyguard      1992   \n4                          Meat Loaf            Bat Out of Hell      1977   \n\n                         Genre  Certified sales (millions)  \\\n0               Pop, rock, R&B                        45.4   \n1                    Hard rock                        25.9   \n2             Progressive rock                        22.7   \n3    Soundtrack/R&B, soul, pop                        27.4   \n4  Hard rock, progressive rock                        20.6   \n\n   Claimed sales (millions)  \n0                      65.0  \n1                      50.0  \n2                      45.0  \n3                      44.0  \n4                      43.0  ",
      "text/html": "<div>\n<style scoped>\n    .dataframe tbody tr th:only-of-type {\n        vertical-align: middle;\n    }\n\n    .dataframe tbody tr th {\n        vertical-align: top;\n    }\n\n    .dataframe thead th {\n        text-align: right;\n    }\n</style>\n<table border=\"1\" class=\"dataframe\">\n  <thead>\n    <tr style=\"text-align: right;\">\n      <th></th>\n      <th>Artist</th>\n      <th>Album</th>\n      <th>Released</th>\n      <th>Genre</th>\n      <th>Certified sales (millions)</th>\n      <th>Claimed sales (millions)</th>\n    </tr>\n  </thead>\n  <tbody>\n    <tr>\n      <th>0</th>\n      <td>Michael Jackson</td>\n      <td>Thriller</td>\n      <td>1982</td>\n      <td>Pop, rock, R&amp;B</td>\n      <td>45.4</td>\n      <td>65.0</td>\n    </tr>\n    <tr>\n      <th>1</th>\n      <td>AC/DC</td>\n      <td>Back in Black</td>\n      <td>1980</td>\n      <td>Hard rock</td>\n      <td>25.9</td>\n      <td>50.0</td>\n    </tr>\n    <tr>\n      <th>2</th>\n      <td>Pink Floyd</td>\n      <td>The Dark Side of the Moon</td>\n      <td>1973</td>\n      <td>Progressive rock</td>\n      <td>22.7</td>\n      <td>45.0</td>\n    </tr>\n    <tr>\n      <th>3</th>\n      <td>Whitney Houston / Various artists</td>\n      <td>The Bodyguard</td>\n      <td>1992</td>\n      <td>Soundtrack/R&amp;B, soul, pop</td>\n      <td>27.4</td>\n      <td>44.0</td>\n    </tr>\n    <tr>\n      <th>4</th>\n      <td>Meat Loaf</td>\n      <td>Bat Out of Hell</td>\n      <td>1977</td>\n      <td>Hard rock, progressive rock</td>\n      <td>20.6</td>\n      <td>43.0</td>\n    </tr>\n  </tbody>\n</table>\n</div>"
     },
     "execution_count": 93,
     "metadata": {},
     "output_type": "execute_result"
    }
   ],
   "source": [
    "full_hit_albums = pd.read_csv(\"hit_albums.csv\")\n",
    "full_hit_albums.head()"
   ]
  },
  {
   "cell_type": "markdown",
   "metadata": {
    "pycharm": {
     "name": "#%% md\n"
    }
   },
   "source": [
    "This creates a slice containing all rows and the columns from Artist to Released: "
   ]
  },
  {
   "cell_type": "code",
   "execution_count": 94,
   "metadata": {
    "pycharm": {
     "name": "#%%\n"
    }
   },
   "outputs": [
    {
     "data": {
      "text/plain": "                               Artist  \\\n0                     Michael Jackson   \n1                               AC/DC   \n2                          Pink Floyd   \n3   Whitney Houston / Various artists   \n4                           Meat Loaf   \n..                                ...   \n72                      Tracy Chapman   \n73                              Usher   \n74                    Various artists   \n75                    Whitney Houston   \n76                            Shakira   \n\n                                                Album  Released  \n0                                            Thriller      1982  \n1                                       Back in Black      1980  \n2                           The Dark Side of the Moon      1973  \n3                                       The Bodyguard      1992  \n4                                     Bat Out of Hell      1977  \n..                                                ...       ...  \n72                                      Tracy Chapman      1988  \n73                                        Confessions      2004  \n74  Flashdance: Original Soundtrack from the Motio...      1983  \n75                                            Whitney      1987  \n76                                    Laundry Service      2001  \n\n[77 rows x 3 columns]",
      "text/html": "<div>\n<style scoped>\n    .dataframe tbody tr th:only-of-type {\n        vertical-align: middle;\n    }\n\n    .dataframe tbody tr th {\n        vertical-align: top;\n    }\n\n    .dataframe thead th {\n        text-align: right;\n    }\n</style>\n<table border=\"1\" class=\"dataframe\">\n  <thead>\n    <tr style=\"text-align: right;\">\n      <th></th>\n      <th>Artist</th>\n      <th>Album</th>\n      <th>Released</th>\n    </tr>\n  </thead>\n  <tbody>\n    <tr>\n      <th>0</th>\n      <td>Michael Jackson</td>\n      <td>Thriller</td>\n      <td>1982</td>\n    </tr>\n    <tr>\n      <th>1</th>\n      <td>AC/DC</td>\n      <td>Back in Black</td>\n      <td>1980</td>\n    </tr>\n    <tr>\n      <th>2</th>\n      <td>Pink Floyd</td>\n      <td>The Dark Side of the Moon</td>\n      <td>1973</td>\n    </tr>\n    <tr>\n      <th>3</th>\n      <td>Whitney Houston / Various artists</td>\n      <td>The Bodyguard</td>\n      <td>1992</td>\n    </tr>\n    <tr>\n      <th>4</th>\n      <td>Meat Loaf</td>\n      <td>Bat Out of Hell</td>\n      <td>1977</td>\n    </tr>\n    <tr>\n      <th>...</th>\n      <td>...</td>\n      <td>...</td>\n      <td>...</td>\n    </tr>\n    <tr>\n      <th>72</th>\n      <td>Tracy Chapman</td>\n      <td>Tracy Chapman</td>\n      <td>1988</td>\n    </tr>\n    <tr>\n      <th>73</th>\n      <td>Usher</td>\n      <td>Confessions</td>\n      <td>2004</td>\n    </tr>\n    <tr>\n      <th>74</th>\n      <td>Various artists</td>\n      <td>Flashdance: Original Soundtrack from the Motio...</td>\n      <td>1983</td>\n    </tr>\n    <tr>\n      <th>75</th>\n      <td>Whitney Houston</td>\n      <td>Whitney</td>\n      <td>1987</td>\n    </tr>\n    <tr>\n      <th>76</th>\n      <td>Shakira</td>\n      <td>Laundry Service</td>\n      <td>2001</td>\n    </tr>\n  </tbody>\n</table>\n<p>77 rows × 3 columns</p>\n</div>"
     },
     "execution_count": 94,
     "metadata": {},
     "output_type": "execute_result"
    }
   ],
   "source": [
    "full_hit_albums.loc[:,\"Artist\":\"Released\"]"
   ]
  },
  {
   "cell_type": "markdown",
   "metadata": {
    "pycharm": {
     "name": "#%% md\n"
    }
   },
   "source": [
    "Here's a slice for the first 10 rows and columns Artists to Released: "
   ]
  },
  {
   "cell_type": "code",
   "execution_count": 95,
   "metadata": {
    "pycharm": {
     "name": "#%%\n"
    }
   },
   "outputs": [
    {
     "data": {
      "text/plain": "                               Artist                            Album  \\\n0                     Michael Jackson                         Thriller   \n1                               AC/DC                    Back in Black   \n2                          Pink Floyd        The Dark Side of the Moon   \n3   Whitney Houston / Various artists                    The Bodyguard   \n4                           Meat Loaf                  Bat Out of Hell   \n5                              Eagles  Their Greatest Hits (1971–1975)   \n6          Bee Gees / Various artists             Saturday Night Fever   \n7                       Fleetwood Mac                          Rumours   \n8                        Shania Twain                     Come On Over   \n9                        Led Zeppelin                  Led Zeppelin IV   \n10                    Michael Jackson                              Bad   \n\n    Released  \n0       1982  \n1       1980  \n2       1973  \n3       1992  \n4       1977  \n5       1976  \n6       1977  \n7       1977  \n8       1997  \n9       1971  \n10      1987  ",
      "text/html": "<div>\n<style scoped>\n    .dataframe tbody tr th:only-of-type {\n        vertical-align: middle;\n    }\n\n    .dataframe tbody tr th {\n        vertical-align: top;\n    }\n\n    .dataframe thead th {\n        text-align: right;\n    }\n</style>\n<table border=\"1\" class=\"dataframe\">\n  <thead>\n    <tr style=\"text-align: right;\">\n      <th></th>\n      <th>Artist</th>\n      <th>Album</th>\n      <th>Released</th>\n    </tr>\n  </thead>\n  <tbody>\n    <tr>\n      <th>0</th>\n      <td>Michael Jackson</td>\n      <td>Thriller</td>\n      <td>1982</td>\n    </tr>\n    <tr>\n      <th>1</th>\n      <td>AC/DC</td>\n      <td>Back in Black</td>\n      <td>1980</td>\n    </tr>\n    <tr>\n      <th>2</th>\n      <td>Pink Floyd</td>\n      <td>The Dark Side of the Moon</td>\n      <td>1973</td>\n    </tr>\n    <tr>\n      <th>3</th>\n      <td>Whitney Houston / Various artists</td>\n      <td>The Bodyguard</td>\n      <td>1992</td>\n    </tr>\n    <tr>\n      <th>4</th>\n      <td>Meat Loaf</td>\n      <td>Bat Out of Hell</td>\n      <td>1977</td>\n    </tr>\n    <tr>\n      <th>5</th>\n      <td>Eagles</td>\n      <td>Their Greatest Hits (1971–1975)</td>\n      <td>1976</td>\n    </tr>\n    <tr>\n      <th>6</th>\n      <td>Bee Gees / Various artists</td>\n      <td>Saturday Night Fever</td>\n      <td>1977</td>\n    </tr>\n    <tr>\n      <th>7</th>\n      <td>Fleetwood Mac</td>\n      <td>Rumours</td>\n      <td>1977</td>\n    </tr>\n    <tr>\n      <th>8</th>\n      <td>Shania Twain</td>\n      <td>Come On Over</td>\n      <td>1997</td>\n    </tr>\n    <tr>\n      <th>9</th>\n      <td>Led Zeppelin</td>\n      <td>Led Zeppelin IV</td>\n      <td>1971</td>\n    </tr>\n    <tr>\n      <th>10</th>\n      <td>Michael Jackson</td>\n      <td>Bad</td>\n      <td>1987</td>\n    </tr>\n  </tbody>\n</table>\n</div>"
     },
     "execution_count": 95,
     "metadata": {},
     "output_type": "execute_result"
    }
   ],
   "source": [
    "full_hit_albums.loc[:10,\"Artist\":\"Released\"]"
   ]
  },
  {
   "cell_type": "markdown",
   "metadata": {
    "pycharm": {
     "name": "#%% md\n"
    }
   },
   "source": [
    "Here is the same thing using `iloc`, i.e., index based slicing:"
   ]
  },
  {
   "cell_type": "code",
   "execution_count": 96,
   "metadata": {
    "pycharm": {
     "name": "#%%\n"
    }
   },
   "outputs": [
    {
     "data": {
      "text/plain": "                              Artist                            Album  \\\n0                    Michael Jackson                         Thriller   \n1                              AC/DC                    Back in Black   \n2                         Pink Floyd        The Dark Side of the Moon   \n3  Whitney Houston / Various artists                    The Bodyguard   \n4                          Meat Loaf                  Bat Out of Hell   \n5                             Eagles  Their Greatest Hits (1971–1975)   \n6         Bee Gees / Various artists             Saturday Night Fever   \n7                      Fleetwood Mac                          Rumours   \n8                       Shania Twain                     Come On Over   \n9                       Led Zeppelin                  Led Zeppelin IV   \n\n   Released  \n0      1982  \n1      1980  \n2      1973  \n3      1992  \n4      1977  \n5      1976  \n6      1977  \n7      1977  \n8      1997  \n9      1971  ",
      "text/html": "<div>\n<style scoped>\n    .dataframe tbody tr th:only-of-type {\n        vertical-align: middle;\n    }\n\n    .dataframe tbody tr th {\n        vertical-align: top;\n    }\n\n    .dataframe thead th {\n        text-align: right;\n    }\n</style>\n<table border=\"1\" class=\"dataframe\">\n  <thead>\n    <tr style=\"text-align: right;\">\n      <th></th>\n      <th>Artist</th>\n      <th>Album</th>\n      <th>Released</th>\n    </tr>\n  </thead>\n  <tbody>\n    <tr>\n      <th>0</th>\n      <td>Michael Jackson</td>\n      <td>Thriller</td>\n      <td>1982</td>\n    </tr>\n    <tr>\n      <th>1</th>\n      <td>AC/DC</td>\n      <td>Back in Black</td>\n      <td>1980</td>\n    </tr>\n    <tr>\n      <th>2</th>\n      <td>Pink Floyd</td>\n      <td>The Dark Side of the Moon</td>\n      <td>1973</td>\n    </tr>\n    <tr>\n      <th>3</th>\n      <td>Whitney Houston / Various artists</td>\n      <td>The Bodyguard</td>\n      <td>1992</td>\n    </tr>\n    <tr>\n      <th>4</th>\n      <td>Meat Loaf</td>\n      <td>Bat Out of Hell</td>\n      <td>1977</td>\n    </tr>\n    <tr>\n      <th>5</th>\n      <td>Eagles</td>\n      <td>Their Greatest Hits (1971–1975)</td>\n      <td>1976</td>\n    </tr>\n    <tr>\n      <th>6</th>\n      <td>Bee Gees / Various artists</td>\n      <td>Saturday Night Fever</td>\n      <td>1977</td>\n    </tr>\n    <tr>\n      <th>7</th>\n      <td>Fleetwood Mac</td>\n      <td>Rumours</td>\n      <td>1977</td>\n    </tr>\n    <tr>\n      <th>8</th>\n      <td>Shania Twain</td>\n      <td>Come On Over</td>\n      <td>1997</td>\n    </tr>\n    <tr>\n      <th>9</th>\n      <td>Led Zeppelin</td>\n      <td>Led Zeppelin IV</td>\n      <td>1971</td>\n    </tr>\n  </tbody>\n</table>\n</div>"
     },
     "execution_count": 96,
     "metadata": {},
     "output_type": "execute_result"
    }
   ],
   "source": [
    "full_hit_albums.iloc[0:10, 0:3]"
   ]
  },
  {
   "cell_type": "markdown",
   "metadata": {
    "pycharm": {
     "name": "#%% md\n"
    }
   },
   "source": [
    "### 3.2 Broadcasting\n",
    "\n",
    "Of course, we can use broadcasting and filtering based on boolean masks just as we do for series.\n",
    "\n",
    "Here we boradcast an operation on a series and set it to a new column. "
   ]
  },
  {
   "cell_type": "code",
   "execution_count": 97,
   "metadata": {
    "pycharm": {
     "name": "#%%\n"
    }
   },
   "outputs": [
    {
     "data": {
      "text/plain": "                              Artist                      Album  Released  \\\n0                    Michael Jackson                   Thriller      1982   \n1                              AC/DC              Back in Black      1980   \n2                         Pink Floyd  The Dark Side of the Moon      1973   \n3  Whitney Houston / Various artists              The Bodyguard      1992   \n4                          Meat Loaf            Bat Out of Hell      1977   \n\n                         Genre  Certified sales (millions)  \\\n0               Pop, rock, R&B                        45.4   \n1                    Hard rock                        25.9   \n2             Progressive rock                        22.7   \n3    Soundtrack/R&B, soul, pop                        27.4   \n4  Hard rock, progressive rock                        20.6   \n\n   Claimed sales (millions)  Certified sales  \n0                      65.0       45400000.0  \n1                      50.0       25900000.0  \n2                      45.0       22700000.0  \n3                      44.0       27400000.0  \n4                      43.0       20600000.0  ",
      "text/html": "<div>\n<style scoped>\n    .dataframe tbody tr th:only-of-type {\n        vertical-align: middle;\n    }\n\n    .dataframe tbody tr th {\n        vertical-align: top;\n    }\n\n    .dataframe thead th {\n        text-align: right;\n    }\n</style>\n<table border=\"1\" class=\"dataframe\">\n  <thead>\n    <tr style=\"text-align: right;\">\n      <th></th>\n      <th>Artist</th>\n      <th>Album</th>\n      <th>Released</th>\n      <th>Genre</th>\n      <th>Certified sales (millions)</th>\n      <th>Claimed sales (millions)</th>\n      <th>Certified sales</th>\n    </tr>\n  </thead>\n  <tbody>\n    <tr>\n      <th>0</th>\n      <td>Michael Jackson</td>\n      <td>Thriller</td>\n      <td>1982</td>\n      <td>Pop, rock, R&amp;B</td>\n      <td>45.4</td>\n      <td>65.0</td>\n      <td>45400000.0</td>\n    </tr>\n    <tr>\n      <th>1</th>\n      <td>AC/DC</td>\n      <td>Back in Black</td>\n      <td>1980</td>\n      <td>Hard rock</td>\n      <td>25.9</td>\n      <td>50.0</td>\n      <td>25900000.0</td>\n    </tr>\n    <tr>\n      <th>2</th>\n      <td>Pink Floyd</td>\n      <td>The Dark Side of the Moon</td>\n      <td>1973</td>\n      <td>Progressive rock</td>\n      <td>22.7</td>\n      <td>45.0</td>\n      <td>22700000.0</td>\n    </tr>\n    <tr>\n      <th>3</th>\n      <td>Whitney Houston / Various artists</td>\n      <td>The Bodyguard</td>\n      <td>1992</td>\n      <td>Soundtrack/R&amp;B, soul, pop</td>\n      <td>27.4</td>\n      <td>44.0</td>\n      <td>27400000.0</td>\n    </tr>\n    <tr>\n      <th>4</th>\n      <td>Meat Loaf</td>\n      <td>Bat Out of Hell</td>\n      <td>1977</td>\n      <td>Hard rock, progressive rock</td>\n      <td>20.6</td>\n      <td>43.0</td>\n      <td>20600000.0</td>\n    </tr>\n  </tbody>\n</table>\n</div>"
     },
     "execution_count": 97,
     "metadata": {},
     "output_type": "execute_result"
    }
   ],
   "source": [
    "full_hit_albums[\"Certified sales\"] =  full_hit_albums[\"Certified sales (millions)\"] * 1000000\n",
    "full_hit_albums.head()"
   ]
  },
  {
   "cell_type": "markdown",
   "metadata": {
    "pycharm": {
     "name": "#%% md\n"
    }
   },
   "source": [
    "Here we filter out all of the albums that were released before 1990. "
   ]
  },
  {
   "cell_type": "code",
   "execution_count": 98,
   "metadata": {
    "pycharm": {
     "name": "#%%\n"
    }
   },
   "outputs": [
    {
     "data": {
      "text/plain": "0    False\n1    False\n2    False\n3     True\n4    False\nName: Released, dtype: bool"
     },
     "execution_count": 98,
     "metadata": {},
     "output_type": "execute_result"
    }
   ],
   "source": [
    "mask = full_hit_albums[\"Released\"] > 1990\n",
    "mask.head()"
   ]
  },
  {
   "cell_type": "code",
   "execution_count": 99,
   "metadata": {
    "pycharm": {
     "name": "#%%\n"
    }
   },
   "outputs": [
    {
     "data": {
      "text/plain": "                               Artist               Album  Released  \\\n3   Whitney Houston / Various artists       The Bodyguard      1992   \n8                        Shania Twain        Come On Over      1997   \n11                  Alanis Morissette  Jagged Little Pill      1995   \n12                        Celine Dion    Falling into You      1996   \n15                       Mariah Carey           Music Box      1993   \n\n                        Genre  Certified sales (millions)  \\\n3   Soundtrack/R&B, soul, pop                        27.4   \n8                Country, pop                        29.6   \n11           Alternative rock                        24.8   \n12             Pop, Soft rock                        20.2   \n15             Pop, R&B, Rock                        19.0   \n\n    Claimed sales (millions)  Certified sales  \n3                       44.0       27400000.0  \n8                       39.0       29600000.0  \n11                      33.0       24800000.0  \n12                      32.0       20200000.0  \n15                      32.0       19000000.0  ",
      "text/html": "<div>\n<style scoped>\n    .dataframe tbody tr th:only-of-type {\n        vertical-align: middle;\n    }\n\n    .dataframe tbody tr th {\n        vertical-align: top;\n    }\n\n    .dataframe thead th {\n        text-align: right;\n    }\n</style>\n<table border=\"1\" class=\"dataframe\">\n  <thead>\n    <tr style=\"text-align: right;\">\n      <th></th>\n      <th>Artist</th>\n      <th>Album</th>\n      <th>Released</th>\n      <th>Genre</th>\n      <th>Certified sales (millions)</th>\n      <th>Claimed sales (millions)</th>\n      <th>Certified sales</th>\n    </tr>\n  </thead>\n  <tbody>\n    <tr>\n      <th>3</th>\n      <td>Whitney Houston / Various artists</td>\n      <td>The Bodyguard</td>\n      <td>1992</td>\n      <td>Soundtrack/R&amp;B, soul, pop</td>\n      <td>27.4</td>\n      <td>44.0</td>\n      <td>27400000.0</td>\n    </tr>\n    <tr>\n      <th>8</th>\n      <td>Shania Twain</td>\n      <td>Come On Over</td>\n      <td>1997</td>\n      <td>Country, pop</td>\n      <td>29.6</td>\n      <td>39.0</td>\n      <td>29600000.0</td>\n    </tr>\n    <tr>\n      <th>11</th>\n      <td>Alanis Morissette</td>\n      <td>Jagged Little Pill</td>\n      <td>1995</td>\n      <td>Alternative rock</td>\n      <td>24.8</td>\n      <td>33.0</td>\n      <td>24800000.0</td>\n    </tr>\n    <tr>\n      <th>12</th>\n      <td>Celine Dion</td>\n      <td>Falling into You</td>\n      <td>1996</td>\n      <td>Pop, Soft rock</td>\n      <td>20.2</td>\n      <td>32.0</td>\n      <td>20200000.0</td>\n    </tr>\n    <tr>\n      <th>15</th>\n      <td>Mariah Carey</td>\n      <td>Music Box</td>\n      <td>1993</td>\n      <td>Pop, R&amp;B, Rock</td>\n      <td>19.0</td>\n      <td>32.0</td>\n      <td>19000000.0</td>\n    </tr>\n  </tbody>\n</table>\n</div>"
     },
     "execution_count": 99,
     "metadata": {},
     "output_type": "execute_result"
    }
   ],
   "source": [
    "full_hit_albums.loc[mask].head()"
   ]
  },
  {
   "cell_type": "markdown",
   "metadata": {
    "pycharm": {
     "name": "#%% md\n"
    }
   },
   "source": [
    "Or, short: "
   ]
  },
  {
   "cell_type": "code",
   "execution_count": 100,
   "metadata": {
    "pycharm": {
     "name": "#%%\n"
    }
   },
   "outputs": [
    {
     "data": {
      "text/plain": "           Artist              Album  Released  \\\n20          Adele                 21      2011   \n42    Norah Jones  Come Away with Me      2002   \n56          Adele                 25      2015   \n57  Avril Lavigne             Let Go      2002   \n69   Shania Twain                Up!      2002   \n73          Usher        Confessions      2004   \n76        Shakira    Laundry Service      2001   \n\n                                      Genre  Certified sales (millions)  \\\n20                                Pop, soul                        22.3   \n42                                     Jazz                        25.0   \n56                           Soul, pop, R&B                        20.0   \n57  Pop rock, alternative rock, post-grunge                        20.0   \n69                Country, pop, world music                        20.0   \n73                                      R&B                        20.0   \n76                                Pop, Rock                        20.0   \n\n    Claimed sales (millions)  Certified sales  \n20                      30.0       22300000.0  \n42                       NaN       25000000.0  \n56                       NaN       20000000.0  \n57                       NaN       20000000.0  \n69                       NaN       20000000.0  \n73                       NaN       20000000.0  \n76                       NaN       20000000.0  ",
      "text/html": "<div>\n<style scoped>\n    .dataframe tbody tr th:only-of-type {\n        vertical-align: middle;\n    }\n\n    .dataframe tbody tr th {\n        vertical-align: top;\n    }\n\n    .dataframe thead th {\n        text-align: right;\n    }\n</style>\n<table border=\"1\" class=\"dataframe\">\n  <thead>\n    <tr style=\"text-align: right;\">\n      <th></th>\n      <th>Artist</th>\n      <th>Album</th>\n      <th>Released</th>\n      <th>Genre</th>\n      <th>Certified sales (millions)</th>\n      <th>Claimed sales (millions)</th>\n      <th>Certified sales</th>\n    </tr>\n  </thead>\n  <tbody>\n    <tr>\n      <th>20</th>\n      <td>Adele</td>\n      <td>21</td>\n      <td>2011</td>\n      <td>Pop, soul</td>\n      <td>22.3</td>\n      <td>30.0</td>\n      <td>22300000.0</td>\n    </tr>\n    <tr>\n      <th>42</th>\n      <td>Norah Jones</td>\n      <td>Come Away with Me</td>\n      <td>2002</td>\n      <td>Jazz</td>\n      <td>25.0</td>\n      <td>NaN</td>\n      <td>25000000.0</td>\n    </tr>\n    <tr>\n      <th>56</th>\n      <td>Adele</td>\n      <td>25</td>\n      <td>2015</td>\n      <td>Soul, pop, R&amp;B</td>\n      <td>20.0</td>\n      <td>NaN</td>\n      <td>20000000.0</td>\n    </tr>\n    <tr>\n      <th>57</th>\n      <td>Avril Lavigne</td>\n      <td>Let Go</td>\n      <td>2002</td>\n      <td>Pop rock, alternative rock, post-grunge</td>\n      <td>20.0</td>\n      <td>NaN</td>\n      <td>20000000.0</td>\n    </tr>\n    <tr>\n      <th>69</th>\n      <td>Shania Twain</td>\n      <td>Up!</td>\n      <td>2002</td>\n      <td>Country, pop, world music</td>\n      <td>20.0</td>\n      <td>NaN</td>\n      <td>20000000.0</td>\n    </tr>\n    <tr>\n      <th>73</th>\n      <td>Usher</td>\n      <td>Confessions</td>\n      <td>2004</td>\n      <td>R&amp;B</td>\n      <td>20.0</td>\n      <td>NaN</td>\n      <td>20000000.0</td>\n    </tr>\n    <tr>\n      <th>76</th>\n      <td>Shakira</td>\n      <td>Laundry Service</td>\n      <td>2001</td>\n      <td>Pop, Rock</td>\n      <td>20.0</td>\n      <td>NaN</td>\n      <td>20000000.0</td>\n    </tr>\n  </tbody>\n</table>\n</div>"
     },
     "execution_count": 100,
     "metadata": {},
     "output_type": "execute_result"
    }
   ],
   "source": [
    "full_hit_albums.loc[full_hit_albums[\"Released\"] > 2000]"
   ]
  },
  {
   "cell_type": "markdown",
   "metadata": {
    "pycharm": {
     "name": "#%% md\n"
    }
   },
   "source": [
    "### 3.3 Missing values\n",
    "\n",
    "Let's take care of some NaN values"
   ]
  },
  {
   "cell_type": "code",
   "execution_count": 101,
   "metadata": {
    "scrolled": true,
    "pycharm": {
     "name": "#%%\n"
    }
   },
   "outputs": [
    {
     "data": {
      "text/plain": "             Artist  Certified sales (millions)  Claimed sales (millions)\n72    Tracy Chapman                        20.0                       NaN\n73            Usher                        20.0                       NaN\n74  Various artists                        20.0                       NaN\n75  Whitney Houston                        20.0                       NaN\n76          Shakira                        20.0                       NaN",
      "text/html": "<div>\n<style scoped>\n    .dataframe tbody tr th:only-of-type {\n        vertical-align: middle;\n    }\n\n    .dataframe tbody tr th {\n        vertical-align: top;\n    }\n\n    .dataframe thead th {\n        text-align: right;\n    }\n</style>\n<table border=\"1\" class=\"dataframe\">\n  <thead>\n    <tr style=\"text-align: right;\">\n      <th></th>\n      <th>Artist</th>\n      <th>Certified sales (millions)</th>\n      <th>Claimed sales (millions)</th>\n    </tr>\n  </thead>\n  <tbody>\n    <tr>\n      <th>72</th>\n      <td>Tracy Chapman</td>\n      <td>20.0</td>\n      <td>NaN</td>\n    </tr>\n    <tr>\n      <th>73</th>\n      <td>Usher</td>\n      <td>20.0</td>\n      <td>NaN</td>\n    </tr>\n    <tr>\n      <th>74</th>\n      <td>Various artists</td>\n      <td>20.0</td>\n      <td>NaN</td>\n    </tr>\n    <tr>\n      <th>75</th>\n      <td>Whitney Houston</td>\n      <td>20.0</td>\n      <td>NaN</td>\n    </tr>\n    <tr>\n      <th>76</th>\n      <td>Shakira</td>\n      <td>20.0</td>\n      <td>NaN</td>\n    </tr>\n  </tbody>\n</table>\n</div>"
     },
     "execution_count": 101,
     "metadata": {},
     "output_type": "execute_result"
    }
   ],
   "source": [
    "hit_albums.tail()"
   ]
  },
  {
   "cell_type": "markdown",
   "metadata": {
    "pycharm": {
     "name": "#%% md\n"
    }
   },
   "source": [
    "One way would be to just drop them."
   ]
  },
  {
   "cell_type": "code",
   "execution_count": 102,
   "metadata": {
    "pycharm": {
     "name": "#%%\n"
    }
   },
   "outputs": [
    {
     "data": {
      "text/plain": "           Artist  Certified sales (millions)  Claimed sales (millions)\n26      Metallica                        19.9                      30.0\n27        Nirvana                        16.7                      30.0\n28     Pink Floyd                        17.6                      30.0\n29        Santana                        20.5                      30.0\n30  Guns N' Roses                        21.3                      30.0",
      "text/html": "<div>\n<style scoped>\n    .dataframe tbody tr th:only-of-type {\n        vertical-align: middle;\n    }\n\n    .dataframe tbody tr th {\n        vertical-align: top;\n    }\n\n    .dataframe thead th {\n        text-align: right;\n    }\n</style>\n<table border=\"1\" class=\"dataframe\">\n  <thead>\n    <tr style=\"text-align: right;\">\n      <th></th>\n      <th>Artist</th>\n      <th>Certified sales (millions)</th>\n      <th>Claimed sales (millions)</th>\n    </tr>\n  </thead>\n  <tbody>\n    <tr>\n      <th>26</th>\n      <td>Metallica</td>\n      <td>19.9</td>\n      <td>30.0</td>\n    </tr>\n    <tr>\n      <th>27</th>\n      <td>Nirvana</td>\n      <td>16.7</td>\n      <td>30.0</td>\n    </tr>\n    <tr>\n      <th>28</th>\n      <td>Pink Floyd</td>\n      <td>17.6</td>\n      <td>30.0</td>\n    </tr>\n    <tr>\n      <th>29</th>\n      <td>Santana</td>\n      <td>20.5</td>\n      <td>30.0</td>\n    </tr>\n    <tr>\n      <th>30</th>\n      <td>Guns N' Roses</td>\n      <td>21.3</td>\n      <td>30.0</td>\n    </tr>\n  </tbody>\n</table>\n</div>"
     },
     "execution_count": 102,
     "metadata": {},
     "output_type": "execute_result"
    }
   ],
   "source": [
    "hit_albums.dropna().tail()"
   ]
  },
  {
   "cell_type": "markdown",
   "metadata": {
    "pycharm": {
     "name": "#%% md\n"
    }
   },
   "source": [
    "However, that's pretty aggressive here – we're dropping more than half of our dataset. We could also just remove the claimed sales. \n",
    "\n",
    "An alternative would be to fill the missing values with our best guess: \n",
    "We can use the [`fillna()`](https://pandas.pydata.org/pandas-docs/stable/reference/api/pandas.DataFrame.fillna.html) on it.\n",
    "\n",
    "We could replace all NaN values with 0s: "
   ]
  },
  {
   "cell_type": "code",
   "execution_count": 103,
   "metadata": {
    "pycharm": {
     "name": "#%%\n"
    }
   },
   "outputs": [
    {
     "data": {
      "text/plain": "             Artist  Certified sales (millions)  Claimed sales (millions)\n72    Tracy Chapman                        20.0                       0.0\n73            Usher                        20.0                       0.0\n74  Various artists                        20.0                       0.0\n75  Whitney Houston                        20.0                       0.0\n76          Shakira                        20.0                       0.0",
      "text/html": "<div>\n<style scoped>\n    .dataframe tbody tr th:only-of-type {\n        vertical-align: middle;\n    }\n\n    .dataframe tbody tr th {\n        vertical-align: top;\n    }\n\n    .dataframe thead th {\n        text-align: right;\n    }\n</style>\n<table border=\"1\" class=\"dataframe\">\n  <thead>\n    <tr style=\"text-align: right;\">\n      <th></th>\n      <th>Artist</th>\n      <th>Certified sales (millions)</th>\n      <th>Claimed sales (millions)</th>\n    </tr>\n  </thead>\n  <tbody>\n    <tr>\n      <th>72</th>\n      <td>Tracy Chapman</td>\n      <td>20.0</td>\n      <td>0.0</td>\n    </tr>\n    <tr>\n      <th>73</th>\n      <td>Usher</td>\n      <td>20.0</td>\n      <td>0.0</td>\n    </tr>\n    <tr>\n      <th>74</th>\n      <td>Various artists</td>\n      <td>20.0</td>\n      <td>0.0</td>\n    </tr>\n    <tr>\n      <th>75</th>\n      <td>Whitney Houston</td>\n      <td>20.0</td>\n      <td>0.0</td>\n    </tr>\n    <tr>\n      <th>76</th>\n      <td>Shakira</td>\n      <td>20.0</td>\n      <td>0.0</td>\n    </tr>\n  </tbody>\n</table>\n</div>"
     },
     "execution_count": 103,
     "metadata": {},
     "output_type": "execute_result"
    }
   ],
   "source": [
    "hit_albums.fillna(0).tail()"
   ]
  },
  {
   "cell_type": "markdown",
   "metadata": {
    "pycharm": {
     "name": "#%% md\n"
    }
   },
   "source": [
    "Thought it's probably better to use the forward fill (`ffill`) method here. By default, `ffill` will use the value of the previous row to fill a NaN value: "
   ]
  },
  {
   "cell_type": "code",
   "execution_count": 104,
   "metadata": {
    "pycharm": {
     "name": "#%%\n"
    }
   },
   "outputs": [
    {
     "data": {
      "text/plain": "             Artist  Certified sales (millions)  Claimed sales (millions)\n72    Tracy Chapman                        20.0                      30.0\n73            Usher                        20.0                      30.0\n74  Various artists                        20.0                      30.0\n75  Whitney Houston                        20.0                      30.0\n76          Shakira                        20.0                      30.0",
      "text/html": "<div>\n<style scoped>\n    .dataframe tbody tr th:only-of-type {\n        vertical-align: middle;\n    }\n\n    .dataframe tbody tr th {\n        vertical-align: top;\n    }\n\n    .dataframe thead th {\n        text-align: right;\n    }\n</style>\n<table border=\"1\" class=\"dataframe\">\n  <thead>\n    <tr style=\"text-align: right;\">\n      <th></th>\n      <th>Artist</th>\n      <th>Certified sales (millions)</th>\n      <th>Claimed sales (millions)</th>\n    </tr>\n  </thead>\n  <tbody>\n    <tr>\n      <th>72</th>\n      <td>Tracy Chapman</td>\n      <td>20.0</td>\n      <td>30.0</td>\n    </tr>\n    <tr>\n      <th>73</th>\n      <td>Usher</td>\n      <td>20.0</td>\n      <td>30.0</td>\n    </tr>\n    <tr>\n      <th>74</th>\n      <td>Various artists</td>\n      <td>20.0</td>\n      <td>30.0</td>\n    </tr>\n    <tr>\n      <th>75</th>\n      <td>Whitney Houston</td>\n      <td>20.0</td>\n      <td>30.0</td>\n    </tr>\n    <tr>\n      <th>76</th>\n      <td>Shakira</td>\n      <td>20.0</td>\n      <td>30.0</td>\n    </tr>\n  </tbody>\n</table>\n</div>"
     },
     "execution_count": 104,
     "metadata": {},
     "output_type": "execute_result"
    }
   ],
   "source": [
    "hit_albums.fillna(method=\"ffill\").tail()"
   ]
  },
  {
   "cell_type": "markdown",
   "metadata": {
    "pycharm": {
     "name": "#%% md\n"
    }
   },
   "source": [
    "It probably makes more sense to use forward fill along the columns, so that the certified sales are filled into the claimed sales if necessary. We can do that by specifying `axis=1` so that `ffill` works on the columns: "
   ]
  },
  {
   "cell_type": "code",
   "execution_count": 105,
   "metadata": {
    "pycharm": {
     "name": "#%%\n"
    }
   },
   "outputs": [
    {
     "data": {
      "text/plain": "                               Artist Certified sales (millions)  \\\n0                     Michael Jackson                       45.4   \n1                               AC/DC                       25.9   \n2                          Pink Floyd                       22.7   \n3   Whitney Houston / Various artists                       27.4   \n4                           Meat Loaf                       20.6   \n..                                ...                        ...   \n72                      Tracy Chapman                       20.0   \n73                              Usher                       20.0   \n74                    Various artists                       20.0   \n75                    Whitney Houston                       20.0   \n76                            Shakira                       20.0   \n\n   Claimed sales (millions)  \n0                      65.0  \n1                      50.0  \n2                      45.0  \n3                      44.0  \n4                      43.0  \n..                      ...  \n72                     20.0  \n73                     20.0  \n74                     20.0  \n75                     20.0  \n76                     20.0  \n\n[77 rows x 3 columns]",
      "text/html": "<div>\n<style scoped>\n    .dataframe tbody tr th:only-of-type {\n        vertical-align: middle;\n    }\n\n    .dataframe tbody tr th {\n        vertical-align: top;\n    }\n\n    .dataframe thead th {\n        text-align: right;\n    }\n</style>\n<table border=\"1\" class=\"dataframe\">\n  <thead>\n    <tr style=\"text-align: right;\">\n      <th></th>\n      <th>Artist</th>\n      <th>Certified sales (millions)</th>\n      <th>Claimed sales (millions)</th>\n    </tr>\n  </thead>\n  <tbody>\n    <tr>\n      <th>0</th>\n      <td>Michael Jackson</td>\n      <td>45.4</td>\n      <td>65.0</td>\n    </tr>\n    <tr>\n      <th>1</th>\n      <td>AC/DC</td>\n      <td>25.9</td>\n      <td>50.0</td>\n    </tr>\n    <tr>\n      <th>2</th>\n      <td>Pink Floyd</td>\n      <td>22.7</td>\n      <td>45.0</td>\n    </tr>\n    <tr>\n      <th>3</th>\n      <td>Whitney Houston / Various artists</td>\n      <td>27.4</td>\n      <td>44.0</td>\n    </tr>\n    <tr>\n      <th>4</th>\n      <td>Meat Loaf</td>\n      <td>20.6</td>\n      <td>43.0</td>\n    </tr>\n    <tr>\n      <th>...</th>\n      <td>...</td>\n      <td>...</td>\n      <td>...</td>\n    </tr>\n    <tr>\n      <th>72</th>\n      <td>Tracy Chapman</td>\n      <td>20.0</td>\n      <td>20.0</td>\n    </tr>\n    <tr>\n      <th>73</th>\n      <td>Usher</td>\n      <td>20.0</td>\n      <td>20.0</td>\n    </tr>\n    <tr>\n      <th>74</th>\n      <td>Various artists</td>\n      <td>20.0</td>\n      <td>20.0</td>\n    </tr>\n    <tr>\n      <th>75</th>\n      <td>Whitney Houston</td>\n      <td>20.0</td>\n      <td>20.0</td>\n    </tr>\n    <tr>\n      <th>76</th>\n      <td>Shakira</td>\n      <td>20.0</td>\n      <td>20.0</td>\n    </tr>\n  </tbody>\n</table>\n<p>77 rows × 3 columns</p>\n</div>"
     },
     "execution_count": 105,
     "metadata": {},
     "output_type": "execute_result"
    }
   ],
   "source": [
    "# storing the result here\n",
    "hit_albums = hit_albums.fillna(axis=1, method='ffill')\n",
    "hit_albums"
   ]
  },
  {
   "cell_type": "markdown",
   "metadata": {
    "pycharm": {
     "name": "#%% md\n"
    }
   },
   "source": [
    "### 3.4 Grouping Data Frames\n",
    "\n",
    "Very often, we want to aggregate data. Given the hit-albums dataset, for example, we might want to ask how many albums each artist in that list has sold in total. We can do these aggregations using the [group-by method](https://pandas.pydata.org/pandas-docs/stable/user_guide/groupby.html). "
   ]
  },
  {
   "cell_type": "markdown",
   "metadata": {
    "pycharm": {
     "name": "#%% md\n"
    }
   },
   "source": [
    "We can specify a column to group by, for example, \"Artist\". We can look at the groups created:"
   ]
  },
  {
   "cell_type": "code",
   "execution_count": 106,
   "metadata": {
    "pycharm": {
     "name": "#%%\n"
    }
   },
   "outputs": [
    {
     "data": {
      "text/plain": "{'ABBA': [31], 'AC/DC': [1], 'Ace of Base': [50], 'Adele': [20, 56], 'Alanis Morissette': [11], 'Avril Lavigne': [57], 'Backstreet Boys': [48, 49], 'Bee Gees / Various artists': [6], 'Bob Marley & The Wailers': [37], 'Bon Jovi': [32, 54], 'Boston': [58], 'Britney Spears': [35, 59], 'Bruce Springsteen': [22], 'Carole King': [38], 'Celine Dion': [12, 18], 'Cyndi Lauper': [52], 'Def Leppard': [61], 'Dire Straits': [23], 'Eagles': [5, 14], 'Eminem': [55], 'Eric Clapton': [60], 'Fleetwood Mac': [7], 'George Michael': [62], 'Green Day': [63], 'Guns N' Roses': [30], 'James Horner': [24], 'Led Zeppelin': [9], 'Linkin Park': [36], 'Lionel Richie': [64], 'Madonna': [25, 39, 40], 'Mariah Carey': [15, 41], 'Meat Loaf': [4], 'Metallica': [26], 'Michael Jackson': [0, 10, 16, 65, 66], 'Nirvana': [27], 'Norah Jones': [42], 'Oasis': [53], 'Phil Collins': [43], 'Pink Floyd': [2, 28], 'Prince & the Revolution': [67], 'Queen': [44], 'Santana': [29], 'Shakira': [76], 'Shania Twain': [8, 68, 69], 'Simon & Garfunkel': [45], 'Spice Girls': [33], 'Supertramp': [70], 'TLC': [51], 'The Beatles': [13, 19, 21], 'Tina Turner': [71], 'Tracy Chapman': [72], 'U2': [46], 'Usher': [73], 'Various artists': [17, 34, 74], 'Whitney Houston': [47, 75], 'Whitney Houston / Various artists': [3]}"
     },
     "execution_count": 106,
     "metadata": {},
     "output_type": "execute_result"
    }
   ],
   "source": [
    "grouped = hit_albums.groupby(\"Artist\")\n",
    "grouped.groups"
   ]
  },
  {
   "cell_type": "markdown",
   "metadata": {
    "pycharm": {
     "name": "#%% md\n"
    }
   },
   "source": [
    "Note that the keys map to a set of indices. For example, Michael Jackson's albums are found at indices [0, 10, 16, 65, 66].\n",
    "\n",
    "Once we have created these groups, we can specify what to do with it.\n",
    "\n",
    "Pandas has a couple of built in functions to make this easy. For example, we can just call `sum()`:"
   ]
  },
  {
   "cell_type": "code",
   "execution_count": 107,
   "metadata": {
    "pycharm": {
     "name": "#%%\n"
    }
   },
   "outputs": [
    {
     "data": {
      "text/plain": "                            Certified sales (millions)  \\\nArtist                                                   \nABBA                                              29.0   \nAC/DC                                             25.9   \nAce of Base                                       23.0   \nAdele                                             42.3   \nAlanis Morissette                                 24.8   \nAvril Lavigne                                     20.0   \nBackstreet Boys                                   48.0   \nBee Gees / Various artists                        19.0   \nBob Marley & The Wailers                          25.0   \nBon Jovi                                          49.0   \n\n                            Claimed sales (millions)  \nArtist                                                \nABBA                                            29.0  \nAC/DC                                           50.0  \nAce of Base                                     23.0  \nAdele                                           50.0  \nAlanis Morissette                               33.0  \nAvril Lavigne                                   20.0  \nBackstreet Boys                                 48.0  \nBee Gees / Various artists                      40.0  \nBob Marley & The Wailers                        25.0  \nBon Jovi                                        49.0  ",
      "text/html": "<div>\n<style scoped>\n    .dataframe tbody tr th:only-of-type {\n        vertical-align: middle;\n    }\n\n    .dataframe tbody tr th {\n        vertical-align: top;\n    }\n\n    .dataframe thead th {\n        text-align: right;\n    }\n</style>\n<table border=\"1\" class=\"dataframe\">\n  <thead>\n    <tr style=\"text-align: right;\">\n      <th></th>\n      <th>Certified sales (millions)</th>\n      <th>Claimed sales (millions)</th>\n    </tr>\n    <tr>\n      <th>Artist</th>\n      <th></th>\n      <th></th>\n    </tr>\n  </thead>\n  <tbody>\n    <tr>\n      <th>ABBA</th>\n      <td>29.0</td>\n      <td>29.0</td>\n    </tr>\n    <tr>\n      <th>AC/DC</th>\n      <td>25.9</td>\n      <td>50.0</td>\n    </tr>\n    <tr>\n      <th>Ace of Base</th>\n      <td>23.0</td>\n      <td>23.0</td>\n    </tr>\n    <tr>\n      <th>Adele</th>\n      <td>42.3</td>\n      <td>50.0</td>\n    </tr>\n    <tr>\n      <th>Alanis Morissette</th>\n      <td>24.8</td>\n      <td>33.0</td>\n    </tr>\n    <tr>\n      <th>Avril Lavigne</th>\n      <td>20.0</td>\n      <td>20.0</td>\n    </tr>\n    <tr>\n      <th>Backstreet Boys</th>\n      <td>48.0</td>\n      <td>48.0</td>\n    </tr>\n    <tr>\n      <th>Bee Gees / Various artists</th>\n      <td>19.0</td>\n      <td>40.0</td>\n    </tr>\n    <tr>\n      <th>Bob Marley &amp; The Wailers</th>\n      <td>25.0</td>\n      <td>25.0</td>\n    </tr>\n    <tr>\n      <th>Bon Jovi</th>\n      <td>49.0</td>\n      <td>49.0</td>\n    </tr>\n  </tbody>\n</table>\n</div>"
     },
     "execution_count": 107,
     "metadata": {},
     "output_type": "execute_result"
    }
   ],
   "source": [
    "grouped.sum().head(10)"
   ]
  },
  {
   "cell_type": "markdown",
   "metadata": {
    "pycharm": {
     "name": "#%% md\n"
    }
   },
   "source": [
    "We can see here that we've summed up the data for each column. However, note that NaN plus some number is still NaN, which is treated as 0 here. So let's work with a slice of the dataframe instead. \n"
   ]
  },
  {
   "cell_type": "markdown",
   "metadata": {
    "pycharm": {
     "name": "#%% md\n"
    }
   },
   "source": [
    "Now we sort them, and have a nice result:"
   ]
  },
  {
   "cell_type": "code",
   "execution_count": 108,
   "metadata": {
    "pycharm": {
     "name": "#%%\n"
    }
   },
   "outputs": [
    {
     "data": {
      "text/plain": "                 Certified sales (millions)  Claimed sales (millions)\nArtist                                                               \nMichael Jackson                       123.3                     171.0\nShania Twain                           69.6                      79.0\nMadonna                                69.4                      80.0\nVarious artists                        65.9                      80.0\nEagles                                 53.7                      74.0",
      "text/html": "<div>\n<style scoped>\n    .dataframe tbody tr th:only-of-type {\n        vertical-align: middle;\n    }\n\n    .dataframe tbody tr th {\n        vertical-align: top;\n    }\n\n    .dataframe thead th {\n        text-align: right;\n    }\n</style>\n<table border=\"1\" class=\"dataframe\">\n  <thead>\n    <tr style=\"text-align: right;\">\n      <th></th>\n      <th>Certified sales (millions)</th>\n      <th>Claimed sales (millions)</th>\n    </tr>\n    <tr>\n      <th>Artist</th>\n      <th></th>\n      <th></th>\n    </tr>\n  </thead>\n  <tbody>\n    <tr>\n      <th>Michael Jackson</th>\n      <td>123.3</td>\n      <td>171.0</td>\n    </tr>\n    <tr>\n      <th>Shania Twain</th>\n      <td>69.6</td>\n      <td>79.0</td>\n    </tr>\n    <tr>\n      <th>Madonna</th>\n      <td>69.4</td>\n      <td>80.0</td>\n    </tr>\n    <tr>\n      <th>Various artists</th>\n      <td>65.9</td>\n      <td>80.0</td>\n    </tr>\n    <tr>\n      <th>Eagles</th>\n      <td>53.7</td>\n      <td>74.0</td>\n    </tr>\n  </tbody>\n</table>\n</div>"
     },
     "execution_count": 108,
     "metadata": {},
     "output_type": "execute_result"
    }
   ],
   "source": [
    "grouped.sum().sort_values(\"Certified sales (millions)\", ascending=False).head()"
   ]
  },
  {
   "cell_type": "markdown",
   "metadata": {
    "pycharm": {
     "name": "#%% md\n"
    }
   },
   "source": [
    "An alternative is the `count` method. "
   ]
  },
  {
   "cell_type": "code",
   "execution_count": 109,
   "metadata": {
    "pycharm": {
     "name": "#%%\n"
    }
   },
   "outputs": [
    {
     "data": {
      "text/plain": "                 Certified sales (millions)  Claimed sales (millions)\nArtist                                                               \nMichael Jackson                           5                         5\nVarious artists                           3                         3\nMadonna                                   3                         3\nShania Twain                              3                         3\nThe Beatles                               3                         3\nPink Floyd                                2                         2\nWhitney Houston                           2                         2\nAdele                                     2                         2\nMariah Carey                              2                         2\nBackstreet Boys                           2                         2",
      "text/html": "<div>\n<style scoped>\n    .dataframe tbody tr th:only-of-type {\n        vertical-align: middle;\n    }\n\n    .dataframe tbody tr th {\n        vertical-align: top;\n    }\n\n    .dataframe thead th {\n        text-align: right;\n    }\n</style>\n<table border=\"1\" class=\"dataframe\">\n  <thead>\n    <tr style=\"text-align: right;\">\n      <th></th>\n      <th>Certified sales (millions)</th>\n      <th>Claimed sales (millions)</th>\n    </tr>\n    <tr>\n      <th>Artist</th>\n      <th></th>\n      <th></th>\n    </tr>\n  </thead>\n  <tbody>\n    <tr>\n      <th>Michael Jackson</th>\n      <td>5</td>\n      <td>5</td>\n    </tr>\n    <tr>\n      <th>Various artists</th>\n      <td>3</td>\n      <td>3</td>\n    </tr>\n    <tr>\n      <th>Madonna</th>\n      <td>3</td>\n      <td>3</td>\n    </tr>\n    <tr>\n      <th>Shania Twain</th>\n      <td>3</td>\n      <td>3</td>\n    </tr>\n    <tr>\n      <th>The Beatles</th>\n      <td>3</td>\n      <td>3</td>\n    </tr>\n    <tr>\n      <th>Pink Floyd</th>\n      <td>2</td>\n      <td>2</td>\n    </tr>\n    <tr>\n      <th>Whitney Houston</th>\n      <td>2</td>\n      <td>2</td>\n    </tr>\n    <tr>\n      <th>Adele</th>\n      <td>2</td>\n      <td>2</td>\n    </tr>\n    <tr>\n      <th>Mariah Carey</th>\n      <td>2</td>\n      <td>2</td>\n    </tr>\n    <tr>\n      <th>Backstreet Boys</th>\n      <td>2</td>\n      <td>2</td>\n    </tr>\n  </tbody>\n</table>\n</div>"
     },
     "execution_count": 109,
     "metadata": {},
     "output_type": "execute_result"
    }
   ],
   "source": [
    "grouped.count().sort_values(\"Certified sales (millions)\", ascending=False).head(10)"
   ]
  },
  {
   "cell_type": "markdown",
   "metadata": {
    "pycharm": {
     "name": "#%% md\n"
    }
   },
   "source": [
    " A very generic solution is the `agg()` function, which we can pass a function to do things with the data:"
   ]
  },
  {
   "cell_type": "code",
   "execution_count": 110,
   "metadata": {
    "scrolled": true,
    "pycharm": {
     "name": "#%%\n"
    }
   },
   "outputs": [
    {
     "data": {
      "text/plain": "                   Certified sales (millions)  Claimed sales (millions)\nArtist                                                                 \nABBA                                     29.0                      29.0\nAC/DC                                    25.9                      50.0\nAce of Base                              23.0                      23.0\nAdele                                    42.3                      50.0\nAlanis Morissette                        24.8                      33.0",
      "text/html": "<div>\n<style scoped>\n    .dataframe tbody tr th:only-of-type {\n        vertical-align: middle;\n    }\n\n    .dataframe tbody tr th {\n        vertical-align: top;\n    }\n\n    .dataframe thead th {\n        text-align: right;\n    }\n</style>\n<table border=\"1\" class=\"dataframe\">\n  <thead>\n    <tr style=\"text-align: right;\">\n      <th></th>\n      <th>Certified sales (millions)</th>\n      <th>Claimed sales (millions)</th>\n    </tr>\n    <tr>\n      <th>Artist</th>\n      <th></th>\n      <th></th>\n    </tr>\n  </thead>\n  <tbody>\n    <tr>\n      <th>ABBA</th>\n      <td>29.0</td>\n      <td>29.0</td>\n    </tr>\n    <tr>\n      <th>AC/DC</th>\n      <td>25.9</td>\n      <td>50.0</td>\n    </tr>\n    <tr>\n      <th>Ace of Base</th>\n      <td>23.0</td>\n      <td>23.0</td>\n    </tr>\n    <tr>\n      <th>Adele</th>\n      <td>42.3</td>\n      <td>50.0</td>\n    </tr>\n    <tr>\n      <th>Alanis Morissette</th>\n      <td>24.8</td>\n      <td>33.0</td>\n    </tr>\n  </tbody>\n</table>\n</div>"
     },
     "execution_count": 110,
     "metadata": {},
     "output_type": "execute_result"
    }
   ],
   "source": [
    "#here we pass the sum function, which calcualtes the sum of a list, to the group\n",
    "grouped.agg(sum).head()"
   ]
  },
  {
   "cell_type": "markdown",
   "metadata": {
    "pycharm": {
     "name": "#%% md\n"
    }
   },
   "source": [
    "We can also pass in numpy functions. "
   ]
  },
  {
   "cell_type": "code",
   "execution_count": 111,
   "metadata": {
    "pycharm": {
     "name": "#%%\n"
    }
   },
   "outputs": [
    {
     "data": {
      "text/plain": "                                   Certified sales (millions)  \\\nArtist                                                          \nMichael Jackson                                          45.4   \nEagles                                                   32.2   \nShania Twain                                             29.6   \nABBA                                                     29.0   \nLed Zeppelin                                             29.0   \nBritney Spears                                           28.0   \nVarious artists                                          28.0   \nSpice Girls                                              28.0   \nBon Jovi                                                 28.0   \nFleetwood Mac                                            27.9   \nWhitney Houston / Various artists                        27.4   \nLinkin Park                                              27.0   \nAC/DC                                                    25.9   \nPhil Collins                                             25.0   \nCarole King                                              25.0   \nQueen                                                    25.0   \nMariah Carey                                             25.0   \nWhitney Houston                                          25.0   \nMadonna                                                  25.0   \nBob Marley & The Wailers                                 25.0   \n\n                                   Claimed sales (millions)  \nArtist                                                       \nMichael Jackson                                        65.0  \nEagles                                                 42.0  \nShania Twain                                           39.0  \nABBA                                                   29.0  \nLed Zeppelin                                           37.0  \nBritney Spears                                         28.0  \nVarious artists                                        32.0  \nSpice Girls                                            28.0  \nBon Jovi                                               28.0  \nFleetwood Mac                                          40.0  \nWhitney Houston / Various artists                      44.0  \nLinkin Park                                            27.0  \nAC/DC                                                  50.0  \nPhil Collins                                           25.0  \nCarole King                                            25.0  \nQueen                                                  25.0  \nMariah Carey                                           32.0  \nWhitney Houston                                        25.0  \nMadonna                                                30.0  \nBob Marley & The Wailers                               25.0  ",
      "text/html": "<div>\n<style scoped>\n    .dataframe tbody tr th:only-of-type {\n        vertical-align: middle;\n    }\n\n    .dataframe tbody tr th {\n        vertical-align: top;\n    }\n\n    .dataframe thead th {\n        text-align: right;\n    }\n</style>\n<table border=\"1\" class=\"dataframe\">\n  <thead>\n    <tr style=\"text-align: right;\">\n      <th></th>\n      <th>Certified sales (millions)</th>\n      <th>Claimed sales (millions)</th>\n    </tr>\n    <tr>\n      <th>Artist</th>\n      <th></th>\n      <th></th>\n    </tr>\n  </thead>\n  <tbody>\n    <tr>\n      <th>Michael Jackson</th>\n      <td>45.4</td>\n      <td>65.0</td>\n    </tr>\n    <tr>\n      <th>Eagles</th>\n      <td>32.2</td>\n      <td>42.0</td>\n    </tr>\n    <tr>\n      <th>Shania Twain</th>\n      <td>29.6</td>\n      <td>39.0</td>\n    </tr>\n    <tr>\n      <th>ABBA</th>\n      <td>29.0</td>\n      <td>29.0</td>\n    </tr>\n    <tr>\n      <th>Led Zeppelin</th>\n      <td>29.0</td>\n      <td>37.0</td>\n    </tr>\n    <tr>\n      <th>Britney Spears</th>\n      <td>28.0</td>\n      <td>28.0</td>\n    </tr>\n    <tr>\n      <th>Various artists</th>\n      <td>28.0</td>\n      <td>32.0</td>\n    </tr>\n    <tr>\n      <th>Spice Girls</th>\n      <td>28.0</td>\n      <td>28.0</td>\n    </tr>\n    <tr>\n      <th>Bon Jovi</th>\n      <td>28.0</td>\n      <td>28.0</td>\n    </tr>\n    <tr>\n      <th>Fleetwood Mac</th>\n      <td>27.9</td>\n      <td>40.0</td>\n    </tr>\n    <tr>\n      <th>Whitney Houston / Various artists</th>\n      <td>27.4</td>\n      <td>44.0</td>\n    </tr>\n    <tr>\n      <th>Linkin Park</th>\n      <td>27.0</td>\n      <td>27.0</td>\n    </tr>\n    <tr>\n      <th>AC/DC</th>\n      <td>25.9</td>\n      <td>50.0</td>\n    </tr>\n    <tr>\n      <th>Phil Collins</th>\n      <td>25.0</td>\n      <td>25.0</td>\n    </tr>\n    <tr>\n      <th>Carole King</th>\n      <td>25.0</td>\n      <td>25.0</td>\n    </tr>\n    <tr>\n      <th>Queen</th>\n      <td>25.0</td>\n      <td>25.0</td>\n    </tr>\n    <tr>\n      <th>Mariah Carey</th>\n      <td>25.0</td>\n      <td>32.0</td>\n    </tr>\n    <tr>\n      <th>Whitney Houston</th>\n      <td>25.0</td>\n      <td>25.0</td>\n    </tr>\n    <tr>\n      <th>Madonna</th>\n      <td>25.0</td>\n      <td>30.0</td>\n    </tr>\n    <tr>\n      <th>Bob Marley &amp; The Wailers</th>\n      <td>25.0</td>\n      <td>25.0</td>\n    </tr>\n  </tbody>\n</table>\n</div>"
     },
     "execution_count": 111,
     "metadata": {},
     "output_type": "execute_result"
    }
   ],
   "source": [
    "import numpy as np\n",
    "grouped.agg(np.max).sort_values(\"Certified sales (millions)\", ascending=False).head(20)"
   ]
  },
  {
   "cell_type": "markdown",
   "metadata": {
    "pycharm": {
     "name": "#%% md\n"
    }
   },
   "source": [
    "Here is an aggregation with an in-line function definition where we still create the sum, but also multiply by a million. We use a [lambda expression](https://docs.python.org/3/tutorial/controlflow.html#lambda-expressions) to define the function:"
   ]
  },
  {
   "cell_type": "code",
   "execution_count": 112,
   "metadata": {
    "pycharm": {
     "name": "#%%\n"
    }
   },
   "outputs": [
    {
     "data": {
      "text/plain": "                            Certified sales (millions)  \\\nArtist                                                   \nABBA                                        29000000.0   \nAC/DC                                       25900000.0   \nAce of Base                                 23000000.0   \nAdele                                       42300000.0   \nAlanis Morissette                           24800000.0   \nAvril Lavigne                               20000000.0   \nBackstreet Boys                             48000000.0   \nBee Gees / Various artists                  19000000.0   \nBob Marley & The Wailers                    25000000.0   \nBon Jovi                                    49000000.0   \n\n                            Claimed sales (millions)  \nArtist                                                \nABBA                                      29000000.0  \nAC/DC                                     50000000.0  \nAce of Base                               23000000.0  \nAdele                                     50000000.0  \nAlanis Morissette                         33000000.0  \nAvril Lavigne                             20000000.0  \nBackstreet Boys                           48000000.0  \nBee Gees / Various artists                40000000.0  \nBob Marley & The Wailers                  25000000.0  \nBon Jovi                                  49000000.0  ",
      "text/html": "<div>\n<style scoped>\n    .dataframe tbody tr th:only-of-type {\n        vertical-align: middle;\n    }\n\n    .dataframe tbody tr th {\n        vertical-align: top;\n    }\n\n    .dataframe thead th {\n        text-align: right;\n    }\n</style>\n<table border=\"1\" class=\"dataframe\">\n  <thead>\n    <tr style=\"text-align: right;\">\n      <th></th>\n      <th>Certified sales (millions)</th>\n      <th>Claimed sales (millions)</th>\n    </tr>\n    <tr>\n      <th>Artist</th>\n      <th></th>\n      <th></th>\n    </tr>\n  </thead>\n  <tbody>\n    <tr>\n      <th>ABBA</th>\n      <td>29000000.0</td>\n      <td>29000000.0</td>\n    </tr>\n    <tr>\n      <th>AC/DC</th>\n      <td>25900000.0</td>\n      <td>50000000.0</td>\n    </tr>\n    <tr>\n      <th>Ace of Base</th>\n      <td>23000000.0</td>\n      <td>23000000.0</td>\n    </tr>\n    <tr>\n      <th>Adele</th>\n      <td>42300000.0</td>\n      <td>50000000.0</td>\n    </tr>\n    <tr>\n      <th>Alanis Morissette</th>\n      <td>24800000.0</td>\n      <td>33000000.0</td>\n    </tr>\n    <tr>\n      <th>Avril Lavigne</th>\n      <td>20000000.0</td>\n      <td>20000000.0</td>\n    </tr>\n    <tr>\n      <th>Backstreet Boys</th>\n      <td>48000000.0</td>\n      <td>48000000.0</td>\n    </tr>\n    <tr>\n      <th>Bee Gees / Various artists</th>\n      <td>19000000.0</td>\n      <td>40000000.0</td>\n    </tr>\n    <tr>\n      <th>Bob Marley &amp; The Wailers</th>\n      <td>25000000.0</td>\n      <td>25000000.0</td>\n    </tr>\n    <tr>\n      <th>Bon Jovi</th>\n      <td>49000000.0</td>\n      <td>49000000.0</td>\n    </tr>\n  </tbody>\n</table>\n</div>"
     },
     "execution_count": 112,
     "metadata": {},
     "output_type": "execute_result"
    }
   ],
   "source": [
    "grouped.agg(lambda rows : sum([cell * 1000000 for cell in rows])).head(10)"
   ]
  },
  {
   "cell_type": "markdown",
   "metadata": {
    "pycharm": {
     "name": "#%% md\n"
    }
   },
   "source": [
    "Lambda expressions are just a different way of defining a function in line, without assigning it a name. They only work for a single statement. \n",
    "\n",
    "Here is a simple lambda expression, which returns a function, which we assign to the variable add:"
   ]
  },
  {
   "cell_type": "code",
   "execution_count": 113,
   "metadata": {
    "pycharm": {
     "name": "#%%\n"
    }
   },
   "outputs": [],
   "source": [
    "add = lambda a, b : a+b"
   ]
  },
  {
   "cell_type": "code",
   "execution_count": 114,
   "metadata": {
    "pycharm": {
     "name": "#%%\n"
    }
   },
   "outputs": [
    {
     "data": {
      "text/plain": "5"
     },
     "execution_count": 114,
     "metadata": {},
     "output_type": "execute_result"
    }
   ],
   "source": [
    "add(2, 3)"
   ]
  },
  {
   "cell_type": "markdown",
   "metadata": {
    "pycharm": {
     "name": "#%% md\n"
    }
   },
   "source": [
    "So, let's take this apart: \n",
    "\n",
    "```python noexec\n",
    "[cell * 1000000 for cell in rows]\n",
    "```\n",
    "\n",
    "This part is a list comprehension, that takes an array `rows` and multiplies every element with 1,000,000. \n",
    "\n",
    "The surrounding `sum` is a call to the sum function, so adds up the values in the just modified array. \n",
    "\n",
    "And finally, the lambda expression packs all of this in a function. \n",
    "\n",
    "Here is a different, longer way to write this: "
   ]
  },
  {
   "cell_type": "code",
   "execution_count": 115,
   "metadata": {
    "pycharm": {
     "name": "#%%\n"
    }
   },
   "outputs": [
    {
     "data": {
      "text/plain": "                            Certified sales (millions)  \\\nArtist                                                   \nABBA                                        29000000.0   \nAC/DC                                       25900000.0   \nAce of Base                                 23000000.0   \nAdele                                       42300000.0   \nAlanis Morissette                           24800000.0   \nAvril Lavigne                               20000000.0   \nBackstreet Boys                             48000000.0   \nBee Gees / Various artists                  19000000.0   \nBob Marley & The Wailers                    25000000.0   \nBon Jovi                                    49000000.0   \n\n                            Claimed sales (millions)  \nArtist                                                \nABBA                                      29000000.0  \nAC/DC                                     50000000.0  \nAce of Base                               23000000.0  \nAdele                                     50000000.0  \nAlanis Morissette                         33000000.0  \nAvril Lavigne                             20000000.0  \nBackstreet Boys                           48000000.0  \nBee Gees / Various artists                40000000.0  \nBob Marley & The Wailers                  25000000.0  \nBon Jovi                                  49000000.0  ",
      "text/html": "<div>\n<style scoped>\n    .dataframe tbody tr th:only-of-type {\n        vertical-align: middle;\n    }\n\n    .dataframe tbody tr th {\n        vertical-align: top;\n    }\n\n    .dataframe thead th {\n        text-align: right;\n    }\n</style>\n<table border=\"1\" class=\"dataframe\">\n  <thead>\n    <tr style=\"text-align: right;\">\n      <th></th>\n      <th>Certified sales (millions)</th>\n      <th>Claimed sales (millions)</th>\n    </tr>\n    <tr>\n      <th>Artist</th>\n      <th></th>\n      <th></th>\n    </tr>\n  </thead>\n  <tbody>\n    <tr>\n      <th>ABBA</th>\n      <td>29000000.0</td>\n      <td>29000000.0</td>\n    </tr>\n    <tr>\n      <th>AC/DC</th>\n      <td>25900000.0</td>\n      <td>50000000.0</td>\n    </tr>\n    <tr>\n      <th>Ace of Base</th>\n      <td>23000000.0</td>\n      <td>23000000.0</td>\n    </tr>\n    <tr>\n      <th>Adele</th>\n      <td>42300000.0</td>\n      <td>50000000.0</td>\n    </tr>\n    <tr>\n      <th>Alanis Morissette</th>\n      <td>24800000.0</td>\n      <td>33000000.0</td>\n    </tr>\n    <tr>\n      <th>Avril Lavigne</th>\n      <td>20000000.0</td>\n      <td>20000000.0</td>\n    </tr>\n    <tr>\n      <th>Backstreet Boys</th>\n      <td>48000000.0</td>\n      <td>48000000.0</td>\n    </tr>\n    <tr>\n      <th>Bee Gees / Various artists</th>\n      <td>19000000.0</td>\n      <td>40000000.0</td>\n    </tr>\n    <tr>\n      <th>Bob Marley &amp; The Wailers</th>\n      <td>25000000.0</td>\n      <td>25000000.0</td>\n    </tr>\n    <tr>\n      <th>Bon Jovi</th>\n      <td>49000000.0</td>\n      <td>49000000.0</td>\n    </tr>\n  </tbody>\n</table>\n</div>"
     },
     "execution_count": 115,
     "metadata": {},
     "output_type": "execute_result"
    }
   ],
   "source": [
    "def sumUpAndMultiplyByMillion(rows):\n",
    "    multiplied_rows = [cell * 1000000 for cell in rows]\n",
    "    summed_value = sum(multiplied_rows)\n",
    "    return summed_value\n",
    "\n",
    "grouped.agg(sumUpAndMultiplyByMillion).head(10)"
   ]
  },
  {
   "cell_type": "markdown",
   "metadata": {
    "pycharm": {
     "name": "#%% md\n"
    }
   },
   "source": [
    "## 4. A note on buit-in Plotting\n",
    "\n",
    "Dataframes have built-in plotting capabilities based on the [matplotlib](http://matplotlib.org/) library. Refer to the data visualization notebook for all capabilities of plotting with Pandas.\n",
    "\n",
    "First, we have to import the matplotlib library, and tell Jupyter to display the images directly here:"
   ]
  },
  {
   "cell_type": "code",
   "execution_count": 116,
   "metadata": {
    "pycharm": {
     "name": "#%%\n"
    }
   },
   "outputs": [],
   "source": [
    "import matplotlib\n",
    "import matplotlib.pyplot as plt\n",
    "plt.style.use('ggplot')\n",
    "# This next line tells jupyter to render the images inline\n",
    "%matplotlib inline"
   ]
  },
  {
   "cell_type": "markdown",
   "metadata": {
    "pycharm": {
     "name": "#%% md\n"
    }
   },
   "source": [
    "Then we can simply call the plot attribute:"
   ]
  },
  {
   "cell_type": "code",
   "execution_count": 117,
   "metadata": {
    "pycharm": {
     "name": "#%%\n"
    }
   },
   "outputs": [
    {
     "data": {
      "text/plain": "<AxesSubplot:>"
     },
     "execution_count": 117,
     "metadata": {},
     "output_type": "execute_result"
    },
    {
     "data": {
      "text/plain": "<Figure size 432x288 with 1 Axes>",
      "image/png": "[encoded data removed]"
     },
     "metadata": {
      "needs_background": "light"
     },
     "output_type": "display_data"
    }
   ],
   "source": [
    "hit_albums.plot()"
   ]
  },
  {
   "cell_type": "markdown",
   "metadata": {
    "pycharm": {
     "name": "#%% md\n"
    }
   },
   "source": [
    "We can also selected certain columns using labelled indexes and then plot."
   ]
  },
  {
   "cell_type": "code",
   "execution_count": 118,
   "metadata": {
    "pycharm": {
     "name": "#%%\n"
    }
   },
   "outputs": [
    {
     "data": {
      "text/plain": "<AxesSubplot:>"
     },
     "execution_count": 118,
     "metadata": {},
     "output_type": "execute_result"
    },
    {
     "data": {
      "text/plain": "<Figure size 432x288 with 1 Axes>",
      "image/png": "[encoded data removed]"
     },
     "metadata": {
      "needs_background": "light"
     },
     "output_type": "display_data"
    }
   ],
   "source": [
    "hit_albums[\"Certified sales (millions)\"].plot()"
   ]
  },
  {
   "cell_type": "markdown",
   "metadata": {
    "pycharm": {
     "name": "#%% md\n"
    }
   },
   "source": [
    "We can also use bar-charts instead of line-charts:"
   ]
  },
  {
   "cell_type": "code",
   "execution_count": 119,
   "metadata": {
    "pycharm": {
     "name": "#%%\n"
    }
   },
   "outputs": [
    {
     "data": {
      "text/plain": "<AxesSubplot:>"
     },
     "execution_count": 119,
     "metadata": {},
     "output_type": "execute_result"
    },
    {
     "data": {
      "text/plain": "<Figure size 432x288 with 1 Axes>",
      "image/png": "[encoded data removed]"
     },
     "metadata": {
      "needs_background": "light"
     },
     "output_type": "display_data"
    }
   ],
   "source": [
    "hit_albums[[\"Certified sales (millions)\", \"Claimed sales (millions)\"]].plot(kind=\"bar\")"
   ]
  },
  {
   "cell_type": "markdown",
   "metadata": {
    "pycharm": {
     "name": "#%% md\n"
    }
   },
   "source": [
    "The default is a line chart. This doesn't make much sense, since it's mixing index of the row with sales. We're better off plotting only the two different sales figures.\n",
    "\n",
    "A better way to compare certified and claimed sales is a scatterplot:"
   ]
  },
  {
   "cell_type": "code",
   "execution_count": 120,
   "metadata": {
    "pycharm": {
     "name": "#%%\n"
    }
   },
   "outputs": [
    {
     "data": {
      "text/plain": "<AxesSubplot:xlabel='Certified sales (millions)', ylabel='Claimed sales (millions)'>"
     },
     "execution_count": 120,
     "metadata": {},
     "output_type": "execute_result"
    },
    {
     "data": {
      "text/plain": "<Figure size 432x288 with 1 Axes>",
      "image/png": "[encoded data removed]"
     },
     "metadata": {
      "needs_background": "light"
     },
     "output_type": "display_data"
    }
   ],
   "source": [
    "# this is currently broken due to a pandas bug. \n",
    "hit_albums.plot.scatter(x=\"Certified sales (millions)\", y=\"Claimed sales (millions)\")"
   ]
  },
  {
   "cell_type": "markdown",
   "metadata": {
    "pycharm": {
     "name": "#%% md\n"
    }
   },
   "source": [
    "Or a histogram: "
   ]
  },
  {
   "cell_type": "code",
   "execution_count": 121,
   "metadata": {
    "scrolled": true,
    "pycharm": {
     "name": "#%%\n"
    }
   },
   "outputs": [
    {
     "data": {
      "text/plain": "<AxesSubplot:ylabel='Frequency'>"
     },
     "execution_count": 121,
     "metadata": {},
     "output_type": "execute_result"
    },
    {
     "data": {
      "text/plain": "<Figure size 432x288 with 1 Axes>",
      "image/png": "[encoded data removed]"
     },
     "metadata": {
      "needs_background": "light"
     },
     "output_type": "display_data"
    }
   ],
   "source": [
    "hit_albums['Certified sales (millions)'].plot.hist(bins=10, alpha=0.5)"
   ]
  },
  {
   "cell_type": "markdown",
   "metadata": {
    "collapsed": true,
    "pycharm": {
     "name": "#%% md\n"
    }
   },
   "source": [
    "Of course there is more sophisticated plotting (please follow the visualization notebook from the lectures)"
   ]
  },
  {
   "cell_type": "markdown",
   "metadata": {
    "pycharm": {
     "name": "#%% md\n"
    }
   },
   "source": [
    "## Now, you can complete the Bootcamp activity before you move to the clinic"
   ]
  }
 ],
 "metadata": {
  "anaconda-cloud": {},
  "kernelspec": {
   "display_name": "Python 3",
   "language": "python",
   "name": "python3"
  },
  "language_info": {
   "codemirror_mode": {
    "name": "ipython",
    "version": 3
   },
   "file_extension": ".py",
   "mimetype": "text/x-python",
   "name": "python",
   "nbconvert_exporter": "python",
   "pygments_lexer": "ipython3",
   "version": "3.8.3"
  },
  "nbpresent": {
   "slides": {
    "19a6495f-8346-4b23-a98a-c7115941e8f0": {
     "id": "19a6495f-8346-4b23-a98a-c7115941e8f0",
     "prev": null,
     "regions": {
      "d6523b36-7204-4001-8a6c-37c431b18d26": {
       "attrs": {
        "height": 1,
        "width": 1,
        "x": 0,
        "y": 0
       },
       "id": "d6523b36-7204-4001-8a6c-37c431b18d26"
      }
     }
    }
   },
   "themes": {}
  }
 },
 "nbformat": 4,
 "nbformat_minor": 1
}