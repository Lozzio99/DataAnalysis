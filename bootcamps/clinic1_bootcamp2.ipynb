{
 "cells": [
  {
   "cell_type": "markdown",
   "metadata": {
    "pycharm": {
     "name": "#%% md\n"
    }
   },
   "source": [
    "Add your information below and submit the file via canvas (till the end of the day) to claim points for the participation point.\n",
    "\n",
    "**Name**: \n",
    "\n",
    "**Group number**:\n",
    "\n",
    "**Collaborators**:"
   ]
  },
  {
   "cell_type": "markdown",
   "metadata": {
    "pycharm": {
     "name": "#%% md\n"
    }
   },
   "source": [
    "## Bootcamp B2: Pandas Example"
   ]
  },
  {
   "cell_type": "code",
   "execution_count": 2,
   "metadata": {
    "pycharm": {
     "name": "#%%\n"
    }
   },
   "outputs": [
    {
     "data": {
      "text/plain": "                              Artist                      Album  Released  \\\n0                    Michael Jackson                   Thriller      1982   \n1                              AC/DC              Back in Black      1980   \n2                         Pink Floyd  The Dark Side of the Moon      1973   \n3  Whitney Houston / Various artists              The Bodyguard      1992   \n4                          Meat Loaf            Bat Out of Hell      1977   \n\n                         Genre  Certified sales (millions)  \\\n0               Pop, rock, R&B                        45.4   \n1                    Hard rock                        25.9   \n2             Progressive rock                        22.7   \n3    Soundtrack/R&B, soul, pop                        27.4   \n4  Hard rock, progressive rock                        20.6   \n\n   Claimed sales (millions)  \n0                      65.0  \n1                      50.0  \n2                      45.0  \n3                      44.0  \n4                      43.0  ",
      "text/html": "<div>\n<style scoped>\n    .dataframe tbody tr th:only-of-type {\n        vertical-align: middle;\n    }\n\n    .dataframe tbody tr th {\n        vertical-align: top;\n    }\n\n    .dataframe thead th {\n        text-align: right;\n    }\n</style>\n<table border=\"1\" class=\"dataframe\">\n  <thead>\n    <tr style=\"text-align: right;\">\n      <th></th>\n      <th>Artist</th>\n      <th>Album</th>\n      <th>Released</th>\n      <th>Genre</th>\n      <th>Certified sales (millions)</th>\n      <th>Claimed sales (millions)</th>\n    </tr>\n  </thead>\n  <tbody>\n    <tr>\n      <th>0</th>\n      <td>Michael Jackson</td>\n      <td>Thriller</td>\n      <td>1982</td>\n      <td>Pop, rock, R&amp;B</td>\n      <td>45.4</td>\n      <td>65.0</td>\n    </tr>\n    <tr>\n      <th>1</th>\n      <td>AC/DC</td>\n      <td>Back in Black</td>\n      <td>1980</td>\n      <td>Hard rock</td>\n      <td>25.9</td>\n      <td>50.0</td>\n    </tr>\n    <tr>\n      <th>2</th>\n      <td>Pink Floyd</td>\n      <td>The Dark Side of the Moon</td>\n      <td>1973</td>\n      <td>Progressive rock</td>\n      <td>22.7</td>\n      <td>45.0</td>\n    </tr>\n    <tr>\n      <th>3</th>\n      <td>Whitney Houston / Various artists</td>\n      <td>The Bodyguard</td>\n      <td>1992</td>\n      <td>Soundtrack/R&amp;B, soul, pop</td>\n      <td>27.4</td>\n      <td>44.0</td>\n    </tr>\n    <tr>\n      <th>4</th>\n      <td>Meat Loaf</td>\n      <td>Bat Out of Hell</td>\n      <td>1977</td>\n      <td>Hard rock, progressive rock</td>\n      <td>20.6</td>\n      <td>43.0</td>\n    </tr>\n  </tbody>\n</table>\n</div>"
     },
     "execution_count": 2,
     "metadata": {},
     "output_type": "execute_result"
    }
   ],
   "source": [
    "import pandas as pd\n",
    "hit_albums = pd.read_csv(\"hit_albums.csv\")\n",
    "hit_albums.head()"
   ]
  },
  {
   "cell_type": "markdown",
   "metadata": {
    "pycharm": {
     "name": "#%% md\n"
    }
   },
   "source": [
    "- Calculate the mean certified sales for all albums."
   ]
  },
  {
   "cell_type": "code",
   "execution_count": 5,
   "metadata": {
    "pycharm": {
     "name": "#%%\n"
    }
   },
   "outputs": [
    {
     "name": "stdout",
     "output_type": "stream",
     "text": [
      "22.40909090909091\n"
     ]
    }
   ],
   "source": [
    "from numpy import mean\n",
    "\n",
    "certified_sales = hit_albums[\"Certified sales (millions)\"]\n",
    "avg = mean(certified_sales)\n",
    "print(avg)"
   ]
  },
  {
   "cell_type": "markdown",
   "metadata": {
    "pycharm": {
     "name": "#%% md\n"
    }
   },
   "source": [
    "- Create a new dataframe that only contains albums with more than 20 million certified sales."
   ]
  },
  {
   "cell_type": "code",
   "execution_count": 9,
   "metadata": {
    "pycharm": {
     "name": "#%%\n"
    }
   },
   "outputs": [
    {
     "data": {
      "text/plain": "                              Artist                      Album  Released  \\\n0                    Michael Jackson                   Thriller      1982   \n1                              AC/DC              Back in Black      1980   \n2                         Pink Floyd  The Dark Side of the Moon      1973   \n3  Whitney Houston / Various artists              The Bodyguard      1992   \n4                          Meat Loaf            Bat Out of Hell      1977   \n\n                         Genre  Certified sales (millions)  \\\n0               Pop, rock, R&B                        45.4   \n1                    Hard rock                        25.9   \n2             Progressive rock                        22.7   \n3    Soundtrack/R&B, soul, pop                        27.4   \n4  Hard rock, progressive rock                        20.6   \n\n   Claimed sales (millions)  \n0                      65.0  \n1                      50.0  \n2                      45.0  \n3                      44.0  \n4                      43.0  ",
      "text/html": "<div>\n<style scoped>\n    .dataframe tbody tr th:only-of-type {\n        vertical-align: middle;\n    }\n\n    .dataframe tbody tr th {\n        vertical-align: top;\n    }\n\n    .dataframe thead th {\n        text-align: right;\n    }\n</style>\n<table border=\"1\" class=\"dataframe\">\n  <thead>\n    <tr style=\"text-align: right;\">\n      <th></th>\n      <th>Artist</th>\n      <th>Album</th>\n      <th>Released</th>\n      <th>Genre</th>\n      <th>Certified sales (millions)</th>\n      <th>Claimed sales (millions)</th>\n    </tr>\n  </thead>\n  <tbody>\n    <tr>\n      <th>0</th>\n      <td>Michael Jackson</td>\n      <td>Thriller</td>\n      <td>1982</td>\n      <td>Pop, rock, R&amp;B</td>\n      <td>45.4</td>\n      <td>65.0</td>\n    </tr>\n    <tr>\n      <th>1</th>\n      <td>AC/DC</td>\n      <td>Back in Black</td>\n      <td>1980</td>\n      <td>Hard rock</td>\n      <td>25.9</td>\n      <td>50.0</td>\n    </tr>\n    <tr>\n      <th>2</th>\n      <td>Pink Floyd</td>\n      <td>The Dark Side of the Moon</td>\n      <td>1973</td>\n      <td>Progressive rock</td>\n      <td>22.7</td>\n      <td>45.0</td>\n    </tr>\n    <tr>\n      <th>3</th>\n      <td>Whitney Houston / Various artists</td>\n      <td>The Bodyguard</td>\n      <td>1992</td>\n      <td>Soundtrack/R&amp;B, soul, pop</td>\n      <td>27.4</td>\n      <td>44.0</td>\n    </tr>\n    <tr>\n      <th>4</th>\n      <td>Meat Loaf</td>\n      <td>Bat Out of Hell</td>\n      <td>1977</td>\n      <td>Hard rock, progressive rock</td>\n      <td>20.6</td>\n      <td>43.0</td>\n    </tr>\n  </tbody>\n</table>\n</div>"
     },
     "execution_count": 9,
     "metadata": {},
     "output_type": "execute_result"
    }
   ],
   "source": [
    "albums_over_20m = pd.DataFrame(hit_albums[certified_sales > 20])\n",
    "albums_over_20m.head()"
   ]
  },
  {
   "cell_type": "markdown",
   "metadata": {
    "pycharm": {
     "name": "#%% md\n"
    }
   },
   "source": [
    "- Create a new dataframe based on the `hit_albums` dataset that only contains the artists that have at least two albums in the list."
   ]
  },
  {
   "cell_type": "code",
   "execution_count": 46,
   "metadata": {
    "pycharm": {
     "name": "#%%\n"
    }
   },
   "outputs": [
    {
     "data": {
      "text/plain": "    Artist\n0    False\n1    False\n2    False\n3    False\n4    False\n..     ...\n72   False\n73   False\n74   False\n75   False\n76   False\n\n[77 rows x 1 columns]",
      "text/html": "<div>\n<style scoped>\n    .dataframe tbody tr th:only-of-type {\n        vertical-align: middle;\n    }\n\n    .dataframe tbody tr th {\n        vertical-align: top;\n    }\n\n    .dataframe thead th {\n        text-align: right;\n    }\n</style>\n<table border=\"1\" class=\"dataframe\">\n  <thead>\n    <tr style=\"text-align: right;\">\n      <th></th>\n      <th>Artist</th>\n    </tr>\n  </thead>\n  <tbody>\n    <tr>\n      <th>0</th>\n      <td>False</td>\n    </tr>\n    <tr>\n      <th>1</th>\n      <td>False</td>\n    </tr>\n    <tr>\n      <th>2</th>\n      <td>False</td>\n    </tr>\n    <tr>\n      <th>3</th>\n      <td>False</td>\n    </tr>\n    <tr>\n      <th>4</th>\n      <td>False</td>\n    </tr>\n    <tr>\n      <th>...</th>\n      <td>...</td>\n    </tr>\n    <tr>\n      <th>72</th>\n      <td>False</td>\n    </tr>\n    <tr>\n      <th>73</th>\n      <td>False</td>\n    </tr>\n    <tr>\n      <th>74</th>\n      <td>False</td>\n    </tr>\n    <tr>\n      <th>75</th>\n      <td>False</td>\n    </tr>\n    <tr>\n      <th>76</th>\n      <td>False</td>\n    </tr>\n  </tbody>\n</table>\n<p>77 rows × 1 columns</p>\n</div>"
     },
     "execution_count": 46,
     "metadata": {},
     "output_type": "execute_result"
    }
   ],
   "source": [
    "artists = hit_albums['Artist'].value_counts()\n",
    "artists = artists[artists >= 2]\n",
    "df = pd.DataFrame()\n",
    "df"
   ]
  },
  {
   "cell_type": "markdown",
   "metadata": {
    "pycharm": {
     "name": "#%% md\n"
    }
   },
   "source": [
    "- Create a new dataframe that contains the aggregates sum of all certified sales for each year."
   ]
  },
  {
   "cell_type": "code",
   "execution_count": 1,
   "metadata": {
    "pycharm": {
     "name": "#%%\n"
    }
   },
   "outputs": [],
   "source": []
  }
 ],
 "metadata": {
  "anaconda-cloud": {},
  "kernelspec": {
   "display_name": "Python 3",
   "language": "python",
   "name": "python3"
  },
  "language_info": {
   "codemirror_mode": {
    "name": "ipython",
    "version": 3
   },
   "file_extension": ".py",
   "mimetype": "text/x-python",
   "name": "python",
   "nbconvert_exporter": "python",
   "pygments_lexer": "ipython3",
   "version": "3.8.3"
  },
  "nbpresent": {
   "slides": {
    "19a6495f-8346-4b23-a98a-c7115941e8f0": {
     "id": "19a6495f-8346-4b23-a98a-c7115941e8f0",
     "prev": null,
     "regions": {
      "d6523b36-7204-4001-8a6c-37c431b18d26": {
       "attrs": {
        "height": 1,
        "width": 1,
        "x": 0,
        "y": 0
       },
       "id": "d6523b36-7204-4001-8a6c-37c431b18d26"
      }
     }
    }
   },
   "themes": {}
  }
 },
 "nbformat": 4,
 "nbformat_minor": 1
}