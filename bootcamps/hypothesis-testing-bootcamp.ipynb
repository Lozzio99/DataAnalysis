{
 "cells": [
  {
   "cell_type": "markdown",
   "metadata": {
    "pycharm": {
     "name": "#%% md\n"
    }
   },
   "source": [
    "Make sure that you **all** self-enrol to the corresponding group (Bootcamp3-X*) via canvas (canvas group number *X*) <br>\n",
    "Add all names below <br>\n",
    "Only one should submit the file (till the end of the day) to claim points for the participation point. <br>\n",
    "All team members get the same number of points unless otherwise communicated to Jerry\n",
    "\n",
    "**Canvas group number**:\n",
    "\n",
    "**Collaborators**:"
   ]
  },
  {
   "cell_type": "code",
   "execution_count": 2,
   "metadata": {
    "pycharm": {
     "name": "#%%\n"
    }
   },
   "outputs": [],
   "source": [
    "#check other import packages that might be missing\n",
    "import pandas as pd\n",
    "import numpy as np\n",
    "\n",
    "import scipy as sc\n",
    "from numpy import sqrt\n",
    "from scipy.stats import bernoulli\n",
    "from scipy.stats import binom\n",
    "from scipy.stats import norm\n",
    "from scipy.stats import t\n",
    "from scipy.stats import probplot\n",
    "\n",
    "import matplotlib.pyplot as plt\n",
    "%matplotlib inline\n",
    "plt.rcParams['figure.figsize'] = (10, 6)\n",
    "plt.style.use('ggplot')\n"
   ]
  },
  {
   "cell_type": "markdown",
   "metadata": {
    "pycharm": {
     "name": "#%% md\n"
    }
   },
   "source": [
    "## A-B testing\n",
    "\n",
    "Suppose your company is developing a new logo. The art department develops two logos: ‘Logo A’ and ‘Logo B’, shown below. \n",
    "![](http://www.wired.com/wiredenterprise/wp-content/gallery/20-05/ff_abtesting_f.jpg)\n",
    "Your job is to figure out which logo is better. \n",
    "\n",
    "\n",
    "You decide to conduct the following experiment. You use Google ads to buy 2000 advertisements. In $N_A=1000$ of the ads (randomly chosen), you use Logo A and in the other $N_B=1000$ ads, you use Logo B. Then you see which logo attracts more clicks.\n",
    "\n",
    "It turns out that $n_A=500$ Logo A viewers click on the ad while $n_B=550$ Logo B viewers click on the ad. Obviously Logo B did better in this test, but is the difference *significant* enough to say that Logo B is better? Or, perhaps, Logo B just got lucky in this test? \n",
    "\n",
    "The goal of this exercise will be to conduct a two-proportion z-test (re-visit the Polio experiment from the lecture notebook) to determine if Logo B is better."
   ]
  },
  {
   "cell_type": "markdown",
   "metadata": {
    "pycharm": {
     "name": "#%% md\n"
    }
   },
   "source": [
    "### Task 1.  Formulate null hypothesis \n",
    "\n",
    "Let $p_A = n_A/N_A$ be the proportion of clicks on Logo A and similiarly $p_B$ be the proportion of clicks on Logo B. In terms of $p_A$ and $p_B$, clearly state the null and alternative hypothesis. "
   ]
  },
  {
   "cell_type": "markdown",
   "metadata": {
    "pycharm": {
     "name": "#%% md\n"
    }
   },
   "source": [
    "**Your Solution:**\n",
    "Null hypothesis is: $p_A > p_B$\n",
    "Alternative hypothesis is: $p_A \\le p_B$"
   ]
  },
  {
   "cell_type": "markdown",
   "metadata": {
    "pycharm": {
     "name": "#%% md\n"
    }
   },
   "source": [
    "### Task 2.  Perform the two-proportion z-value  test and calculate the p-value \n",
    "\n",
    "Assuming the null hypothesis, we know from lecture that the test statistic, called the *two-proportion z-value*. Find the two-proportion z-value and the p-value"
   ]
  },
  {
   "cell_type": "markdown",
   "metadata": {
    "pycharm": {
     "name": "#%% md\n"
    }
   },
   "source": [
    "**Your Solution:** TODO"
   ]
  },
  {
   "cell_type": "code",
   "execution_count": 3,
   "outputs": [
    {
     "name": "stdout",
     "output_type": "stream",
     "text": [
      "-2.238868314198227\n",
      "0.9874177571498408\n"
     ]
    }
   ],
   "source": [
    "NA = 1000; nA = 500; pA = nA/NA; muA = pA;\n",
    "NB = 1000; nB = 550; pB = nB/NB; muB = pB;\n",
    "sigmaA = sqrt(pA*(1-pA) / NA)\n",
    "sigmaB = sqrt(pB*(1-pB) / NB)\n",
    "\n",
    "phat = NA*pA/(NA+NB) + NB*pB/(NA+NB)\n",
    "qhat = 1 - phat\n",
    "z = (pA-pB) / sqrt(phat*qhat*(1/NA + 1/NB))\n",
    "print(z)\n",
    "\n",
    "p_value = 1-norm.cdf(z)\n",
    "print(p_value)"
   ],
   "metadata": {
    "collapsed": false,
    "pycharm": {
     "name": "#%%\n"
    }
   }
  },
  {
   "cell_type": "markdown",
   "metadata": {
    "pycharm": {
     "name": "#%% md\n"
    }
   },
   "source": [
    "### Task 3. Interpretation\n",
    "\n",
    "Interpret the $p$-value in this example and  state the result of the hypothesis test at the $\\alpha=5\\%$ and $\\alpha=1\\%$ significance levels. \n"
   ]
  },
  {
   "cell_type": "markdown",
   "metadata": {
    "pycharm": {
     "name": "#%% md\n"
    }
   },
   "source": [
    "**Your Interpretation:** TODO"
   ]
  }
 ],
 "metadata": {
  "kernelspec": {
   "display_name": "Python 3",
   "language": "python",
   "name": "python3"
  },
  "language_info": {
   "codemirror_mode": {
    "name": "ipython",
    "version": 3
   },
   "file_extension": ".py",
   "mimetype": "text/x-python",
   "name": "python",
   "nbconvert_exporter": "python",
   "pygments_lexer": "ipython3",
   "version": "3.8.3"
  }
 },
 "nbformat": 4,
 "nbformat_minor": 4
}